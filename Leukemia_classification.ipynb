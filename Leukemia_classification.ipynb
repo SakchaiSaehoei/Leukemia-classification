{
  "cells": [
    {
      "cell_type": "markdown",
      "id": "a08fed63",
      "metadata": {
        "id": "a08fed63"
      },
      "source": [
        "![image-2.png](attachment:image-2.png)"
      ]
    },
    {
      "cell_type": "code",
      "source": [
        "from google.colab import drive\n",
        "drive.mount('/content/drive')"
      ],
      "metadata": {
        "id": "GIfuPIL_uqdv"
      },
      "id": "GIfuPIL_uqdv",
      "execution_count": null,
      "outputs": []
    },
    {
      "cell_type": "markdown",
      "id": "64525639",
      "metadata": {
        "id": "64525639"
      },
      "source": [
        "Sources : https://www.kaggle.com/datasets/andrewmvd/leukemia-classification/data\n",
        "\n",
        "\n",
        "Data set is already splite into three folder which contain tesing_data, training_data and validation_data\n",
        "\n",
        "In this data set there are already lableded with hem and all\n",
        "hem : normal hematopoietic cell which repersent a normal healty cell\n",
        "all : Acute Lymphoblastic Leukemia (ALL) which represent a blast cell\n",
        "\n",
        "![image.png](attachment:image.png)\n",
        "\n",
        "in each fopl\n",
        "\n",
        "https://www.kaggle.com/code/ashish2001/leukemia-detection-using-efficient-net-b3"
      ]
    },
    {
      "cell_type": "code",
      "execution_count": null,
      "id": "7ee70c9e",
      "metadata": {
        "id": "7ee70c9e"
      },
      "outputs": [],
      "source": [
        "# ! pip install torchvision"
      ]
    },
    {
      "cell_type": "raw",
      "id": "2415eb88",
      "metadata": {
        "id": "2415eb88"
      },
      "source": [
        "Current file structure\n",
        "│─ C-NMC_Leukemia\n",
        "│   │─ testing_data\n",
        "│   │   │─ C-NMC_test_final_phase_data(With no lable)\n",
        "│   │\n",
        "│   │─ training_data\n",
        "│   │   │─ fold_0\n",
        "│   │   │   │─ all\n",
        "│   │   │   │─ hem\n",
        "│   │   │\n",
        "│   │   │─ fold_1\n",
        "│   │   │   │─ all\n",
        "│   │   │   │─ hem\n",
        "│   │   │\n",
        "│   │   │─ fold_2\n",
        "│   │   │   │─ all\n",
        "│   │   │   │─ hem\n",
        "│   │\n",
        "│   │─ validation_data\n",
        "│       │─ C-NMC_test_prelim_phase_data\n",
        "│       │─ C-NMC_test_prelim_phase_data_labels.csv\n",
        "\n",
        "Preferred file structure\n",
        "│─ root_dir\n",
        "│   │─ train\n",
        "│   │   │─ all\n",
        "│   │   │─ hem\n",
        "│   │\n",
        "│   │─ validation\n",
        "│   │   │─ all\n",
        "│   │   │─ hem\n",
        "│   │\n",
        "│   │─ test\n",
        "│       │─ all\n",
        "│       │─ hem"
      ]
    },
    {
      "cell_type": "code",
      "execution_count": null,
      "id": "063b35bd",
      "metadata": {
        "id": "063b35bd"
      },
      "outputs": [],
      "source": [
        "import torch\n",
        "import pandas as pd\n",
        "import glob\n",
        "import os\n",
        "import os.path as op\n",
        "import shutil\n",
        "# from glob import glob\n",
        "import pandas as pd\n",
        "import numpy as np\n",
        "import matplotlib.pyplot as plt\n",
        "from tqdm.auto import tqdm\n",
        "import pytorch_lightning as pl\n",
        "\n",
        "\n",
        "from torchvision import datasets, models, transforms\n",
        "import torchvision.transforms as T\n",
        "from torch.utils.data import DataLoader\n",
        "from sklearn.model_selection import train_test_split"
      ]
    },
    {
      "cell_type": "code",
      "execution_count": null,
      "id": "b72495e1",
      "metadata": {
        "id": "b72495e1"
      },
      "outputs": [],
      "source": [
        "# import os\n",
        "\n",
        "# def get_subfolders(folder_path):\n",
        "#     subfolders = [f.path for f in os.scandir(folder_path) if f.is_dir()]\n",
        "#     return subfolders\n",
        "\n",
        "# # Example usage:\n",
        "# folder_path = 'C-NMC_Leukemia'\n",
        "# subfolders = get_subfolders(folder_path)\n",
        "\n",
        "# print(\"Subfolders:\")\n",
        "# for subfolder in subfolders:\n",
        "#     print(subfolder)"
      ]
    },
    {
      "cell_type": "code",
      "execution_count": null,
      "id": "4d4174a0",
      "metadata": {
        "id": "4d4174a0",
        "outputId": "98023646-8e18-44e5-c69d-53cee7361b47"
      },
      "outputs": [
        {
          "name": "stdout",
          "output_type": "stream",
          "text": [
            "Deepest Paths:\n",
            "C-NMC_Leukemia/training_data/fold_0/all\n",
            "C-NMC_Leukemia/training_data/fold_0/hem\n",
            "C-NMC_Leukemia/training_data/fold_1/all\n",
            "C-NMC_Leukemia/training_data/fold_1/hem\n",
            "C-NMC_Leukemia/training_data/fold_2/all\n",
            "C-NMC_Leukemia/training_data/fold_2/hem\n"
          ]
        }
      ],
      "source": [
        "import os\n",
        "\n",
        "def find_deepest_paths(folder_path):\n",
        "    max_depth = 0\n",
        "    deepest_paths = []\n",
        "\n",
        "    for root, dirs, files in os.walk(folder_path):\n",
        "        # Calculate the depth of the current path\n",
        "        current_depth = root.count(os.sep)\n",
        "\n",
        "        # Check if it's deeper than the previous maximum\n",
        "        if current_depth > max_depth:\n",
        "            max_depth = current_depth\n",
        "            deepest_paths = [root.replace('\\\\', '/')]\n",
        "        elif current_depth == max_depth:\n",
        "            deepest_paths.append(root.replace('\\\\', '/'))\n",
        "\n",
        "    return deepest_paths\n",
        "\n",
        "# Example usage:\n",
        "folder_path = 'C-NMC_Leukemia/training_data'\n",
        "deepest_paths = find_deepest_paths(folder_path)\n",
        "\n",
        "print(\"Deepest Paths:\")\n",
        "for path in deepest_paths:\n",
        "    print(path)"
      ]
    },
    {
      "cell_type": "code",
      "execution_count": null,
      "id": "21d80e18",
      "metadata": {
        "id": "21d80e18",
        "outputId": "685b6dbd-f967-4168-fdfd-5ca93b1efb74"
      },
      "outputs": [
        {
          "name": "stdout",
          "output_type": "stream",
          "text": [
            "All List: 7272\n",
            "Hem List: 3389\n"
          ]
        }
      ],
      "source": [
        "\n",
        "def create_glob_patterns(file_paths):\n",
        "    all_list = []\n",
        "    hem_list = []\n",
        "\n",
        "    for path in file_paths:\n",
        "        _, _, fold, category = path.split('/')\n",
        "        glob_pattern = f\"{path}/*.bmp\"\n",
        "        paths_for_category = glob.glob(glob_pattern)\n",
        "\n",
        "        if 'all' in path:\n",
        "            all_list.extend(paths_for_category)\n",
        "        elif 'hem' in path:\n",
        "            hem_list.extend(paths_for_category)\n",
        "\n",
        "    return all_list, hem_list\n",
        "\n",
        "\n",
        "all_list, hem_list = create_glob_patterns(deepest_paths)\n",
        "\n",
        "# Print the results\n",
        "print(\"All List:\", len(all_list))\n",
        "print(\"Hem List:\",len( hem_list))"
      ]
    },
    {
      "cell_type": "code",
      "execution_count": null,
      "id": "d3e5951d",
      "metadata": {
        "id": "d3e5951d"
      },
      "outputs": [],
      "source": [
        "valid_data=pd.read_csv( 'C-NMC_Leukemia/validation_data/C-NMC_test_prelim_phase_data_labels.csv')\n",
        "all_v = valid_data[valid_data['labels']==1]\n",
        "hem_v = valid_data[valid_data['labels']==0]\n",
        "all_v_list = ['C-NMC_Leukemia/validation_data/C-NMC_test_prelim_phase_data/' + i for i in list(all_v.new_names) ]\n",
        "hem_v_list = ['C-NMC_Leukemia/validation_data/C-NMC_test_prelim_phase_data/' + i for i in list(hem_v.new_names) ]"
      ]
    },
    {
      "cell_type": "code",
      "execution_count": null,
      "id": "7ea5848a",
      "metadata": {
        "id": "7ea5848a",
        "outputId": "bcb694cf-f765-47cb-f527-d0d618fd1322"
      },
      "outputs": [
        {
          "name": "stdout",
          "output_type": "stream",
          "text": [
            "['C-NMC_Leukemia/validation_data/C-NMC_test_prelim_phase_data/1.bmp', 'C-NMC_Leukemia/validation_data/C-NMC_test_prelim_phase_data/2.bmp', 'C-NMC_Leukemia/validation_data/C-NMC_test_prelim_phase_data/3.bmp', 'C-NMC_Leukemia/validation_data/C-NMC_test_prelim_phase_data/5.bmp', 'C-NMC_Leukemia/validation_data/C-NMC_test_prelim_phase_data/6.bmp', 'C-NMC_Leukemia/validation_data/C-NMC_test_prelim_phase_data/9.bmp', 'C-NMC_Leukemia/validation_data/C-NMC_test_prelim_phase_data/10.bmp', 'C-NMC_Leukemia/validation_data/C-NMC_test_prelim_phase_data/11.bmp', 'C-NMC_Leukemia/validation_data/C-NMC_test_prelim_phase_data/12.bmp', 'C-NMC_Leukemia/validation_data/C-NMC_test_prelim_phase_data/15.bmp', 'C-NMC_Leukemia/validation_data/C-NMC_test_prelim_phase_data/16.bmp', 'C-NMC_Leukemia/validation_data/C-NMC_test_prelim_phase_data/17.bmp', 'C-NMC_Leukemia/validation_data/C-NMC_test_prelim_phase_data/18.bmp', 'C-NMC_Leukemia/validation_data/C-NMC_test_prelim_phase_data/19.bmp', 'C-NMC_Leukemia/validation_data/C-NMC_test_prelim_phase_data/20.bmp', 'C-NMC_Leukemia/validation_data/C-NMC_test_prelim_phase_data/22.bmp', 'C-NMC_Leukemia/validation_data/C-NMC_test_prelim_phase_data/23.bmp', 'C-NMC_Leukemia/validation_data/C-NMC_test_prelim_phase_data/25.bmp', 'C-NMC_Leukemia/validation_data/C-NMC_test_prelim_phase_data/29.bmp', 'C-NMC_Leukemia/validation_data/C-NMC_test_prelim_phase_data/32.bmp', 'C-NMC_Leukemia/validation_data/C-NMC_test_prelim_phase_data/33.bmp', 'C-NMC_Leukemia/validation_data/C-NMC_test_prelim_phase_data/34.bmp', 'C-NMC_Leukemia/validation_data/C-NMC_test_prelim_phase_data/36.bmp', 'C-NMC_Leukemia/validation_data/C-NMC_test_prelim_phase_data/37.bmp', 'C-NMC_Leukemia/validation_data/C-NMC_test_prelim_phase_data/39.bmp', 'C-NMC_Leukemia/validation_data/C-NMC_test_prelim_phase_data/40.bmp', 'C-NMC_Leukemia/validation_data/C-NMC_test_prelim_phase_data/42.bmp', 'C-NMC_Leukemia/validation_data/C-NMC_test_prelim_phase_data/44.bmp', 'C-NMC_Leukemia/validation_data/C-NMC_test_prelim_phase_data/45.bmp', 'C-NMC_Leukemia/validation_data/C-NMC_test_prelim_phase_data/46.bmp', 'C-NMC_Leukemia/validation_data/C-NMC_test_prelim_phase_data/47.bmp', 'C-NMC_Leukemia/validation_data/C-NMC_test_prelim_phase_data/48.bmp', 'C-NMC_Leukemia/validation_data/C-NMC_test_prelim_phase_data/49.bmp', 'C-NMC_Leukemia/validation_data/C-NMC_test_prelim_phase_data/51.bmp', 'C-NMC_Leukemia/validation_data/C-NMC_test_prelim_phase_data/52.bmp', 'C-NMC_Leukemia/validation_data/C-NMC_test_prelim_phase_data/53.bmp', 'C-NMC_Leukemia/validation_data/C-NMC_test_prelim_phase_data/56.bmp', 'C-NMC_Leukemia/validation_data/C-NMC_test_prelim_phase_data/58.bmp', 'C-NMC_Leukemia/validation_data/C-NMC_test_prelim_phase_data/59.bmp', 'C-NMC_Leukemia/validation_data/C-NMC_test_prelim_phase_data/62.bmp', 'C-NMC_Leukemia/validation_data/C-NMC_test_prelim_phase_data/64.bmp', 'C-NMC_Leukemia/validation_data/C-NMC_test_prelim_phase_data/65.bmp', 'C-NMC_Leukemia/validation_data/C-NMC_test_prelim_phase_data/68.bmp', 'C-NMC_Leukemia/validation_data/C-NMC_test_prelim_phase_data/70.bmp', 'C-NMC_Leukemia/validation_data/C-NMC_test_prelim_phase_data/73.bmp', 'C-NMC_Leukemia/validation_data/C-NMC_test_prelim_phase_data/74.bmp', 'C-NMC_Leukemia/validation_data/C-NMC_test_prelim_phase_data/76.bmp', 'C-NMC_Leukemia/validation_data/C-NMC_test_prelim_phase_data/78.bmp', 'C-NMC_Leukemia/validation_data/C-NMC_test_prelim_phase_data/79.bmp', 'C-NMC_Leukemia/validation_data/C-NMC_test_prelim_phase_data/80.bmp', 'C-NMC_Leukemia/validation_data/C-NMC_test_prelim_phase_data/83.bmp', 'C-NMC_Leukemia/validation_data/C-NMC_test_prelim_phase_data/85.bmp', 'C-NMC_Leukemia/validation_data/C-NMC_test_prelim_phase_data/86.bmp', 'C-NMC_Leukemia/validation_data/C-NMC_test_prelim_phase_data/88.bmp', 'C-NMC_Leukemia/validation_data/C-NMC_test_prelim_phase_data/89.bmp', 'C-NMC_Leukemia/validation_data/C-NMC_test_prelim_phase_data/91.bmp', 'C-NMC_Leukemia/validation_data/C-NMC_test_prelim_phase_data/93.bmp', 'C-NMC_Leukemia/validation_data/C-NMC_test_prelim_phase_data/95.bmp', 'C-NMC_Leukemia/validation_data/C-NMC_test_prelim_phase_data/96.bmp', 'C-NMC_Leukemia/validation_data/C-NMC_test_prelim_phase_data/97.bmp', 'C-NMC_Leukemia/validation_data/C-NMC_test_prelim_phase_data/98.bmp', 'C-NMC_Leukemia/validation_data/C-NMC_test_prelim_phase_data/99.bmp', 'C-NMC_Leukemia/validation_data/C-NMC_test_prelim_phase_data/100.bmp', 'C-NMC_Leukemia/validation_data/C-NMC_test_prelim_phase_data/101.bmp', 'C-NMC_Leukemia/validation_data/C-NMC_test_prelim_phase_data/102.bmp', 'C-NMC_Leukemia/validation_data/C-NMC_test_prelim_phase_data/103.bmp', 'C-NMC_Leukemia/validation_data/C-NMC_test_prelim_phase_data/107.bmp', 'C-NMC_Leukemia/validation_data/C-NMC_test_prelim_phase_data/108.bmp', 'C-NMC_Leukemia/validation_data/C-NMC_test_prelim_phase_data/109.bmp', 'C-NMC_Leukemia/validation_data/C-NMC_test_prelim_phase_data/110.bmp', 'C-NMC_Leukemia/validation_data/C-NMC_test_prelim_phase_data/112.bmp', 'C-NMC_Leukemia/validation_data/C-NMC_test_prelim_phase_data/113.bmp', 'C-NMC_Leukemia/validation_data/C-NMC_test_prelim_phase_data/114.bmp', 'C-NMC_Leukemia/validation_data/C-NMC_test_prelim_phase_data/116.bmp', 'C-NMC_Leukemia/validation_data/C-NMC_test_prelim_phase_data/119.bmp', 'C-NMC_Leukemia/validation_data/C-NMC_test_prelim_phase_data/120.bmp', 'C-NMC_Leukemia/validation_data/C-NMC_test_prelim_phase_data/122.bmp', 'C-NMC_Leukemia/validation_data/C-NMC_test_prelim_phase_data/124.bmp', 'C-NMC_Leukemia/validation_data/C-NMC_test_prelim_phase_data/125.bmp', 'C-NMC_Leukemia/validation_data/C-NMC_test_prelim_phase_data/126.bmp', 'C-NMC_Leukemia/validation_data/C-NMC_test_prelim_phase_data/128.bmp', 'C-NMC_Leukemia/validation_data/C-NMC_test_prelim_phase_data/129.bmp', 'C-NMC_Leukemia/validation_data/C-NMC_test_prelim_phase_data/130.bmp', 'C-NMC_Leukemia/validation_data/C-NMC_test_prelim_phase_data/131.bmp', 'C-NMC_Leukemia/validation_data/C-NMC_test_prelim_phase_data/132.bmp', 'C-NMC_Leukemia/validation_data/C-NMC_test_prelim_phase_data/133.bmp', 'C-NMC_Leukemia/validation_data/C-NMC_test_prelim_phase_data/134.bmp', 'C-NMC_Leukemia/validation_data/C-NMC_test_prelim_phase_data/135.bmp', 'C-NMC_Leukemia/validation_data/C-NMC_test_prelim_phase_data/136.bmp', 'C-NMC_Leukemia/validation_data/C-NMC_test_prelim_phase_data/137.bmp', 'C-NMC_Leukemia/validation_data/C-NMC_test_prelim_phase_data/141.bmp', 'C-NMC_Leukemia/validation_data/C-NMC_test_prelim_phase_data/143.bmp', 'C-NMC_Leukemia/validation_data/C-NMC_test_prelim_phase_data/145.bmp', 'C-NMC_Leukemia/validation_data/C-NMC_test_prelim_phase_data/146.bmp', 'C-NMC_Leukemia/validation_data/C-NMC_test_prelim_phase_data/147.bmp', 'C-NMC_Leukemia/validation_data/C-NMC_test_prelim_phase_data/148.bmp', 'C-NMC_Leukemia/validation_data/C-NMC_test_prelim_phase_data/149.bmp', 'C-NMC_Leukemia/validation_data/C-NMC_test_prelim_phase_data/150.bmp', 'C-NMC_Leukemia/validation_data/C-NMC_test_prelim_phase_data/152.bmp', 'C-NMC_Leukemia/validation_data/C-NMC_test_prelim_phase_data/153.bmp', 'C-NMC_Leukemia/validation_data/C-NMC_test_prelim_phase_data/155.bmp', 'C-NMC_Leukemia/validation_data/C-NMC_test_prelim_phase_data/157.bmp', 'C-NMC_Leukemia/validation_data/C-NMC_test_prelim_phase_data/159.bmp', 'C-NMC_Leukemia/validation_data/C-NMC_test_prelim_phase_data/161.bmp', 'C-NMC_Leukemia/validation_data/C-NMC_test_prelim_phase_data/162.bmp', 'C-NMC_Leukemia/validation_data/C-NMC_test_prelim_phase_data/163.bmp', 'C-NMC_Leukemia/validation_data/C-NMC_test_prelim_phase_data/165.bmp', 'C-NMC_Leukemia/validation_data/C-NMC_test_prelim_phase_data/166.bmp', 'C-NMC_Leukemia/validation_data/C-NMC_test_prelim_phase_data/167.bmp', 'C-NMC_Leukemia/validation_data/C-NMC_test_prelim_phase_data/169.bmp', 'C-NMC_Leukemia/validation_data/C-NMC_test_prelim_phase_data/170.bmp', 'C-NMC_Leukemia/validation_data/C-NMC_test_prelim_phase_data/175.bmp', 'C-NMC_Leukemia/validation_data/C-NMC_test_prelim_phase_data/176.bmp', 'C-NMC_Leukemia/validation_data/C-NMC_test_prelim_phase_data/177.bmp', 'C-NMC_Leukemia/validation_data/C-NMC_test_prelim_phase_data/178.bmp', 'C-NMC_Leukemia/validation_data/C-NMC_test_prelim_phase_data/179.bmp', 'C-NMC_Leukemia/validation_data/C-NMC_test_prelim_phase_data/180.bmp', 'C-NMC_Leukemia/validation_data/C-NMC_test_prelim_phase_data/182.bmp', 'C-NMC_Leukemia/validation_data/C-NMC_test_prelim_phase_data/184.bmp', 'C-NMC_Leukemia/validation_data/C-NMC_test_prelim_phase_data/185.bmp', 'C-NMC_Leukemia/validation_data/C-NMC_test_prelim_phase_data/186.bmp', 'C-NMC_Leukemia/validation_data/C-NMC_test_prelim_phase_data/189.bmp', 'C-NMC_Leukemia/validation_data/C-NMC_test_prelim_phase_data/190.bmp', 'C-NMC_Leukemia/validation_data/C-NMC_test_prelim_phase_data/191.bmp', 'C-NMC_Leukemia/validation_data/C-NMC_test_prelim_phase_data/194.bmp', 'C-NMC_Leukemia/validation_data/C-NMC_test_prelim_phase_data/195.bmp', 'C-NMC_Leukemia/validation_data/C-NMC_test_prelim_phase_data/196.bmp', 'C-NMC_Leukemia/validation_data/C-NMC_test_prelim_phase_data/199.bmp', 'C-NMC_Leukemia/validation_data/C-NMC_test_prelim_phase_data/200.bmp', 'C-NMC_Leukemia/validation_data/C-NMC_test_prelim_phase_data/202.bmp', 'C-NMC_Leukemia/validation_data/C-NMC_test_prelim_phase_data/203.bmp', 'C-NMC_Leukemia/validation_data/C-NMC_test_prelim_phase_data/204.bmp', 'C-NMC_Leukemia/validation_data/C-NMC_test_prelim_phase_data/207.bmp', 'C-NMC_Leukemia/validation_data/C-NMC_test_prelim_phase_data/208.bmp', 'C-NMC_Leukemia/validation_data/C-NMC_test_prelim_phase_data/209.bmp', 'C-NMC_Leukemia/validation_data/C-NMC_test_prelim_phase_data/210.bmp', 'C-NMC_Leukemia/validation_data/C-NMC_test_prelim_phase_data/215.bmp', 'C-NMC_Leukemia/validation_data/C-NMC_test_prelim_phase_data/216.bmp', 'C-NMC_Leukemia/validation_data/C-NMC_test_prelim_phase_data/217.bmp', 'C-NMC_Leukemia/validation_data/C-NMC_test_prelim_phase_data/219.bmp', 'C-NMC_Leukemia/validation_data/C-NMC_test_prelim_phase_data/221.bmp', 'C-NMC_Leukemia/validation_data/C-NMC_test_prelim_phase_data/223.bmp', 'C-NMC_Leukemia/validation_data/C-NMC_test_prelim_phase_data/224.bmp', 'C-NMC_Leukemia/validation_data/C-NMC_test_prelim_phase_data/226.bmp', 'C-NMC_Leukemia/validation_data/C-NMC_test_prelim_phase_data/228.bmp', 'C-NMC_Leukemia/validation_data/C-NMC_test_prelim_phase_data/230.bmp', 'C-NMC_Leukemia/validation_data/C-NMC_test_prelim_phase_data/231.bmp', 'C-NMC_Leukemia/validation_data/C-NMC_test_prelim_phase_data/232.bmp', 'C-NMC_Leukemia/validation_data/C-NMC_test_prelim_phase_data/234.bmp', 'C-NMC_Leukemia/validation_data/C-NMC_test_prelim_phase_data/237.bmp', 'C-NMC_Leukemia/validation_data/C-NMC_test_prelim_phase_data/238.bmp', 'C-NMC_Leukemia/validation_data/C-NMC_test_prelim_phase_data/239.bmp', 'C-NMC_Leukemia/validation_data/C-NMC_test_prelim_phase_data/241.bmp', 'C-NMC_Leukemia/validation_data/C-NMC_test_prelim_phase_data/243.bmp', 'C-NMC_Leukemia/validation_data/C-NMC_test_prelim_phase_data/245.bmp', 'C-NMC_Leukemia/validation_data/C-NMC_test_prelim_phase_data/246.bmp', 'C-NMC_Leukemia/validation_data/C-NMC_test_prelim_phase_data/248.bmp', 'C-NMC_Leukemia/validation_data/C-NMC_test_prelim_phase_data/249.bmp', 'C-NMC_Leukemia/validation_data/C-NMC_test_prelim_phase_data/250.bmp', 'C-NMC_Leukemia/validation_data/C-NMC_test_prelim_phase_data/252.bmp', 'C-NMC_Leukemia/validation_data/C-NMC_test_prelim_phase_data/254.bmp', 'C-NMC_Leukemia/validation_data/C-NMC_test_prelim_phase_data/255.bmp', 'C-NMC_Leukemia/validation_data/C-NMC_test_prelim_phase_data/261.bmp', 'C-NMC_Leukemia/validation_data/C-NMC_test_prelim_phase_data/262.bmp', 'C-NMC_Leukemia/validation_data/C-NMC_test_prelim_phase_data/267.bmp', 'C-NMC_Leukemia/validation_data/C-NMC_test_prelim_phase_data/268.bmp', 'C-NMC_Leukemia/validation_data/C-NMC_test_prelim_phase_data/269.bmp', 'C-NMC_Leukemia/validation_data/C-NMC_test_prelim_phase_data/271.bmp', 'C-NMC_Leukemia/validation_data/C-NMC_test_prelim_phase_data/272.bmp', 'C-NMC_Leukemia/validation_data/C-NMC_test_prelim_phase_data/273.bmp', 'C-NMC_Leukemia/validation_data/C-NMC_test_prelim_phase_data/274.bmp', 'C-NMC_Leukemia/validation_data/C-NMC_test_prelim_phase_data/276.bmp', 'C-NMC_Leukemia/validation_data/C-NMC_test_prelim_phase_data/277.bmp', 'C-NMC_Leukemia/validation_data/C-NMC_test_prelim_phase_data/278.bmp', 'C-NMC_Leukemia/validation_data/C-NMC_test_prelim_phase_data/279.bmp', 'C-NMC_Leukemia/validation_data/C-NMC_test_prelim_phase_data/281.bmp', 'C-NMC_Leukemia/validation_data/C-NMC_test_prelim_phase_data/282.bmp', 'C-NMC_Leukemia/validation_data/C-NMC_test_prelim_phase_data/283.bmp', 'C-NMC_Leukemia/validation_data/C-NMC_test_prelim_phase_data/284.bmp', 'C-NMC_Leukemia/validation_data/C-NMC_test_prelim_phase_data/286.bmp', 'C-NMC_Leukemia/validation_data/C-NMC_test_prelim_phase_data/287.bmp', 'C-NMC_Leukemia/validation_data/C-NMC_test_prelim_phase_data/288.bmp', 'C-NMC_Leukemia/validation_data/C-NMC_test_prelim_phase_data/290.bmp', 'C-NMC_Leukemia/validation_data/C-NMC_test_prelim_phase_data/291.bmp', 'C-NMC_Leukemia/validation_data/C-NMC_test_prelim_phase_data/292.bmp', 'C-NMC_Leukemia/validation_data/C-NMC_test_prelim_phase_data/293.bmp', 'C-NMC_Leukemia/validation_data/C-NMC_test_prelim_phase_data/294.bmp', 'C-NMC_Leukemia/validation_data/C-NMC_test_prelim_phase_data/295.bmp', 'C-NMC_Leukemia/validation_data/C-NMC_test_prelim_phase_data/296.bmp', 'C-NMC_Leukemia/validation_data/C-NMC_test_prelim_phase_data/300.bmp', 'C-NMC_Leukemia/validation_data/C-NMC_test_prelim_phase_data/301.bmp', 'C-NMC_Leukemia/validation_data/C-NMC_test_prelim_phase_data/302.bmp', 'C-NMC_Leukemia/validation_data/C-NMC_test_prelim_phase_data/303.bmp', 'C-NMC_Leukemia/validation_data/C-NMC_test_prelim_phase_data/304.bmp', 'C-NMC_Leukemia/validation_data/C-NMC_test_prelim_phase_data/307.bmp', 'C-NMC_Leukemia/validation_data/C-NMC_test_prelim_phase_data/309.bmp', 'C-NMC_Leukemia/validation_data/C-NMC_test_prelim_phase_data/311.bmp', 'C-NMC_Leukemia/validation_data/C-NMC_test_prelim_phase_data/312.bmp', 'C-NMC_Leukemia/validation_data/C-NMC_test_prelim_phase_data/314.bmp', 'C-NMC_Leukemia/validation_data/C-NMC_test_prelim_phase_data/315.bmp', 'C-NMC_Leukemia/validation_data/C-NMC_test_prelim_phase_data/317.bmp', 'C-NMC_Leukemia/validation_data/C-NMC_test_prelim_phase_data/318.bmp', 'C-NMC_Leukemia/validation_data/C-NMC_test_prelim_phase_data/319.bmp', 'C-NMC_Leukemia/validation_data/C-NMC_test_prelim_phase_data/321.bmp', 'C-NMC_Leukemia/validation_data/C-NMC_test_prelim_phase_data/322.bmp', 'C-NMC_Leukemia/validation_data/C-NMC_test_prelim_phase_data/323.bmp', 'C-NMC_Leukemia/validation_data/C-NMC_test_prelim_phase_data/325.bmp', 'C-NMC_Leukemia/validation_data/C-NMC_test_prelim_phase_data/326.bmp', 'C-NMC_Leukemia/validation_data/C-NMC_test_prelim_phase_data/327.bmp', 'C-NMC_Leukemia/validation_data/C-NMC_test_prelim_phase_data/330.bmp', 'C-NMC_Leukemia/validation_data/C-NMC_test_prelim_phase_data/331.bmp', 'C-NMC_Leukemia/validation_data/C-NMC_test_prelim_phase_data/332.bmp', 'C-NMC_Leukemia/validation_data/C-NMC_test_prelim_phase_data/333.bmp', 'C-NMC_Leukemia/validation_data/C-NMC_test_prelim_phase_data/334.bmp', 'C-NMC_Leukemia/validation_data/C-NMC_test_prelim_phase_data/336.bmp', 'C-NMC_Leukemia/validation_data/C-NMC_test_prelim_phase_data/337.bmp', 'C-NMC_Leukemia/validation_data/C-NMC_test_prelim_phase_data/338.bmp', 'C-NMC_Leukemia/validation_data/C-NMC_test_prelim_phase_data/343.bmp', 'C-NMC_Leukemia/validation_data/C-NMC_test_prelim_phase_data/344.bmp', 'C-NMC_Leukemia/validation_data/C-NMC_test_prelim_phase_data/345.bmp', 'C-NMC_Leukemia/validation_data/C-NMC_test_prelim_phase_data/346.bmp', 'C-NMC_Leukemia/validation_data/C-NMC_test_prelim_phase_data/350.bmp', 'C-NMC_Leukemia/validation_data/C-NMC_test_prelim_phase_data/351.bmp', 'C-NMC_Leukemia/validation_data/C-NMC_test_prelim_phase_data/352.bmp', 'C-NMC_Leukemia/validation_data/C-NMC_test_prelim_phase_data/353.bmp', 'C-NMC_Leukemia/validation_data/C-NMC_test_prelim_phase_data/355.bmp', 'C-NMC_Leukemia/validation_data/C-NMC_test_prelim_phase_data/356.bmp', 'C-NMC_Leukemia/validation_data/C-NMC_test_prelim_phase_data/357.bmp', 'C-NMC_Leukemia/validation_data/C-NMC_test_prelim_phase_data/358.bmp', 'C-NMC_Leukemia/validation_data/C-NMC_test_prelim_phase_data/359.bmp', 'C-NMC_Leukemia/validation_data/C-NMC_test_prelim_phase_data/360.bmp', 'C-NMC_Leukemia/validation_data/C-NMC_test_prelim_phase_data/362.bmp', 'C-NMC_Leukemia/validation_data/C-NMC_test_prelim_phase_data/364.bmp', 'C-NMC_Leukemia/validation_data/C-NMC_test_prelim_phase_data/366.bmp', 'C-NMC_Leukemia/validation_data/C-NMC_test_prelim_phase_data/368.bmp', 'C-NMC_Leukemia/validation_data/C-NMC_test_prelim_phase_data/370.bmp', 'C-NMC_Leukemia/validation_data/C-NMC_test_prelim_phase_data/371.bmp', 'C-NMC_Leukemia/validation_data/C-NMC_test_prelim_phase_data/372.bmp', 'C-NMC_Leukemia/validation_data/C-NMC_test_prelim_phase_data/373.bmp', 'C-NMC_Leukemia/validation_data/C-NMC_test_prelim_phase_data/377.bmp', 'C-NMC_Leukemia/validation_data/C-NMC_test_prelim_phase_data/379.bmp', 'C-NMC_Leukemia/validation_data/C-NMC_test_prelim_phase_data/380.bmp', 'C-NMC_Leukemia/validation_data/C-NMC_test_prelim_phase_data/381.bmp', 'C-NMC_Leukemia/validation_data/C-NMC_test_prelim_phase_data/383.bmp', 'C-NMC_Leukemia/validation_data/C-NMC_test_prelim_phase_data/384.bmp', 'C-NMC_Leukemia/validation_data/C-NMC_test_prelim_phase_data/385.bmp', 'C-NMC_Leukemia/validation_data/C-NMC_test_prelim_phase_data/386.bmp', 'C-NMC_Leukemia/validation_data/C-NMC_test_prelim_phase_data/388.bmp', 'C-NMC_Leukemia/validation_data/C-NMC_test_prelim_phase_data/389.bmp', 'C-NMC_Leukemia/validation_data/C-NMC_test_prelim_phase_data/390.bmp', 'C-NMC_Leukemia/validation_data/C-NMC_test_prelim_phase_data/394.bmp', 'C-NMC_Leukemia/validation_data/C-NMC_test_prelim_phase_data/395.bmp', 'C-NMC_Leukemia/validation_data/C-NMC_test_prelim_phase_data/397.bmp', 'C-NMC_Leukemia/validation_data/C-NMC_test_prelim_phase_data/400.bmp', 'C-NMC_Leukemia/validation_data/C-NMC_test_prelim_phase_data/401.bmp', 'C-NMC_Leukemia/validation_data/C-NMC_test_prelim_phase_data/404.bmp', 'C-NMC_Leukemia/validation_data/C-NMC_test_prelim_phase_data/406.bmp', 'C-NMC_Leukemia/validation_data/C-NMC_test_prelim_phase_data/407.bmp', 'C-NMC_Leukemia/validation_data/C-NMC_test_prelim_phase_data/409.bmp', 'C-NMC_Leukemia/validation_data/C-NMC_test_prelim_phase_data/410.bmp', 'C-NMC_Leukemia/validation_data/C-NMC_test_prelim_phase_data/412.bmp', 'C-NMC_Leukemia/validation_data/C-NMC_test_prelim_phase_data/413.bmp', 'C-NMC_Leukemia/validation_data/C-NMC_test_prelim_phase_data/417.bmp', 'C-NMC_Leukemia/validation_data/C-NMC_test_prelim_phase_data/418.bmp', 'C-NMC_Leukemia/validation_data/C-NMC_test_prelim_phase_data/419.bmp', 'C-NMC_Leukemia/validation_data/C-NMC_test_prelim_phase_data/422.bmp', 'C-NMC_Leukemia/validation_data/C-NMC_test_prelim_phase_data/424.bmp', 'C-NMC_Leukemia/validation_data/C-NMC_test_prelim_phase_data/426.bmp', 'C-NMC_Leukemia/validation_data/C-NMC_test_prelim_phase_data/427.bmp', 'C-NMC_Leukemia/validation_data/C-NMC_test_prelim_phase_data/429.bmp', 'C-NMC_Leukemia/validation_data/C-NMC_test_prelim_phase_data/433.bmp', 'C-NMC_Leukemia/validation_data/C-NMC_test_prelim_phase_data/436.bmp', 'C-NMC_Leukemia/validation_data/C-NMC_test_prelim_phase_data/437.bmp', 'C-NMC_Leukemia/validation_data/C-NMC_test_prelim_phase_data/438.bmp', 'C-NMC_Leukemia/validation_data/C-NMC_test_prelim_phase_data/439.bmp', 'C-NMC_Leukemia/validation_data/C-NMC_test_prelim_phase_data/440.bmp', 'C-NMC_Leukemia/validation_data/C-NMC_test_prelim_phase_data/443.bmp', 'C-NMC_Leukemia/validation_data/C-NMC_test_prelim_phase_data/444.bmp', 'C-NMC_Leukemia/validation_data/C-NMC_test_prelim_phase_data/445.bmp', 'C-NMC_Leukemia/validation_data/C-NMC_test_prelim_phase_data/447.bmp', 'C-NMC_Leukemia/validation_data/C-NMC_test_prelim_phase_data/448.bmp', 'C-NMC_Leukemia/validation_data/C-NMC_test_prelim_phase_data/449.bmp', 'C-NMC_Leukemia/validation_data/C-NMC_test_prelim_phase_data/450.bmp', 'C-NMC_Leukemia/validation_data/C-NMC_test_prelim_phase_data/451.bmp', 'C-NMC_Leukemia/validation_data/C-NMC_test_prelim_phase_data/453.bmp', 'C-NMC_Leukemia/validation_data/C-NMC_test_prelim_phase_data/457.bmp', 'C-NMC_Leukemia/validation_data/C-NMC_test_prelim_phase_data/458.bmp', 'C-NMC_Leukemia/validation_data/C-NMC_test_prelim_phase_data/459.bmp', 'C-NMC_Leukemia/validation_data/C-NMC_test_prelim_phase_data/463.bmp', 'C-NMC_Leukemia/validation_data/C-NMC_test_prelim_phase_data/467.bmp', 'C-NMC_Leukemia/validation_data/C-NMC_test_prelim_phase_data/468.bmp', 'C-NMC_Leukemia/validation_data/C-NMC_test_prelim_phase_data/470.bmp', 'C-NMC_Leukemia/validation_data/C-NMC_test_prelim_phase_data/473.bmp', 'C-NMC_Leukemia/validation_data/C-NMC_test_prelim_phase_data/477.bmp', 'C-NMC_Leukemia/validation_data/C-NMC_test_prelim_phase_data/479.bmp', 'C-NMC_Leukemia/validation_data/C-NMC_test_prelim_phase_data/480.bmp', 'C-NMC_Leukemia/validation_data/C-NMC_test_prelim_phase_data/482.bmp', 'C-NMC_Leukemia/validation_data/C-NMC_test_prelim_phase_data/483.bmp', 'C-NMC_Leukemia/validation_data/C-NMC_test_prelim_phase_data/485.bmp', 'C-NMC_Leukemia/validation_data/C-NMC_test_prelim_phase_data/486.bmp', 'C-NMC_Leukemia/validation_data/C-NMC_test_prelim_phase_data/487.bmp', 'C-NMC_Leukemia/validation_data/C-NMC_test_prelim_phase_data/488.bmp', 'C-NMC_Leukemia/validation_data/C-NMC_test_prelim_phase_data/489.bmp', 'C-NMC_Leukemia/validation_data/C-NMC_test_prelim_phase_data/490.bmp', 'C-NMC_Leukemia/validation_data/C-NMC_test_prelim_phase_data/491.bmp', 'C-NMC_Leukemia/validation_data/C-NMC_test_prelim_phase_data/492.bmp', 'C-NMC_Leukemia/validation_data/C-NMC_test_prelim_phase_data/493.bmp', 'C-NMC_Leukemia/validation_data/C-NMC_test_prelim_phase_data/494.bmp', 'C-NMC_Leukemia/validation_data/C-NMC_test_prelim_phase_data/495.bmp', 'C-NMC_Leukemia/validation_data/C-NMC_test_prelim_phase_data/496.bmp', 'C-NMC_Leukemia/validation_data/C-NMC_test_prelim_phase_data/497.bmp', 'C-NMC_Leukemia/validation_data/C-NMC_test_prelim_phase_data/498.bmp', 'C-NMC_Leukemia/validation_data/C-NMC_test_prelim_phase_data/501.bmp', 'C-NMC_Leukemia/validation_data/C-NMC_test_prelim_phase_data/502.bmp', 'C-NMC_Leukemia/validation_data/C-NMC_test_prelim_phase_data/503.bmp', 'C-NMC_Leukemia/validation_data/C-NMC_test_prelim_phase_data/504.bmp', 'C-NMC_Leukemia/validation_data/C-NMC_test_prelim_phase_data/505.bmp', 'C-NMC_Leukemia/validation_data/C-NMC_test_prelim_phase_data/506.bmp', 'C-NMC_Leukemia/validation_data/C-NMC_test_prelim_phase_data/507.bmp', 'C-NMC_Leukemia/validation_data/C-NMC_test_prelim_phase_data/508.bmp', 'C-NMC_Leukemia/validation_data/C-NMC_test_prelim_phase_data/509.bmp', 'C-NMC_Leukemia/validation_data/C-NMC_test_prelim_phase_data/511.bmp', 'C-NMC_Leukemia/validation_data/C-NMC_test_prelim_phase_data/513.bmp', 'C-NMC_Leukemia/validation_data/C-NMC_test_prelim_phase_data/517.bmp', 'C-NMC_Leukemia/validation_data/C-NMC_test_prelim_phase_data/518.bmp', 'C-NMC_Leukemia/validation_data/C-NMC_test_prelim_phase_data/520.bmp', 'C-NMC_Leukemia/validation_data/C-NMC_test_prelim_phase_data/521.bmp', 'C-NMC_Leukemia/validation_data/C-NMC_test_prelim_phase_data/523.bmp', 'C-NMC_Leukemia/validation_data/C-NMC_test_prelim_phase_data/525.bmp', 'C-NMC_Leukemia/validation_data/C-NMC_test_prelim_phase_data/526.bmp', 'C-NMC_Leukemia/validation_data/C-NMC_test_prelim_phase_data/528.bmp', 'C-NMC_Leukemia/validation_data/C-NMC_test_prelim_phase_data/532.bmp', 'C-NMC_Leukemia/validation_data/C-NMC_test_prelim_phase_data/533.bmp', 'C-NMC_Leukemia/validation_data/C-NMC_test_prelim_phase_data/535.bmp', 'C-NMC_Leukemia/validation_data/C-NMC_test_prelim_phase_data/537.bmp', 'C-NMC_Leukemia/validation_data/C-NMC_test_prelim_phase_data/538.bmp', 'C-NMC_Leukemia/validation_data/C-NMC_test_prelim_phase_data/541.bmp', 'C-NMC_Leukemia/validation_data/C-NMC_test_prelim_phase_data/542.bmp', 'C-NMC_Leukemia/validation_data/C-NMC_test_prelim_phase_data/544.bmp', 'C-NMC_Leukemia/validation_data/C-NMC_test_prelim_phase_data/546.bmp', 'C-NMC_Leukemia/validation_data/C-NMC_test_prelim_phase_data/547.bmp', 'C-NMC_Leukemia/validation_data/C-NMC_test_prelim_phase_data/549.bmp', 'C-NMC_Leukemia/validation_data/C-NMC_test_prelim_phase_data/550.bmp', 'C-NMC_Leukemia/validation_data/C-NMC_test_prelim_phase_data/551.bmp', 'C-NMC_Leukemia/validation_data/C-NMC_test_prelim_phase_data/552.bmp', 'C-NMC_Leukemia/validation_data/C-NMC_test_prelim_phase_data/553.bmp', 'C-NMC_Leukemia/validation_data/C-NMC_test_prelim_phase_data/554.bmp', 'C-NMC_Leukemia/validation_data/C-NMC_test_prelim_phase_data/555.bmp', 'C-NMC_Leukemia/validation_data/C-NMC_test_prelim_phase_data/556.bmp', 'C-NMC_Leukemia/validation_data/C-NMC_test_prelim_phase_data/557.bmp', 'C-NMC_Leukemia/validation_data/C-NMC_test_prelim_phase_data/558.bmp', 'C-NMC_Leukemia/validation_data/C-NMC_test_prelim_phase_data/560.bmp', 'C-NMC_Leukemia/validation_data/C-NMC_test_prelim_phase_data/561.bmp', 'C-NMC_Leukemia/validation_data/C-NMC_test_prelim_phase_data/562.bmp', 'C-NMC_Leukemia/validation_data/C-NMC_test_prelim_phase_data/563.bmp', 'C-NMC_Leukemia/validation_data/C-NMC_test_prelim_phase_data/564.bmp', 'C-NMC_Leukemia/validation_data/C-NMC_test_prelim_phase_data/565.bmp', 'C-NMC_Leukemia/validation_data/C-NMC_test_prelim_phase_data/568.bmp', 'C-NMC_Leukemia/validation_data/C-NMC_test_prelim_phase_data/570.bmp', 'C-NMC_Leukemia/validation_data/C-NMC_test_prelim_phase_data/571.bmp', 'C-NMC_Leukemia/validation_data/C-NMC_test_prelim_phase_data/573.bmp', 'C-NMC_Leukemia/validation_data/C-NMC_test_prelim_phase_data/574.bmp', 'C-NMC_Leukemia/validation_data/C-NMC_test_prelim_phase_data/575.bmp', 'C-NMC_Leukemia/validation_data/C-NMC_test_prelim_phase_data/576.bmp', 'C-NMC_Leukemia/validation_data/C-NMC_test_prelim_phase_data/577.bmp', 'C-NMC_Leukemia/validation_data/C-NMC_test_prelim_phase_data/578.bmp', 'C-NMC_Leukemia/validation_data/C-NMC_test_prelim_phase_data/579.bmp', 'C-NMC_Leukemia/validation_data/C-NMC_test_prelim_phase_data/580.bmp', 'C-NMC_Leukemia/validation_data/C-NMC_test_prelim_phase_data/581.bmp', 'C-NMC_Leukemia/validation_data/C-NMC_test_prelim_phase_data/583.bmp', 'C-NMC_Leukemia/validation_data/C-NMC_test_prelim_phase_data/584.bmp', 'C-NMC_Leukemia/validation_data/C-NMC_test_prelim_phase_data/588.bmp', 'C-NMC_Leukemia/validation_data/C-NMC_test_prelim_phase_data/589.bmp', 'C-NMC_Leukemia/validation_data/C-NMC_test_prelim_phase_data/590.bmp', 'C-NMC_Leukemia/validation_data/C-NMC_test_prelim_phase_data/594.bmp', 'C-NMC_Leukemia/validation_data/C-NMC_test_prelim_phase_data/595.bmp', 'C-NMC_Leukemia/validation_data/C-NMC_test_prelim_phase_data/596.bmp', 'C-NMC_Leukemia/validation_data/C-NMC_test_prelim_phase_data/597.bmp', 'C-NMC_Leukemia/validation_data/C-NMC_test_prelim_phase_data/600.bmp', 'C-NMC_Leukemia/validation_data/C-NMC_test_prelim_phase_data/601.bmp', 'C-NMC_Leukemia/validation_data/C-NMC_test_prelim_phase_data/603.bmp', 'C-NMC_Leukemia/validation_data/C-NMC_test_prelim_phase_data/604.bmp', 'C-NMC_Leukemia/validation_data/C-NMC_test_prelim_phase_data/605.bmp', 'C-NMC_Leukemia/validation_data/C-NMC_test_prelim_phase_data/606.bmp', 'C-NMC_Leukemia/validation_data/C-NMC_test_prelim_phase_data/607.bmp', 'C-NMC_Leukemia/validation_data/C-NMC_test_prelim_phase_data/610.bmp', 'C-NMC_Leukemia/validation_data/C-NMC_test_prelim_phase_data/611.bmp', 'C-NMC_Leukemia/validation_data/C-NMC_test_prelim_phase_data/612.bmp', 'C-NMC_Leukemia/validation_data/C-NMC_test_prelim_phase_data/616.bmp', 'C-NMC_Leukemia/validation_data/C-NMC_test_prelim_phase_data/618.bmp', 'C-NMC_Leukemia/validation_data/C-NMC_test_prelim_phase_data/619.bmp', 'C-NMC_Leukemia/validation_data/C-NMC_test_prelim_phase_data/620.bmp', 'C-NMC_Leukemia/validation_data/C-NMC_test_prelim_phase_data/622.bmp', 'C-NMC_Leukemia/validation_data/C-NMC_test_prelim_phase_data/623.bmp', 'C-NMC_Leukemia/validation_data/C-NMC_test_prelim_phase_data/624.bmp', 'C-NMC_Leukemia/validation_data/C-NMC_test_prelim_phase_data/625.bmp', 'C-NMC_Leukemia/validation_data/C-NMC_test_prelim_phase_data/626.bmp', 'C-NMC_Leukemia/validation_data/C-NMC_test_prelim_phase_data/628.bmp', 'C-NMC_Leukemia/validation_data/C-NMC_test_prelim_phase_data/629.bmp', 'C-NMC_Leukemia/validation_data/C-NMC_test_prelim_phase_data/630.bmp', 'C-NMC_Leukemia/validation_data/C-NMC_test_prelim_phase_data/631.bmp', 'C-NMC_Leukemia/validation_data/C-NMC_test_prelim_phase_data/632.bmp', 'C-NMC_Leukemia/validation_data/C-NMC_test_prelim_phase_data/633.bmp', 'C-NMC_Leukemia/validation_data/C-NMC_test_prelim_phase_data/634.bmp', 'C-NMC_Leukemia/validation_data/C-NMC_test_prelim_phase_data/635.bmp', 'C-NMC_Leukemia/validation_data/C-NMC_test_prelim_phase_data/636.bmp', 'C-NMC_Leukemia/validation_data/C-NMC_test_prelim_phase_data/637.bmp', 'C-NMC_Leukemia/validation_data/C-NMC_test_prelim_phase_data/639.bmp', 'C-NMC_Leukemia/validation_data/C-NMC_test_prelim_phase_data/640.bmp', 'C-NMC_Leukemia/validation_data/C-NMC_test_prelim_phase_data/644.bmp', 'C-NMC_Leukemia/validation_data/C-NMC_test_prelim_phase_data/646.bmp', 'C-NMC_Leukemia/validation_data/C-NMC_test_prelim_phase_data/647.bmp', 'C-NMC_Leukemia/validation_data/C-NMC_test_prelim_phase_data/649.bmp', 'C-NMC_Leukemia/validation_data/C-NMC_test_prelim_phase_data/651.bmp', 'C-NMC_Leukemia/validation_data/C-NMC_test_prelim_phase_data/652.bmp', 'C-NMC_Leukemia/validation_data/C-NMC_test_prelim_phase_data/653.bmp', 'C-NMC_Leukemia/validation_data/C-NMC_test_prelim_phase_data/656.bmp', 'C-NMC_Leukemia/validation_data/C-NMC_test_prelim_phase_data/658.bmp', 'C-NMC_Leukemia/validation_data/C-NMC_test_prelim_phase_data/660.bmp', 'C-NMC_Leukemia/validation_data/C-NMC_test_prelim_phase_data/662.bmp', 'C-NMC_Leukemia/validation_data/C-NMC_test_prelim_phase_data/663.bmp', 'C-NMC_Leukemia/validation_data/C-NMC_test_prelim_phase_data/664.bmp', 'C-NMC_Leukemia/validation_data/C-NMC_test_prelim_phase_data/665.bmp', 'C-NMC_Leukemia/validation_data/C-NMC_test_prelim_phase_data/667.bmp', 'C-NMC_Leukemia/validation_data/C-NMC_test_prelim_phase_data/668.bmp', 'C-NMC_Leukemia/validation_data/C-NMC_test_prelim_phase_data/669.bmp', 'C-NMC_Leukemia/validation_data/C-NMC_test_prelim_phase_data/670.bmp', 'C-NMC_Leukemia/validation_data/C-NMC_test_prelim_phase_data/671.bmp', 'C-NMC_Leukemia/validation_data/C-NMC_test_prelim_phase_data/672.bmp', 'C-NMC_Leukemia/validation_data/C-NMC_test_prelim_phase_data/673.bmp', 'C-NMC_Leukemia/validation_data/C-NMC_test_prelim_phase_data/674.bmp', 'C-NMC_Leukemia/validation_data/C-NMC_test_prelim_phase_data/675.bmp', 'C-NMC_Leukemia/validation_data/C-NMC_test_prelim_phase_data/676.bmp', 'C-NMC_Leukemia/validation_data/C-NMC_test_prelim_phase_data/677.bmp', 'C-NMC_Leukemia/validation_data/C-NMC_test_prelim_phase_data/678.bmp', 'C-NMC_Leukemia/validation_data/C-NMC_test_prelim_phase_data/680.bmp', 'C-NMC_Leukemia/validation_data/C-NMC_test_prelim_phase_data/681.bmp', 'C-NMC_Leukemia/validation_data/C-NMC_test_prelim_phase_data/683.bmp', 'C-NMC_Leukemia/validation_data/C-NMC_test_prelim_phase_data/685.bmp', 'C-NMC_Leukemia/validation_data/C-NMC_test_prelim_phase_data/686.bmp', 'C-NMC_Leukemia/validation_data/C-NMC_test_prelim_phase_data/688.bmp', 'C-NMC_Leukemia/validation_data/C-NMC_test_prelim_phase_data/689.bmp', 'C-NMC_Leukemia/validation_data/C-NMC_test_prelim_phase_data/690.bmp', 'C-NMC_Leukemia/validation_data/C-NMC_test_prelim_phase_data/691.bmp', 'C-NMC_Leukemia/validation_data/C-NMC_test_prelim_phase_data/692.bmp', 'C-NMC_Leukemia/validation_data/C-NMC_test_prelim_phase_data/694.bmp', 'C-NMC_Leukemia/validation_data/C-NMC_test_prelim_phase_data/695.bmp', 'C-NMC_Leukemia/validation_data/C-NMC_test_prelim_phase_data/696.bmp', 'C-NMC_Leukemia/validation_data/C-NMC_test_prelim_phase_data/697.bmp', 'C-NMC_Leukemia/validation_data/C-NMC_test_prelim_phase_data/701.bmp', 'C-NMC_Leukemia/validation_data/C-NMC_test_prelim_phase_data/702.bmp', 'C-NMC_Leukemia/validation_data/C-NMC_test_prelim_phase_data/703.bmp', 'C-NMC_Leukemia/validation_data/C-NMC_test_prelim_phase_data/704.bmp', 'C-NMC_Leukemia/validation_data/C-NMC_test_prelim_phase_data/708.bmp', 'C-NMC_Leukemia/validation_data/C-NMC_test_prelim_phase_data/709.bmp', 'C-NMC_Leukemia/validation_data/C-NMC_test_prelim_phase_data/710.bmp', 'C-NMC_Leukemia/validation_data/C-NMC_test_prelim_phase_data/711.bmp', 'C-NMC_Leukemia/validation_data/C-NMC_test_prelim_phase_data/712.bmp', 'C-NMC_Leukemia/validation_data/C-NMC_test_prelim_phase_data/714.bmp', 'C-NMC_Leukemia/validation_data/C-NMC_test_prelim_phase_data/715.bmp', 'C-NMC_Leukemia/validation_data/C-NMC_test_prelim_phase_data/716.bmp', 'C-NMC_Leukemia/validation_data/C-NMC_test_prelim_phase_data/717.bmp', 'C-NMC_Leukemia/validation_data/C-NMC_test_prelim_phase_data/718.bmp', 'C-NMC_Leukemia/validation_data/C-NMC_test_prelim_phase_data/719.bmp', 'C-NMC_Leukemia/validation_data/C-NMC_test_prelim_phase_data/722.bmp', 'C-NMC_Leukemia/validation_data/C-NMC_test_prelim_phase_data/725.bmp', 'C-NMC_Leukemia/validation_data/C-NMC_test_prelim_phase_data/726.bmp', 'C-NMC_Leukemia/validation_data/C-NMC_test_prelim_phase_data/729.bmp', 'C-NMC_Leukemia/validation_data/C-NMC_test_prelim_phase_data/730.bmp', 'C-NMC_Leukemia/validation_data/C-NMC_test_prelim_phase_data/732.bmp', 'C-NMC_Leukemia/validation_data/C-NMC_test_prelim_phase_data/734.bmp', 'C-NMC_Leukemia/validation_data/C-NMC_test_prelim_phase_data/737.bmp', 'C-NMC_Leukemia/validation_data/C-NMC_test_prelim_phase_data/738.bmp', 'C-NMC_Leukemia/validation_data/C-NMC_test_prelim_phase_data/739.bmp', 'C-NMC_Leukemia/validation_data/C-NMC_test_prelim_phase_data/740.bmp', 'C-NMC_Leukemia/validation_data/C-NMC_test_prelim_phase_data/744.bmp', 'C-NMC_Leukemia/validation_data/C-NMC_test_prelim_phase_data/746.bmp', 'C-NMC_Leukemia/validation_data/C-NMC_test_prelim_phase_data/752.bmp', 'C-NMC_Leukemia/validation_data/C-NMC_test_prelim_phase_data/753.bmp', 'C-NMC_Leukemia/validation_data/C-NMC_test_prelim_phase_data/754.bmp', 'C-NMC_Leukemia/validation_data/C-NMC_test_prelim_phase_data/755.bmp', 'C-NMC_Leukemia/validation_data/C-NMC_test_prelim_phase_data/758.bmp', 'C-NMC_Leukemia/validation_data/C-NMC_test_prelim_phase_data/759.bmp', 'C-NMC_Leukemia/validation_data/C-NMC_test_prelim_phase_data/760.bmp', 'C-NMC_Leukemia/validation_data/C-NMC_test_prelim_phase_data/761.bmp', 'C-NMC_Leukemia/validation_data/C-NMC_test_prelim_phase_data/762.bmp', 'C-NMC_Leukemia/validation_data/C-NMC_test_prelim_phase_data/763.bmp', 'C-NMC_Leukemia/validation_data/C-NMC_test_prelim_phase_data/764.bmp', 'C-NMC_Leukemia/validation_data/C-NMC_test_prelim_phase_data/766.bmp', 'C-NMC_Leukemia/validation_data/C-NMC_test_prelim_phase_data/767.bmp', 'C-NMC_Leukemia/validation_data/C-NMC_test_prelim_phase_data/768.bmp', 'C-NMC_Leukemia/validation_data/C-NMC_test_prelim_phase_data/769.bmp', 'C-NMC_Leukemia/validation_data/C-NMC_test_prelim_phase_data/770.bmp', 'C-NMC_Leukemia/validation_data/C-NMC_test_prelim_phase_data/771.bmp', 'C-NMC_Leukemia/validation_data/C-NMC_test_prelim_phase_data/773.bmp', 'C-NMC_Leukemia/validation_data/C-NMC_test_prelim_phase_data/774.bmp', 'C-NMC_Leukemia/validation_data/C-NMC_test_prelim_phase_data/776.bmp', 'C-NMC_Leukemia/validation_data/C-NMC_test_prelim_phase_data/777.bmp', 'C-NMC_Leukemia/validation_data/C-NMC_test_prelim_phase_data/778.bmp', 'C-NMC_Leukemia/validation_data/C-NMC_test_prelim_phase_data/779.bmp', 'C-NMC_Leukemia/validation_data/C-NMC_test_prelim_phase_data/780.bmp', 'C-NMC_Leukemia/validation_data/C-NMC_test_prelim_phase_data/783.bmp', 'C-NMC_Leukemia/validation_data/C-NMC_test_prelim_phase_data/784.bmp', 'C-NMC_Leukemia/validation_data/C-NMC_test_prelim_phase_data/785.bmp', 'C-NMC_Leukemia/validation_data/C-NMC_test_prelim_phase_data/788.bmp', 'C-NMC_Leukemia/validation_data/C-NMC_test_prelim_phase_data/790.bmp', 'C-NMC_Leukemia/validation_data/C-NMC_test_prelim_phase_data/792.bmp', 'C-NMC_Leukemia/validation_data/C-NMC_test_prelim_phase_data/793.bmp', 'C-NMC_Leukemia/validation_data/C-NMC_test_prelim_phase_data/794.bmp', 'C-NMC_Leukemia/validation_data/C-NMC_test_prelim_phase_data/795.bmp', 'C-NMC_Leukemia/validation_data/C-NMC_test_prelim_phase_data/798.bmp', 'C-NMC_Leukemia/validation_data/C-NMC_test_prelim_phase_data/799.bmp', 'C-NMC_Leukemia/validation_data/C-NMC_test_prelim_phase_data/800.bmp', 'C-NMC_Leukemia/validation_data/C-NMC_test_prelim_phase_data/801.bmp', 'C-NMC_Leukemia/validation_data/C-NMC_test_prelim_phase_data/802.bmp', 'C-NMC_Leukemia/validation_data/C-NMC_test_prelim_phase_data/803.bmp', 'C-NMC_Leukemia/validation_data/C-NMC_test_prelim_phase_data/805.bmp', 'C-NMC_Leukemia/validation_data/C-NMC_test_prelim_phase_data/806.bmp', 'C-NMC_Leukemia/validation_data/C-NMC_test_prelim_phase_data/807.bmp', 'C-NMC_Leukemia/validation_data/C-NMC_test_prelim_phase_data/808.bmp', 'C-NMC_Leukemia/validation_data/C-NMC_test_prelim_phase_data/809.bmp', 'C-NMC_Leukemia/validation_data/C-NMC_test_prelim_phase_data/810.bmp', 'C-NMC_Leukemia/validation_data/C-NMC_test_prelim_phase_data/811.bmp', 'C-NMC_Leukemia/validation_data/C-NMC_test_prelim_phase_data/812.bmp', 'C-NMC_Leukemia/validation_data/C-NMC_test_prelim_phase_data/813.bmp', 'C-NMC_Leukemia/validation_data/C-NMC_test_prelim_phase_data/815.bmp', 'C-NMC_Leukemia/validation_data/C-NMC_test_prelim_phase_data/816.bmp', 'C-NMC_Leukemia/validation_data/C-NMC_test_prelim_phase_data/817.bmp', 'C-NMC_Leukemia/validation_data/C-NMC_test_prelim_phase_data/819.bmp', 'C-NMC_Leukemia/validation_data/C-NMC_test_prelim_phase_data/820.bmp', 'C-NMC_Leukemia/validation_data/C-NMC_test_prelim_phase_data/821.bmp', 'C-NMC_Leukemia/validation_data/C-NMC_test_prelim_phase_data/822.bmp', 'C-NMC_Leukemia/validation_data/C-NMC_test_prelim_phase_data/823.bmp', 'C-NMC_Leukemia/validation_data/C-NMC_test_prelim_phase_data/824.bmp', 'C-NMC_Leukemia/validation_data/C-NMC_test_prelim_phase_data/825.bmp', 'C-NMC_Leukemia/validation_data/C-NMC_test_prelim_phase_data/827.bmp', 'C-NMC_Leukemia/validation_data/C-NMC_test_prelim_phase_data/829.bmp', 'C-NMC_Leukemia/validation_data/C-NMC_test_prelim_phase_data/830.bmp', 'C-NMC_Leukemia/validation_data/C-NMC_test_prelim_phase_data/833.bmp', 'C-NMC_Leukemia/validation_data/C-NMC_test_prelim_phase_data/834.bmp', 'C-NMC_Leukemia/validation_data/C-NMC_test_prelim_phase_data/835.bmp', 'C-NMC_Leukemia/validation_data/C-NMC_test_prelim_phase_data/838.bmp', 'C-NMC_Leukemia/validation_data/C-NMC_test_prelim_phase_data/839.bmp', 'C-NMC_Leukemia/validation_data/C-NMC_test_prelim_phase_data/841.bmp', 'C-NMC_Leukemia/validation_data/C-NMC_test_prelim_phase_data/843.bmp', 'C-NMC_Leukemia/validation_data/C-NMC_test_prelim_phase_data/844.bmp', 'C-NMC_Leukemia/validation_data/C-NMC_test_prelim_phase_data/845.bmp', 'C-NMC_Leukemia/validation_data/C-NMC_test_prelim_phase_data/846.bmp', 'C-NMC_Leukemia/validation_data/C-NMC_test_prelim_phase_data/848.bmp', 'C-NMC_Leukemia/validation_data/C-NMC_test_prelim_phase_data/849.bmp', 'C-NMC_Leukemia/validation_data/C-NMC_test_prelim_phase_data/850.bmp', 'C-NMC_Leukemia/validation_data/C-NMC_test_prelim_phase_data/851.bmp', 'C-NMC_Leukemia/validation_data/C-NMC_test_prelim_phase_data/852.bmp', 'C-NMC_Leukemia/validation_data/C-NMC_test_prelim_phase_data/853.bmp', 'C-NMC_Leukemia/validation_data/C-NMC_test_prelim_phase_data/855.bmp', 'C-NMC_Leukemia/validation_data/C-NMC_test_prelim_phase_data/856.bmp', 'C-NMC_Leukemia/validation_data/C-NMC_test_prelim_phase_data/857.bmp', 'C-NMC_Leukemia/validation_data/C-NMC_test_prelim_phase_data/858.bmp', 'C-NMC_Leukemia/validation_data/C-NMC_test_prelim_phase_data/859.bmp', 'C-NMC_Leukemia/validation_data/C-NMC_test_prelim_phase_data/860.bmp', 'C-NMC_Leukemia/validation_data/C-NMC_test_prelim_phase_data/861.bmp', 'C-NMC_Leukemia/validation_data/C-NMC_test_prelim_phase_data/862.bmp', 'C-NMC_Leukemia/validation_data/C-NMC_test_prelim_phase_data/863.bmp', 'C-NMC_Leukemia/validation_data/C-NMC_test_prelim_phase_data/865.bmp', 'C-NMC_Leukemia/validation_data/C-NMC_test_prelim_phase_data/868.bmp', 'C-NMC_Leukemia/validation_data/C-NMC_test_prelim_phase_data/869.bmp', 'C-NMC_Leukemia/validation_data/C-NMC_test_prelim_phase_data/870.bmp', 'C-NMC_Leukemia/validation_data/C-NMC_test_prelim_phase_data/871.bmp', 'C-NMC_Leukemia/validation_data/C-NMC_test_prelim_phase_data/873.bmp', 'C-NMC_Leukemia/validation_data/C-NMC_test_prelim_phase_data/874.bmp', 'C-NMC_Leukemia/validation_data/C-NMC_test_prelim_phase_data/875.bmp', 'C-NMC_Leukemia/validation_data/C-NMC_test_prelim_phase_data/876.bmp', 'C-NMC_Leukemia/validation_data/C-NMC_test_prelim_phase_data/878.bmp', 'C-NMC_Leukemia/validation_data/C-NMC_test_prelim_phase_data/879.bmp', 'C-NMC_Leukemia/validation_data/C-NMC_test_prelim_phase_data/880.bmp', 'C-NMC_Leukemia/validation_data/C-NMC_test_prelim_phase_data/881.bmp', 'C-NMC_Leukemia/validation_data/C-NMC_test_prelim_phase_data/882.bmp', 'C-NMC_Leukemia/validation_data/C-NMC_test_prelim_phase_data/883.bmp', 'C-NMC_Leukemia/validation_data/C-NMC_test_prelim_phase_data/885.bmp', 'C-NMC_Leukemia/validation_data/C-NMC_test_prelim_phase_data/887.bmp', 'C-NMC_Leukemia/validation_data/C-NMC_test_prelim_phase_data/888.bmp', 'C-NMC_Leukemia/validation_data/C-NMC_test_prelim_phase_data/889.bmp', 'C-NMC_Leukemia/validation_data/C-NMC_test_prelim_phase_data/890.bmp', 'C-NMC_Leukemia/validation_data/C-NMC_test_prelim_phase_data/897.bmp', 'C-NMC_Leukemia/validation_data/C-NMC_test_prelim_phase_data/899.bmp', 'C-NMC_Leukemia/validation_data/C-NMC_test_prelim_phase_data/900.bmp', 'C-NMC_Leukemia/validation_data/C-NMC_test_prelim_phase_data/901.bmp', 'C-NMC_Leukemia/validation_data/C-NMC_test_prelim_phase_data/902.bmp', 'C-NMC_Leukemia/validation_data/C-NMC_test_prelim_phase_data/904.bmp', 'C-NMC_Leukemia/validation_data/C-NMC_test_prelim_phase_data/905.bmp', 'C-NMC_Leukemia/validation_data/C-NMC_test_prelim_phase_data/906.bmp', 'C-NMC_Leukemia/validation_data/C-NMC_test_prelim_phase_data/907.bmp', 'C-NMC_Leukemia/validation_data/C-NMC_test_prelim_phase_data/908.bmp', 'C-NMC_Leukemia/validation_data/C-NMC_test_prelim_phase_data/909.bmp', 'C-NMC_Leukemia/validation_data/C-NMC_test_prelim_phase_data/910.bmp', 'C-NMC_Leukemia/validation_data/C-NMC_test_prelim_phase_data/911.bmp', 'C-NMC_Leukemia/validation_data/C-NMC_test_prelim_phase_data/912.bmp', 'C-NMC_Leukemia/validation_data/C-NMC_test_prelim_phase_data/913.bmp', 'C-NMC_Leukemia/validation_data/C-NMC_test_prelim_phase_data/915.bmp', 'C-NMC_Leukemia/validation_data/C-NMC_test_prelim_phase_data/916.bmp', 'C-NMC_Leukemia/validation_data/C-NMC_test_prelim_phase_data/918.bmp', 'C-NMC_Leukemia/validation_data/C-NMC_test_prelim_phase_data/920.bmp', 'C-NMC_Leukemia/validation_data/C-NMC_test_prelim_phase_data/922.bmp', 'C-NMC_Leukemia/validation_data/C-NMC_test_prelim_phase_data/923.bmp', 'C-NMC_Leukemia/validation_data/C-NMC_test_prelim_phase_data/925.bmp', 'C-NMC_Leukemia/validation_data/C-NMC_test_prelim_phase_data/926.bmp', 'C-NMC_Leukemia/validation_data/C-NMC_test_prelim_phase_data/928.bmp', 'C-NMC_Leukemia/validation_data/C-NMC_test_prelim_phase_data/929.bmp', 'C-NMC_Leukemia/validation_data/C-NMC_test_prelim_phase_data/935.bmp', 'C-NMC_Leukemia/validation_data/C-NMC_test_prelim_phase_data/936.bmp', 'C-NMC_Leukemia/validation_data/C-NMC_test_prelim_phase_data/937.bmp', 'C-NMC_Leukemia/validation_data/C-NMC_test_prelim_phase_data/938.bmp', 'C-NMC_Leukemia/validation_data/C-NMC_test_prelim_phase_data/939.bmp', 'C-NMC_Leukemia/validation_data/C-NMC_test_prelim_phase_data/940.bmp', 'C-NMC_Leukemia/validation_data/C-NMC_test_prelim_phase_data/941.bmp', 'C-NMC_Leukemia/validation_data/C-NMC_test_prelim_phase_data/942.bmp', 'C-NMC_Leukemia/validation_data/C-NMC_test_prelim_phase_data/943.bmp', 'C-NMC_Leukemia/validation_data/C-NMC_test_prelim_phase_data/944.bmp', 'C-NMC_Leukemia/validation_data/C-NMC_test_prelim_phase_data/945.bmp', 'C-NMC_Leukemia/validation_data/C-NMC_test_prelim_phase_data/947.bmp', 'C-NMC_Leukemia/validation_data/C-NMC_test_prelim_phase_data/948.bmp', 'C-NMC_Leukemia/validation_data/C-NMC_test_prelim_phase_data/952.bmp', 'C-NMC_Leukemia/validation_data/C-NMC_test_prelim_phase_data/953.bmp', 'C-NMC_Leukemia/validation_data/C-NMC_test_prelim_phase_data/954.bmp', 'C-NMC_Leukemia/validation_data/C-NMC_test_prelim_phase_data/955.bmp', 'C-NMC_Leukemia/validation_data/C-NMC_test_prelim_phase_data/956.bmp', 'C-NMC_Leukemia/validation_data/C-NMC_test_prelim_phase_data/957.bmp', 'C-NMC_Leukemia/validation_data/C-NMC_test_prelim_phase_data/958.bmp', 'C-NMC_Leukemia/validation_data/C-NMC_test_prelim_phase_data/960.bmp', 'C-NMC_Leukemia/validation_data/C-NMC_test_prelim_phase_data/961.bmp', 'C-NMC_Leukemia/validation_data/C-NMC_test_prelim_phase_data/962.bmp', 'C-NMC_Leukemia/validation_data/C-NMC_test_prelim_phase_data/964.bmp', 'C-NMC_Leukemia/validation_data/C-NMC_test_prelim_phase_data/967.bmp', 'C-NMC_Leukemia/validation_data/C-NMC_test_prelim_phase_data/969.bmp', 'C-NMC_Leukemia/validation_data/C-NMC_test_prelim_phase_data/971.bmp', 'C-NMC_Leukemia/validation_data/C-NMC_test_prelim_phase_data/973.bmp', 'C-NMC_Leukemia/validation_data/C-NMC_test_prelim_phase_data/975.bmp', 'C-NMC_Leukemia/validation_data/C-NMC_test_prelim_phase_data/976.bmp', 'C-NMC_Leukemia/validation_data/C-NMC_test_prelim_phase_data/977.bmp', 'C-NMC_Leukemia/validation_data/C-NMC_test_prelim_phase_data/978.bmp', 'C-NMC_Leukemia/validation_data/C-NMC_test_prelim_phase_data/979.bmp', 'C-NMC_Leukemia/validation_data/C-NMC_test_prelim_phase_data/982.bmp', 'C-NMC_Leukemia/validation_data/C-NMC_test_prelim_phase_data/984.bmp', 'C-NMC_Leukemia/validation_data/C-NMC_test_prelim_phase_data/985.bmp', 'C-NMC_Leukemia/validation_data/C-NMC_test_prelim_phase_data/986.bmp', 'C-NMC_Leukemia/validation_data/C-NMC_test_prelim_phase_data/989.bmp', 'C-NMC_Leukemia/validation_data/C-NMC_test_prelim_phase_data/990.bmp', 'C-NMC_Leukemia/validation_data/C-NMC_test_prelim_phase_data/991.bmp', 'C-NMC_Leukemia/validation_data/C-NMC_test_prelim_phase_data/993.bmp', 'C-NMC_Leukemia/validation_data/C-NMC_test_prelim_phase_data/995.bmp', 'C-NMC_Leukemia/validation_data/C-NMC_test_prelim_phase_data/998.bmp', 'C-NMC_Leukemia/validation_data/C-NMC_test_prelim_phase_data/999.bmp', 'C-NMC_Leukemia/validation_data/C-NMC_test_prelim_phase_data/1000.bmp', 'C-NMC_Leukemia/validation_data/C-NMC_test_prelim_phase_data/1001.bmp', 'C-NMC_Leukemia/validation_data/C-NMC_test_prelim_phase_data/1003.bmp', 'C-NMC_Leukemia/validation_data/C-NMC_test_prelim_phase_data/1004.bmp', 'C-NMC_Leukemia/validation_data/C-NMC_test_prelim_phase_data/1005.bmp', 'C-NMC_Leukemia/validation_data/C-NMC_test_prelim_phase_data/1006.bmp', 'C-NMC_Leukemia/validation_data/C-NMC_test_prelim_phase_data/1008.bmp', 'C-NMC_Leukemia/validation_data/C-NMC_test_prelim_phase_data/1009.bmp', 'C-NMC_Leukemia/validation_data/C-NMC_test_prelim_phase_data/1010.bmp', 'C-NMC_Leukemia/validation_data/C-NMC_test_prelim_phase_data/1012.bmp', 'C-NMC_Leukemia/validation_data/C-NMC_test_prelim_phase_data/1016.bmp', 'C-NMC_Leukemia/validation_data/C-NMC_test_prelim_phase_data/1018.bmp', 'C-NMC_Leukemia/validation_data/C-NMC_test_prelim_phase_data/1019.bmp', 'C-NMC_Leukemia/validation_data/C-NMC_test_prelim_phase_data/1021.bmp', 'C-NMC_Leukemia/validation_data/C-NMC_test_prelim_phase_data/1022.bmp', 'C-NMC_Leukemia/validation_data/C-NMC_test_prelim_phase_data/1023.bmp', 'C-NMC_Leukemia/validation_data/C-NMC_test_prelim_phase_data/1026.bmp', 'C-NMC_Leukemia/validation_data/C-NMC_test_prelim_phase_data/1027.bmp', 'C-NMC_Leukemia/validation_data/C-NMC_test_prelim_phase_data/1028.bmp', 'C-NMC_Leukemia/validation_data/C-NMC_test_prelim_phase_data/1029.bmp', 'C-NMC_Leukemia/validation_data/C-NMC_test_prelim_phase_data/1030.bmp', 'C-NMC_Leukemia/validation_data/C-NMC_test_prelim_phase_data/1031.bmp', 'C-NMC_Leukemia/validation_data/C-NMC_test_prelim_phase_data/1032.bmp', 'C-NMC_Leukemia/validation_data/C-NMC_test_prelim_phase_data/1033.bmp', 'C-NMC_Leukemia/validation_data/C-NMC_test_prelim_phase_data/1036.bmp', 'C-NMC_Leukemia/validation_data/C-NMC_test_prelim_phase_data/1037.bmp', 'C-NMC_Leukemia/validation_data/C-NMC_test_prelim_phase_data/1038.bmp', 'C-NMC_Leukemia/validation_data/C-NMC_test_prelim_phase_data/1039.bmp', 'C-NMC_Leukemia/validation_data/C-NMC_test_prelim_phase_data/1040.bmp', 'C-NMC_Leukemia/validation_data/C-NMC_test_prelim_phase_data/1041.bmp', 'C-NMC_Leukemia/validation_data/C-NMC_test_prelim_phase_data/1042.bmp', 'C-NMC_Leukemia/validation_data/C-NMC_test_prelim_phase_data/1044.bmp', 'C-NMC_Leukemia/validation_data/C-NMC_test_prelim_phase_data/1045.bmp', 'C-NMC_Leukemia/validation_data/C-NMC_test_prelim_phase_data/1046.bmp', 'C-NMC_Leukemia/validation_data/C-NMC_test_prelim_phase_data/1047.bmp', 'C-NMC_Leukemia/validation_data/C-NMC_test_prelim_phase_data/1049.bmp', 'C-NMC_Leukemia/validation_data/C-NMC_test_prelim_phase_data/1051.bmp', 'C-NMC_Leukemia/validation_data/C-NMC_test_prelim_phase_data/1053.bmp', 'C-NMC_Leukemia/validation_data/C-NMC_test_prelim_phase_data/1054.bmp', 'C-NMC_Leukemia/validation_data/C-NMC_test_prelim_phase_data/1055.bmp', 'C-NMC_Leukemia/validation_data/C-NMC_test_prelim_phase_data/1058.bmp', 'C-NMC_Leukemia/validation_data/C-NMC_test_prelim_phase_data/1059.bmp', 'C-NMC_Leukemia/validation_data/C-NMC_test_prelim_phase_data/1060.bmp', 'C-NMC_Leukemia/validation_data/C-NMC_test_prelim_phase_data/1061.bmp', 'C-NMC_Leukemia/validation_data/C-NMC_test_prelim_phase_data/1065.bmp', 'C-NMC_Leukemia/validation_data/C-NMC_test_prelim_phase_data/1066.bmp', 'C-NMC_Leukemia/validation_data/C-NMC_test_prelim_phase_data/1068.bmp', 'C-NMC_Leukemia/validation_data/C-NMC_test_prelim_phase_data/1069.bmp', 'C-NMC_Leukemia/validation_data/C-NMC_test_prelim_phase_data/1071.bmp', 'C-NMC_Leukemia/validation_data/C-NMC_test_prelim_phase_data/1073.bmp', 'C-NMC_Leukemia/validation_data/C-NMC_test_prelim_phase_data/1075.bmp', 'C-NMC_Leukemia/validation_data/C-NMC_test_prelim_phase_data/1076.bmp', 'C-NMC_Leukemia/validation_data/C-NMC_test_prelim_phase_data/1078.bmp', 'C-NMC_Leukemia/validation_data/C-NMC_test_prelim_phase_data/1079.bmp', 'C-NMC_Leukemia/validation_data/C-NMC_test_prelim_phase_data/1081.bmp', 'C-NMC_Leukemia/validation_data/C-NMC_test_prelim_phase_data/1082.bmp', 'C-NMC_Leukemia/validation_data/C-NMC_test_prelim_phase_data/1083.bmp', 'C-NMC_Leukemia/validation_data/C-NMC_test_prelim_phase_data/1084.bmp', 'C-NMC_Leukemia/validation_data/C-NMC_test_prelim_phase_data/1085.bmp', 'C-NMC_Leukemia/validation_data/C-NMC_test_prelim_phase_data/1087.bmp', 'C-NMC_Leukemia/validation_data/C-NMC_test_prelim_phase_data/1088.bmp', 'C-NMC_Leukemia/validation_data/C-NMC_test_prelim_phase_data/1089.bmp', 'C-NMC_Leukemia/validation_data/C-NMC_test_prelim_phase_data/1090.bmp', 'C-NMC_Leukemia/validation_data/C-NMC_test_prelim_phase_data/1091.bmp', 'C-NMC_Leukemia/validation_data/C-NMC_test_prelim_phase_data/1092.bmp', 'C-NMC_Leukemia/validation_data/C-NMC_test_prelim_phase_data/1095.bmp', 'C-NMC_Leukemia/validation_data/C-NMC_test_prelim_phase_data/1097.bmp', 'C-NMC_Leukemia/validation_data/C-NMC_test_prelim_phase_data/1098.bmp', 'C-NMC_Leukemia/validation_data/C-NMC_test_prelim_phase_data/1099.bmp', 'C-NMC_Leukemia/validation_data/C-NMC_test_prelim_phase_data/1100.bmp', 'C-NMC_Leukemia/validation_data/C-NMC_test_prelim_phase_data/1102.bmp', 'C-NMC_Leukemia/validation_data/C-NMC_test_prelim_phase_data/1103.bmp', 'C-NMC_Leukemia/validation_data/C-NMC_test_prelim_phase_data/1105.bmp', 'C-NMC_Leukemia/validation_data/C-NMC_test_prelim_phase_data/1106.bmp', 'C-NMC_Leukemia/validation_data/C-NMC_test_prelim_phase_data/1107.bmp', 'C-NMC_Leukemia/validation_data/C-NMC_test_prelim_phase_data/1108.bmp', 'C-NMC_Leukemia/validation_data/C-NMC_test_prelim_phase_data/1110.bmp', 'C-NMC_Leukemia/validation_data/C-NMC_test_prelim_phase_data/1112.bmp', 'C-NMC_Leukemia/validation_data/C-NMC_test_prelim_phase_data/1113.bmp', 'C-NMC_Leukemia/validation_data/C-NMC_test_prelim_phase_data/1116.bmp', 'C-NMC_Leukemia/validation_data/C-NMC_test_prelim_phase_data/1120.bmp', 'C-NMC_Leukemia/validation_data/C-NMC_test_prelim_phase_data/1121.bmp', 'C-NMC_Leukemia/validation_data/C-NMC_test_prelim_phase_data/1122.bmp', 'C-NMC_Leukemia/validation_data/C-NMC_test_prelim_phase_data/1124.bmp', 'C-NMC_Leukemia/validation_data/C-NMC_test_prelim_phase_data/1127.bmp', 'C-NMC_Leukemia/validation_data/C-NMC_test_prelim_phase_data/1130.bmp', 'C-NMC_Leukemia/validation_data/C-NMC_test_prelim_phase_data/1131.bmp', 'C-NMC_Leukemia/validation_data/C-NMC_test_prelim_phase_data/1132.bmp', 'C-NMC_Leukemia/validation_data/C-NMC_test_prelim_phase_data/1133.bmp', 'C-NMC_Leukemia/validation_data/C-NMC_test_prelim_phase_data/1134.bmp', 'C-NMC_Leukemia/validation_data/C-NMC_test_prelim_phase_data/1135.bmp', 'C-NMC_Leukemia/validation_data/C-NMC_test_prelim_phase_data/1138.bmp', 'C-NMC_Leukemia/validation_data/C-NMC_test_prelim_phase_data/1140.bmp', 'C-NMC_Leukemia/validation_data/C-NMC_test_prelim_phase_data/1141.bmp', 'C-NMC_Leukemia/validation_data/C-NMC_test_prelim_phase_data/1142.bmp', 'C-NMC_Leukemia/validation_data/C-NMC_test_prelim_phase_data/1143.bmp', 'C-NMC_Leukemia/validation_data/C-NMC_test_prelim_phase_data/1144.bmp', 'C-NMC_Leukemia/validation_data/C-NMC_test_prelim_phase_data/1145.bmp', 'C-NMC_Leukemia/validation_data/C-NMC_test_prelim_phase_data/1146.bmp', 'C-NMC_Leukemia/validation_data/C-NMC_test_prelim_phase_data/1147.bmp', 'C-NMC_Leukemia/validation_data/C-NMC_test_prelim_phase_data/1150.bmp', 'C-NMC_Leukemia/validation_data/C-NMC_test_prelim_phase_data/1151.bmp', 'C-NMC_Leukemia/validation_data/C-NMC_test_prelim_phase_data/1152.bmp', 'C-NMC_Leukemia/validation_data/C-NMC_test_prelim_phase_data/1153.bmp', 'C-NMC_Leukemia/validation_data/C-NMC_test_prelim_phase_data/1154.bmp', 'C-NMC_Leukemia/validation_data/C-NMC_test_prelim_phase_data/1156.bmp', 'C-NMC_Leukemia/validation_data/C-NMC_test_prelim_phase_data/1157.bmp', 'C-NMC_Leukemia/validation_data/C-NMC_test_prelim_phase_data/1158.bmp', 'C-NMC_Leukemia/validation_data/C-NMC_test_prelim_phase_data/1160.bmp', 'C-NMC_Leukemia/validation_data/C-NMC_test_prelim_phase_data/1161.bmp', 'C-NMC_Leukemia/validation_data/C-NMC_test_prelim_phase_data/1162.bmp', 'C-NMC_Leukemia/validation_data/C-NMC_test_prelim_phase_data/1164.bmp', 'C-NMC_Leukemia/validation_data/C-NMC_test_prelim_phase_data/1166.bmp', 'C-NMC_Leukemia/validation_data/C-NMC_test_prelim_phase_data/1167.bmp', 'C-NMC_Leukemia/validation_data/C-NMC_test_prelim_phase_data/1171.bmp', 'C-NMC_Leukemia/validation_data/C-NMC_test_prelim_phase_data/1173.bmp', 'C-NMC_Leukemia/validation_data/C-NMC_test_prelim_phase_data/1176.bmp', 'C-NMC_Leukemia/validation_data/C-NMC_test_prelim_phase_data/1177.bmp', 'C-NMC_Leukemia/validation_data/C-NMC_test_prelim_phase_data/1178.bmp', 'C-NMC_Leukemia/validation_data/C-NMC_test_prelim_phase_data/1179.bmp', 'C-NMC_Leukemia/validation_data/C-NMC_test_prelim_phase_data/1180.bmp', 'C-NMC_Leukemia/validation_data/C-NMC_test_prelim_phase_data/1181.bmp', 'C-NMC_Leukemia/validation_data/C-NMC_test_prelim_phase_data/1182.bmp', 'C-NMC_Leukemia/validation_data/C-NMC_test_prelim_phase_data/1184.bmp', 'C-NMC_Leukemia/validation_data/C-NMC_test_prelim_phase_data/1185.bmp', 'C-NMC_Leukemia/validation_data/C-NMC_test_prelim_phase_data/1186.bmp', 'C-NMC_Leukemia/validation_data/C-NMC_test_prelim_phase_data/1188.bmp', 'C-NMC_Leukemia/validation_data/C-NMC_test_prelim_phase_data/1189.bmp', 'C-NMC_Leukemia/validation_data/C-NMC_test_prelim_phase_data/1192.bmp', 'C-NMC_Leukemia/validation_data/C-NMC_test_prelim_phase_data/1193.bmp', 'C-NMC_Leukemia/validation_data/C-NMC_test_prelim_phase_data/1194.bmp', 'C-NMC_Leukemia/validation_data/C-NMC_test_prelim_phase_data/1196.bmp', 'C-NMC_Leukemia/validation_data/C-NMC_test_prelim_phase_data/1198.bmp', 'C-NMC_Leukemia/validation_data/C-NMC_test_prelim_phase_data/1199.bmp', 'C-NMC_Leukemia/validation_data/C-NMC_test_prelim_phase_data/1200.bmp', 'C-NMC_Leukemia/validation_data/C-NMC_test_prelim_phase_data/1201.bmp', 'C-NMC_Leukemia/validation_data/C-NMC_test_prelim_phase_data/1202.bmp', 'C-NMC_Leukemia/validation_data/C-NMC_test_prelim_phase_data/1203.bmp', 'C-NMC_Leukemia/validation_data/C-NMC_test_prelim_phase_data/1204.bmp', 'C-NMC_Leukemia/validation_data/C-NMC_test_prelim_phase_data/1205.bmp', 'C-NMC_Leukemia/validation_data/C-NMC_test_prelim_phase_data/1208.bmp', 'C-NMC_Leukemia/validation_data/C-NMC_test_prelim_phase_data/1209.bmp', 'C-NMC_Leukemia/validation_data/C-NMC_test_prelim_phase_data/1210.bmp', 'C-NMC_Leukemia/validation_data/C-NMC_test_prelim_phase_data/1212.bmp', 'C-NMC_Leukemia/validation_data/C-NMC_test_prelim_phase_data/1213.bmp', 'C-NMC_Leukemia/validation_data/C-NMC_test_prelim_phase_data/1215.bmp', 'C-NMC_Leukemia/validation_data/C-NMC_test_prelim_phase_data/1216.bmp', 'C-NMC_Leukemia/validation_data/C-NMC_test_prelim_phase_data/1217.bmp', 'C-NMC_Leukemia/validation_data/C-NMC_test_prelim_phase_data/1219.bmp', 'C-NMC_Leukemia/validation_data/C-NMC_test_prelim_phase_data/1221.bmp', 'C-NMC_Leukemia/validation_data/C-NMC_test_prelim_phase_data/1223.bmp', 'C-NMC_Leukemia/validation_data/C-NMC_test_prelim_phase_data/1224.bmp', 'C-NMC_Leukemia/validation_data/C-NMC_test_prelim_phase_data/1225.bmp', 'C-NMC_Leukemia/validation_data/C-NMC_test_prelim_phase_data/1226.bmp', 'C-NMC_Leukemia/validation_data/C-NMC_test_prelim_phase_data/1229.bmp', 'C-NMC_Leukemia/validation_data/C-NMC_test_prelim_phase_data/1234.bmp', 'C-NMC_Leukemia/validation_data/C-NMC_test_prelim_phase_data/1235.bmp', 'C-NMC_Leukemia/validation_data/C-NMC_test_prelim_phase_data/1236.bmp', 'C-NMC_Leukemia/validation_data/C-NMC_test_prelim_phase_data/1237.bmp', 'C-NMC_Leukemia/validation_data/C-NMC_test_prelim_phase_data/1238.bmp', 'C-NMC_Leukemia/validation_data/C-NMC_test_prelim_phase_data/1239.bmp', 'C-NMC_Leukemia/validation_data/C-NMC_test_prelim_phase_data/1240.bmp', 'C-NMC_Leukemia/validation_data/C-NMC_test_prelim_phase_data/1241.bmp', 'C-NMC_Leukemia/validation_data/C-NMC_test_prelim_phase_data/1242.bmp', 'C-NMC_Leukemia/validation_data/C-NMC_test_prelim_phase_data/1243.bmp', 'C-NMC_Leukemia/validation_data/C-NMC_test_prelim_phase_data/1244.bmp', 'C-NMC_Leukemia/validation_data/C-NMC_test_prelim_phase_data/1245.bmp', 'C-NMC_Leukemia/validation_data/C-NMC_test_prelim_phase_data/1246.bmp', 'C-NMC_Leukemia/validation_data/C-NMC_test_prelim_phase_data/1248.bmp', 'C-NMC_Leukemia/validation_data/C-NMC_test_prelim_phase_data/1250.bmp', 'C-NMC_Leukemia/validation_data/C-NMC_test_prelim_phase_data/1253.bmp', 'C-NMC_Leukemia/validation_data/C-NMC_test_prelim_phase_data/1254.bmp', 'C-NMC_Leukemia/validation_data/C-NMC_test_prelim_phase_data/1255.bmp', 'C-NMC_Leukemia/validation_data/C-NMC_test_prelim_phase_data/1256.bmp', 'C-NMC_Leukemia/validation_data/C-NMC_test_prelim_phase_data/1258.bmp', 'C-NMC_Leukemia/validation_data/C-NMC_test_prelim_phase_data/1260.bmp', 'C-NMC_Leukemia/validation_data/C-NMC_test_prelim_phase_data/1261.bmp', 'C-NMC_Leukemia/validation_data/C-NMC_test_prelim_phase_data/1264.bmp', 'C-NMC_Leukemia/validation_data/C-NMC_test_prelim_phase_data/1268.bmp', 'C-NMC_Leukemia/validation_data/C-NMC_test_prelim_phase_data/1270.bmp', 'C-NMC_Leukemia/validation_data/C-NMC_test_prelim_phase_data/1274.bmp', 'C-NMC_Leukemia/validation_data/C-NMC_test_prelim_phase_data/1276.bmp', 'C-NMC_Leukemia/validation_data/C-NMC_test_prelim_phase_data/1277.bmp', 'C-NMC_Leukemia/validation_data/C-NMC_test_prelim_phase_data/1279.bmp', 'C-NMC_Leukemia/validation_data/C-NMC_test_prelim_phase_data/1280.bmp', 'C-NMC_Leukemia/validation_data/C-NMC_test_prelim_phase_data/1281.bmp', 'C-NMC_Leukemia/validation_data/C-NMC_test_prelim_phase_data/1282.bmp', 'C-NMC_Leukemia/validation_data/C-NMC_test_prelim_phase_data/1283.bmp', 'C-NMC_Leukemia/validation_data/C-NMC_test_prelim_phase_data/1284.bmp', 'C-NMC_Leukemia/validation_data/C-NMC_test_prelim_phase_data/1287.bmp', 'C-NMC_Leukemia/validation_data/C-NMC_test_prelim_phase_data/1288.bmp', 'C-NMC_Leukemia/validation_data/C-NMC_test_prelim_phase_data/1289.bmp', 'C-NMC_Leukemia/validation_data/C-NMC_test_prelim_phase_data/1290.bmp', 'C-NMC_Leukemia/validation_data/C-NMC_test_prelim_phase_data/1291.bmp', 'C-NMC_Leukemia/validation_data/C-NMC_test_prelim_phase_data/1292.bmp', 'C-NMC_Leukemia/validation_data/C-NMC_test_prelim_phase_data/1294.bmp', 'C-NMC_Leukemia/validation_data/C-NMC_test_prelim_phase_data/1297.bmp', 'C-NMC_Leukemia/validation_data/C-NMC_test_prelim_phase_data/1298.bmp', 'C-NMC_Leukemia/validation_data/C-NMC_test_prelim_phase_data/1299.bmp', 'C-NMC_Leukemia/validation_data/C-NMC_test_prelim_phase_data/1300.bmp', 'C-NMC_Leukemia/validation_data/C-NMC_test_prelim_phase_data/1301.bmp', 'C-NMC_Leukemia/validation_data/C-NMC_test_prelim_phase_data/1304.bmp', 'C-NMC_Leukemia/validation_data/C-NMC_test_prelim_phase_data/1308.bmp', 'C-NMC_Leukemia/validation_data/C-NMC_test_prelim_phase_data/1309.bmp', 'C-NMC_Leukemia/validation_data/C-NMC_test_prelim_phase_data/1310.bmp', 'C-NMC_Leukemia/validation_data/C-NMC_test_prelim_phase_data/1311.bmp', 'C-NMC_Leukemia/validation_data/C-NMC_test_prelim_phase_data/1312.bmp', 'C-NMC_Leukemia/validation_data/C-NMC_test_prelim_phase_data/1314.bmp', 'C-NMC_Leukemia/validation_data/C-NMC_test_prelim_phase_data/1315.bmp', 'C-NMC_Leukemia/validation_data/C-NMC_test_prelim_phase_data/1316.bmp', 'C-NMC_Leukemia/validation_data/C-NMC_test_prelim_phase_data/1317.bmp', 'C-NMC_Leukemia/validation_data/C-NMC_test_prelim_phase_data/1318.bmp', 'C-NMC_Leukemia/validation_data/C-NMC_test_prelim_phase_data/1319.bmp', 'C-NMC_Leukemia/validation_data/C-NMC_test_prelim_phase_data/1320.bmp', 'C-NMC_Leukemia/validation_data/C-NMC_test_prelim_phase_data/1321.bmp', 'C-NMC_Leukemia/validation_data/C-NMC_test_prelim_phase_data/1322.bmp', 'C-NMC_Leukemia/validation_data/C-NMC_test_prelim_phase_data/1323.bmp', 'C-NMC_Leukemia/validation_data/C-NMC_test_prelim_phase_data/1325.bmp', 'C-NMC_Leukemia/validation_data/C-NMC_test_prelim_phase_data/1326.bmp', 'C-NMC_Leukemia/validation_data/C-NMC_test_prelim_phase_data/1327.bmp', 'C-NMC_Leukemia/validation_data/C-NMC_test_prelim_phase_data/1328.bmp', 'C-NMC_Leukemia/validation_data/C-NMC_test_prelim_phase_data/1330.bmp', 'C-NMC_Leukemia/validation_data/C-NMC_test_prelim_phase_data/1331.bmp', 'C-NMC_Leukemia/validation_data/C-NMC_test_prelim_phase_data/1333.bmp', 'C-NMC_Leukemia/validation_data/C-NMC_test_prelim_phase_data/1334.bmp', 'C-NMC_Leukemia/validation_data/C-NMC_test_prelim_phase_data/1336.bmp', 'C-NMC_Leukemia/validation_data/C-NMC_test_prelim_phase_data/1337.bmp', 'C-NMC_Leukemia/validation_data/C-NMC_test_prelim_phase_data/1339.bmp', 'C-NMC_Leukemia/validation_data/C-NMC_test_prelim_phase_data/1340.bmp', 'C-NMC_Leukemia/validation_data/C-NMC_test_prelim_phase_data/1341.bmp', 'C-NMC_Leukemia/validation_data/C-NMC_test_prelim_phase_data/1342.bmp', 'C-NMC_Leukemia/validation_data/C-NMC_test_prelim_phase_data/1343.bmp', 'C-NMC_Leukemia/validation_data/C-NMC_test_prelim_phase_data/1344.bmp', 'C-NMC_Leukemia/validation_data/C-NMC_test_prelim_phase_data/1345.bmp', 'C-NMC_Leukemia/validation_data/C-NMC_test_prelim_phase_data/1348.bmp', 'C-NMC_Leukemia/validation_data/C-NMC_test_prelim_phase_data/1350.bmp', 'C-NMC_Leukemia/validation_data/C-NMC_test_prelim_phase_data/1354.bmp', 'C-NMC_Leukemia/validation_data/C-NMC_test_prelim_phase_data/1355.bmp', 'C-NMC_Leukemia/validation_data/C-NMC_test_prelim_phase_data/1356.bmp', 'C-NMC_Leukemia/validation_data/C-NMC_test_prelim_phase_data/1357.bmp', 'C-NMC_Leukemia/validation_data/C-NMC_test_prelim_phase_data/1358.bmp', 'C-NMC_Leukemia/validation_data/C-NMC_test_prelim_phase_data/1359.bmp', 'C-NMC_Leukemia/validation_data/C-NMC_test_prelim_phase_data/1361.bmp', 'C-NMC_Leukemia/validation_data/C-NMC_test_prelim_phase_data/1362.bmp', 'C-NMC_Leukemia/validation_data/C-NMC_test_prelim_phase_data/1363.bmp', 'C-NMC_Leukemia/validation_data/C-NMC_test_prelim_phase_data/1366.bmp', 'C-NMC_Leukemia/validation_data/C-NMC_test_prelim_phase_data/1368.bmp', 'C-NMC_Leukemia/validation_data/C-NMC_test_prelim_phase_data/1369.bmp', 'C-NMC_Leukemia/validation_data/C-NMC_test_prelim_phase_data/1371.bmp', 'C-NMC_Leukemia/validation_data/C-NMC_test_prelim_phase_data/1372.bmp', 'C-NMC_Leukemia/validation_data/C-NMC_test_prelim_phase_data/1373.bmp', 'C-NMC_Leukemia/validation_data/C-NMC_test_prelim_phase_data/1374.bmp', 'C-NMC_Leukemia/validation_data/C-NMC_test_prelim_phase_data/1380.bmp', 'C-NMC_Leukemia/validation_data/C-NMC_test_prelim_phase_data/1382.bmp', 'C-NMC_Leukemia/validation_data/C-NMC_test_prelim_phase_data/1383.bmp', 'C-NMC_Leukemia/validation_data/C-NMC_test_prelim_phase_data/1384.bmp', 'C-NMC_Leukemia/validation_data/C-NMC_test_prelim_phase_data/1385.bmp', 'C-NMC_Leukemia/validation_data/C-NMC_test_prelim_phase_data/1386.bmp', 'C-NMC_Leukemia/validation_data/C-NMC_test_prelim_phase_data/1387.bmp', 'C-NMC_Leukemia/validation_data/C-NMC_test_prelim_phase_data/1388.bmp', 'C-NMC_Leukemia/validation_data/C-NMC_test_prelim_phase_data/1391.bmp', 'C-NMC_Leukemia/validation_data/C-NMC_test_prelim_phase_data/1392.bmp', 'C-NMC_Leukemia/validation_data/C-NMC_test_prelim_phase_data/1393.bmp', 'C-NMC_Leukemia/validation_data/C-NMC_test_prelim_phase_data/1394.bmp', 'C-NMC_Leukemia/validation_data/C-NMC_test_prelim_phase_data/1395.bmp', 'C-NMC_Leukemia/validation_data/C-NMC_test_prelim_phase_data/1396.bmp', 'C-NMC_Leukemia/validation_data/C-NMC_test_prelim_phase_data/1397.bmp', 'C-NMC_Leukemia/validation_data/C-NMC_test_prelim_phase_data/1398.bmp', 'C-NMC_Leukemia/validation_data/C-NMC_test_prelim_phase_data/1400.bmp', 'C-NMC_Leukemia/validation_data/C-NMC_test_prelim_phase_data/1403.bmp', 'C-NMC_Leukemia/validation_data/C-NMC_test_prelim_phase_data/1404.bmp', 'C-NMC_Leukemia/validation_data/C-NMC_test_prelim_phase_data/1405.bmp', 'C-NMC_Leukemia/validation_data/C-NMC_test_prelim_phase_data/1406.bmp', 'C-NMC_Leukemia/validation_data/C-NMC_test_prelim_phase_data/1407.bmp', 'C-NMC_Leukemia/validation_data/C-NMC_test_prelim_phase_data/1408.bmp', 'C-NMC_Leukemia/validation_data/C-NMC_test_prelim_phase_data/1412.bmp', 'C-NMC_Leukemia/validation_data/C-NMC_test_prelim_phase_data/1417.bmp', 'C-NMC_Leukemia/validation_data/C-NMC_test_prelim_phase_data/1418.bmp', 'C-NMC_Leukemia/validation_data/C-NMC_test_prelim_phase_data/1419.bmp', 'C-NMC_Leukemia/validation_data/C-NMC_test_prelim_phase_data/1420.bmp', 'C-NMC_Leukemia/validation_data/C-NMC_test_prelim_phase_data/1421.bmp', 'C-NMC_Leukemia/validation_data/C-NMC_test_prelim_phase_data/1423.bmp', 'C-NMC_Leukemia/validation_data/C-NMC_test_prelim_phase_data/1424.bmp', 'C-NMC_Leukemia/validation_data/C-NMC_test_prelim_phase_data/1425.bmp', 'C-NMC_Leukemia/validation_data/C-NMC_test_prelim_phase_data/1426.bmp', 'C-NMC_Leukemia/validation_data/C-NMC_test_prelim_phase_data/1427.bmp', 'C-NMC_Leukemia/validation_data/C-NMC_test_prelim_phase_data/1430.bmp', 'C-NMC_Leukemia/validation_data/C-NMC_test_prelim_phase_data/1432.bmp', 'C-NMC_Leukemia/validation_data/C-NMC_test_prelim_phase_data/1433.bmp', 'C-NMC_Leukemia/validation_data/C-NMC_test_prelim_phase_data/1434.bmp', 'C-NMC_Leukemia/validation_data/C-NMC_test_prelim_phase_data/1435.bmp', 'C-NMC_Leukemia/validation_data/C-NMC_test_prelim_phase_data/1437.bmp', 'C-NMC_Leukemia/validation_data/C-NMC_test_prelim_phase_data/1438.bmp', 'C-NMC_Leukemia/validation_data/C-NMC_test_prelim_phase_data/1443.bmp', 'C-NMC_Leukemia/validation_data/C-NMC_test_prelim_phase_data/1444.bmp', 'C-NMC_Leukemia/validation_data/C-NMC_test_prelim_phase_data/1445.bmp', 'C-NMC_Leukemia/validation_data/C-NMC_test_prelim_phase_data/1448.bmp', 'C-NMC_Leukemia/validation_data/C-NMC_test_prelim_phase_data/1452.bmp', 'C-NMC_Leukemia/validation_data/C-NMC_test_prelim_phase_data/1454.bmp', 'C-NMC_Leukemia/validation_data/C-NMC_test_prelim_phase_data/1457.bmp', 'C-NMC_Leukemia/validation_data/C-NMC_test_prelim_phase_data/1462.bmp', 'C-NMC_Leukemia/validation_data/C-NMC_test_prelim_phase_data/1463.bmp', 'C-NMC_Leukemia/validation_data/C-NMC_test_prelim_phase_data/1464.bmp', 'C-NMC_Leukemia/validation_data/C-NMC_test_prelim_phase_data/1467.bmp', 'C-NMC_Leukemia/validation_data/C-NMC_test_prelim_phase_data/1469.bmp', 'C-NMC_Leukemia/validation_data/C-NMC_test_prelim_phase_data/1474.bmp', 'C-NMC_Leukemia/validation_data/C-NMC_test_prelim_phase_data/1475.bmp', 'C-NMC_Leukemia/validation_data/C-NMC_test_prelim_phase_data/1476.bmp', 'C-NMC_Leukemia/validation_data/C-NMC_test_prelim_phase_data/1477.bmp', 'C-NMC_Leukemia/validation_data/C-NMC_test_prelim_phase_data/1478.bmp', 'C-NMC_Leukemia/validation_data/C-NMC_test_prelim_phase_data/1479.bmp', 'C-NMC_Leukemia/validation_data/C-NMC_test_prelim_phase_data/1480.bmp', 'C-NMC_Leukemia/validation_data/C-NMC_test_prelim_phase_data/1481.bmp', 'C-NMC_Leukemia/validation_data/C-NMC_test_prelim_phase_data/1482.bmp', 'C-NMC_Leukemia/validation_data/C-NMC_test_prelim_phase_data/1483.bmp', 'C-NMC_Leukemia/validation_data/C-NMC_test_prelim_phase_data/1484.bmp', 'C-NMC_Leukemia/validation_data/C-NMC_test_prelim_phase_data/1486.bmp', 'C-NMC_Leukemia/validation_data/C-NMC_test_prelim_phase_data/1488.bmp', 'C-NMC_Leukemia/validation_data/C-NMC_test_prelim_phase_data/1489.bmp', 'C-NMC_Leukemia/validation_data/C-NMC_test_prelim_phase_data/1490.bmp', 'C-NMC_Leukemia/validation_data/C-NMC_test_prelim_phase_data/1492.bmp', 'C-NMC_Leukemia/validation_data/C-NMC_test_prelim_phase_data/1493.bmp', 'C-NMC_Leukemia/validation_data/C-NMC_test_prelim_phase_data/1494.bmp', 'C-NMC_Leukemia/validation_data/C-NMC_test_prelim_phase_data/1495.bmp', 'C-NMC_Leukemia/validation_data/C-NMC_test_prelim_phase_data/1496.bmp', 'C-NMC_Leukemia/validation_data/C-NMC_test_prelim_phase_data/1497.bmp', 'C-NMC_Leukemia/validation_data/C-NMC_test_prelim_phase_data/1498.bmp', 'C-NMC_Leukemia/validation_data/C-NMC_test_prelim_phase_data/1499.bmp', 'C-NMC_Leukemia/validation_data/C-NMC_test_prelim_phase_data/1500.bmp', 'C-NMC_Leukemia/validation_data/C-NMC_test_prelim_phase_data/1501.bmp', 'C-NMC_Leukemia/validation_data/C-NMC_test_prelim_phase_data/1502.bmp', 'C-NMC_Leukemia/validation_data/C-NMC_test_prelim_phase_data/1503.bmp', 'C-NMC_Leukemia/validation_data/C-NMC_test_prelim_phase_data/1504.bmp', 'C-NMC_Leukemia/validation_data/C-NMC_test_prelim_phase_data/1506.bmp', 'C-NMC_Leukemia/validation_data/C-NMC_test_prelim_phase_data/1507.bmp', 'C-NMC_Leukemia/validation_data/C-NMC_test_prelim_phase_data/1508.bmp', 'C-NMC_Leukemia/validation_data/C-NMC_test_prelim_phase_data/1509.bmp', 'C-NMC_Leukemia/validation_data/C-NMC_test_prelim_phase_data/1510.bmp', 'C-NMC_Leukemia/validation_data/C-NMC_test_prelim_phase_data/1511.bmp', 'C-NMC_Leukemia/validation_data/C-NMC_test_prelim_phase_data/1512.bmp', 'C-NMC_Leukemia/validation_data/C-NMC_test_prelim_phase_data/1513.bmp', 'C-NMC_Leukemia/validation_data/C-NMC_test_prelim_phase_data/1515.bmp', 'C-NMC_Leukemia/validation_data/C-NMC_test_prelim_phase_data/1516.bmp', 'C-NMC_Leukemia/validation_data/C-NMC_test_prelim_phase_data/1517.bmp', 'C-NMC_Leukemia/validation_data/C-NMC_test_prelim_phase_data/1519.bmp', 'C-NMC_Leukemia/validation_data/C-NMC_test_prelim_phase_data/1521.bmp', 'C-NMC_Leukemia/validation_data/C-NMC_test_prelim_phase_data/1522.bmp', 'C-NMC_Leukemia/validation_data/C-NMC_test_prelim_phase_data/1523.bmp', 'C-NMC_Leukemia/validation_data/C-NMC_test_prelim_phase_data/1524.bmp', 'C-NMC_Leukemia/validation_data/C-NMC_test_prelim_phase_data/1527.bmp', 'C-NMC_Leukemia/validation_data/C-NMC_test_prelim_phase_data/1528.bmp', 'C-NMC_Leukemia/validation_data/C-NMC_test_prelim_phase_data/1529.bmp', 'C-NMC_Leukemia/validation_data/C-NMC_test_prelim_phase_data/1531.bmp', 'C-NMC_Leukemia/validation_data/C-NMC_test_prelim_phase_data/1534.bmp', 'C-NMC_Leukemia/validation_data/C-NMC_test_prelim_phase_data/1535.bmp', 'C-NMC_Leukemia/validation_data/C-NMC_test_prelim_phase_data/1539.bmp', 'C-NMC_Leukemia/validation_data/C-NMC_test_prelim_phase_data/1541.bmp', 'C-NMC_Leukemia/validation_data/C-NMC_test_prelim_phase_data/1542.bmp', 'C-NMC_Leukemia/validation_data/C-NMC_test_prelim_phase_data/1543.bmp', 'C-NMC_Leukemia/validation_data/C-NMC_test_prelim_phase_data/1544.bmp', 'C-NMC_Leukemia/validation_data/C-NMC_test_prelim_phase_data/1546.bmp', 'C-NMC_Leukemia/validation_data/C-NMC_test_prelim_phase_data/1547.bmp', 'C-NMC_Leukemia/validation_data/C-NMC_test_prelim_phase_data/1549.bmp', 'C-NMC_Leukemia/validation_data/C-NMC_test_prelim_phase_data/1550.bmp', 'C-NMC_Leukemia/validation_data/C-NMC_test_prelim_phase_data/1552.bmp', 'C-NMC_Leukemia/validation_data/C-NMC_test_prelim_phase_data/1554.bmp', 'C-NMC_Leukemia/validation_data/C-NMC_test_prelim_phase_data/1555.bmp', 'C-NMC_Leukemia/validation_data/C-NMC_test_prelim_phase_data/1556.bmp', 'C-NMC_Leukemia/validation_data/C-NMC_test_prelim_phase_data/1559.bmp', 'C-NMC_Leukemia/validation_data/C-NMC_test_prelim_phase_data/1561.bmp', 'C-NMC_Leukemia/validation_data/C-NMC_test_prelim_phase_data/1562.bmp', 'C-NMC_Leukemia/validation_data/C-NMC_test_prelim_phase_data/1563.bmp', 'C-NMC_Leukemia/validation_data/C-NMC_test_prelim_phase_data/1564.bmp', 'C-NMC_Leukemia/validation_data/C-NMC_test_prelim_phase_data/1568.bmp', 'C-NMC_Leukemia/validation_data/C-NMC_test_prelim_phase_data/1569.bmp', 'C-NMC_Leukemia/validation_data/C-NMC_test_prelim_phase_data/1570.bmp', 'C-NMC_Leukemia/validation_data/C-NMC_test_prelim_phase_data/1571.bmp', 'C-NMC_Leukemia/validation_data/C-NMC_test_prelim_phase_data/1572.bmp', 'C-NMC_Leukemia/validation_data/C-NMC_test_prelim_phase_data/1574.bmp', 'C-NMC_Leukemia/validation_data/C-NMC_test_prelim_phase_data/1575.bmp', 'C-NMC_Leukemia/validation_data/C-NMC_test_prelim_phase_data/1576.bmp', 'C-NMC_Leukemia/validation_data/C-NMC_test_prelim_phase_data/1578.bmp', 'C-NMC_Leukemia/validation_data/C-NMC_test_prelim_phase_data/1579.bmp', 'C-NMC_Leukemia/validation_data/C-NMC_test_prelim_phase_data/1580.bmp', 'C-NMC_Leukemia/validation_data/C-NMC_test_prelim_phase_data/1581.bmp', 'C-NMC_Leukemia/validation_data/C-NMC_test_prelim_phase_data/1582.bmp', 'C-NMC_Leukemia/validation_data/C-NMC_test_prelim_phase_data/1584.bmp', 'C-NMC_Leukemia/validation_data/C-NMC_test_prelim_phase_data/1586.bmp', 'C-NMC_Leukemia/validation_data/C-NMC_test_prelim_phase_data/1587.bmp', 'C-NMC_Leukemia/validation_data/C-NMC_test_prelim_phase_data/1588.bmp', 'C-NMC_Leukemia/validation_data/C-NMC_test_prelim_phase_data/1589.bmp', 'C-NMC_Leukemia/validation_data/C-NMC_test_prelim_phase_data/1592.bmp', 'C-NMC_Leukemia/validation_data/C-NMC_test_prelim_phase_data/1593.bmp', 'C-NMC_Leukemia/validation_data/C-NMC_test_prelim_phase_data/1595.bmp', 'C-NMC_Leukemia/validation_data/C-NMC_test_prelim_phase_data/1596.bmp', 'C-NMC_Leukemia/validation_data/C-NMC_test_prelim_phase_data/1597.bmp', 'C-NMC_Leukemia/validation_data/C-NMC_test_prelim_phase_data/1598.bmp', 'C-NMC_Leukemia/validation_data/C-NMC_test_prelim_phase_data/1600.bmp', 'C-NMC_Leukemia/validation_data/C-NMC_test_prelim_phase_data/1601.bmp', 'C-NMC_Leukemia/validation_data/C-NMC_test_prelim_phase_data/1604.bmp', 'C-NMC_Leukemia/validation_data/C-NMC_test_prelim_phase_data/1605.bmp', 'C-NMC_Leukemia/validation_data/C-NMC_test_prelim_phase_data/1606.bmp', 'C-NMC_Leukemia/validation_data/C-NMC_test_prelim_phase_data/1607.bmp', 'C-NMC_Leukemia/validation_data/C-NMC_test_prelim_phase_data/1608.bmp', 'C-NMC_Leukemia/validation_data/C-NMC_test_prelim_phase_data/1610.bmp', 'C-NMC_Leukemia/validation_data/C-NMC_test_prelim_phase_data/1611.bmp', 'C-NMC_Leukemia/validation_data/C-NMC_test_prelim_phase_data/1613.bmp', 'C-NMC_Leukemia/validation_data/C-NMC_test_prelim_phase_data/1614.bmp', 'C-NMC_Leukemia/validation_data/C-NMC_test_prelim_phase_data/1615.bmp', 'C-NMC_Leukemia/validation_data/C-NMC_test_prelim_phase_data/1617.bmp', 'C-NMC_Leukemia/validation_data/C-NMC_test_prelim_phase_data/1618.bmp', 'C-NMC_Leukemia/validation_data/C-NMC_test_prelim_phase_data/1620.bmp', 'C-NMC_Leukemia/validation_data/C-NMC_test_prelim_phase_data/1621.bmp', 'C-NMC_Leukemia/validation_data/C-NMC_test_prelim_phase_data/1622.bmp', 'C-NMC_Leukemia/validation_data/C-NMC_test_prelim_phase_data/1625.bmp', 'C-NMC_Leukemia/validation_data/C-NMC_test_prelim_phase_data/1626.bmp', 'C-NMC_Leukemia/validation_data/C-NMC_test_prelim_phase_data/1627.bmp', 'C-NMC_Leukemia/validation_data/C-NMC_test_prelim_phase_data/1628.bmp', 'C-NMC_Leukemia/validation_data/C-NMC_test_prelim_phase_data/1631.bmp', 'C-NMC_Leukemia/validation_data/C-NMC_test_prelim_phase_data/1632.bmp', 'C-NMC_Leukemia/validation_data/C-NMC_test_prelim_phase_data/1633.bmp', 'C-NMC_Leukemia/validation_data/C-NMC_test_prelim_phase_data/1635.bmp', 'C-NMC_Leukemia/validation_data/C-NMC_test_prelim_phase_data/1636.bmp', 'C-NMC_Leukemia/validation_data/C-NMC_test_prelim_phase_data/1637.bmp', 'C-NMC_Leukemia/validation_data/C-NMC_test_prelim_phase_data/1638.bmp', 'C-NMC_Leukemia/validation_data/C-NMC_test_prelim_phase_data/1639.bmp', 'C-NMC_Leukemia/validation_data/C-NMC_test_prelim_phase_data/1642.bmp', 'C-NMC_Leukemia/validation_data/C-NMC_test_prelim_phase_data/1644.bmp', 'C-NMC_Leukemia/validation_data/C-NMC_test_prelim_phase_data/1645.bmp', 'C-NMC_Leukemia/validation_data/C-NMC_test_prelim_phase_data/1646.bmp', 'C-NMC_Leukemia/validation_data/C-NMC_test_prelim_phase_data/1647.bmp', 'C-NMC_Leukemia/validation_data/C-NMC_test_prelim_phase_data/1648.bmp', 'C-NMC_Leukemia/validation_data/C-NMC_test_prelim_phase_data/1650.bmp', 'C-NMC_Leukemia/validation_data/C-NMC_test_prelim_phase_data/1652.bmp', 'C-NMC_Leukemia/validation_data/C-NMC_test_prelim_phase_data/1653.bmp', 'C-NMC_Leukemia/validation_data/C-NMC_test_prelim_phase_data/1654.bmp', 'C-NMC_Leukemia/validation_data/C-NMC_test_prelim_phase_data/1657.bmp', 'C-NMC_Leukemia/validation_data/C-NMC_test_prelim_phase_data/1658.bmp', 'C-NMC_Leukemia/validation_data/C-NMC_test_prelim_phase_data/1660.bmp', 'C-NMC_Leukemia/validation_data/C-NMC_test_prelim_phase_data/1662.bmp', 'C-NMC_Leukemia/validation_data/C-NMC_test_prelim_phase_data/1665.bmp', 'C-NMC_Leukemia/validation_data/C-NMC_test_prelim_phase_data/1667.bmp', 'C-NMC_Leukemia/validation_data/C-NMC_test_prelim_phase_data/1668.bmp', 'C-NMC_Leukemia/validation_data/C-NMC_test_prelim_phase_data/1669.bmp', 'C-NMC_Leukemia/validation_data/C-NMC_test_prelim_phase_data/1672.bmp', 'C-NMC_Leukemia/validation_data/C-NMC_test_prelim_phase_data/1675.bmp', 'C-NMC_Leukemia/validation_data/C-NMC_test_prelim_phase_data/1676.bmp', 'C-NMC_Leukemia/validation_data/C-NMC_test_prelim_phase_data/1677.bmp', 'C-NMC_Leukemia/validation_data/C-NMC_test_prelim_phase_data/1679.bmp', 'C-NMC_Leukemia/validation_data/C-NMC_test_prelim_phase_data/1680.bmp', 'C-NMC_Leukemia/validation_data/C-NMC_test_prelim_phase_data/1681.bmp', 'C-NMC_Leukemia/validation_data/C-NMC_test_prelim_phase_data/1682.bmp', 'C-NMC_Leukemia/validation_data/C-NMC_test_prelim_phase_data/1683.bmp', 'C-NMC_Leukemia/validation_data/C-NMC_test_prelim_phase_data/1684.bmp', 'C-NMC_Leukemia/validation_data/C-NMC_test_prelim_phase_data/1685.bmp', 'C-NMC_Leukemia/validation_data/C-NMC_test_prelim_phase_data/1686.bmp', 'C-NMC_Leukemia/validation_data/C-NMC_test_prelim_phase_data/1687.bmp', 'C-NMC_Leukemia/validation_data/C-NMC_test_prelim_phase_data/1688.bmp', 'C-NMC_Leukemia/validation_data/C-NMC_test_prelim_phase_data/1689.bmp', 'C-NMC_Leukemia/validation_data/C-NMC_test_prelim_phase_data/1691.bmp', 'C-NMC_Leukemia/validation_data/C-NMC_test_prelim_phase_data/1692.bmp', 'C-NMC_Leukemia/validation_data/C-NMC_test_prelim_phase_data/1693.bmp', 'C-NMC_Leukemia/validation_data/C-NMC_test_prelim_phase_data/1695.bmp', 'C-NMC_Leukemia/validation_data/C-NMC_test_prelim_phase_data/1697.bmp', 'C-NMC_Leukemia/validation_data/C-NMC_test_prelim_phase_data/1698.bmp', 'C-NMC_Leukemia/validation_data/C-NMC_test_prelim_phase_data/1701.bmp', 'C-NMC_Leukemia/validation_data/C-NMC_test_prelim_phase_data/1702.bmp', 'C-NMC_Leukemia/validation_data/C-NMC_test_prelim_phase_data/1703.bmp', 'C-NMC_Leukemia/validation_data/C-NMC_test_prelim_phase_data/1704.bmp', 'C-NMC_Leukemia/validation_data/C-NMC_test_prelim_phase_data/1705.bmp', 'C-NMC_Leukemia/validation_data/C-NMC_test_prelim_phase_data/1706.bmp', 'C-NMC_Leukemia/validation_data/C-NMC_test_prelim_phase_data/1708.bmp', 'C-NMC_Leukemia/validation_data/C-NMC_test_prelim_phase_data/1709.bmp', 'C-NMC_Leukemia/validation_data/C-NMC_test_prelim_phase_data/1710.bmp', 'C-NMC_Leukemia/validation_data/C-NMC_test_prelim_phase_data/1713.bmp', 'C-NMC_Leukemia/validation_data/C-NMC_test_prelim_phase_data/1714.bmp', 'C-NMC_Leukemia/validation_data/C-NMC_test_prelim_phase_data/1715.bmp', 'C-NMC_Leukemia/validation_data/C-NMC_test_prelim_phase_data/1717.bmp', 'C-NMC_Leukemia/validation_data/C-NMC_test_prelim_phase_data/1719.bmp', 'C-NMC_Leukemia/validation_data/C-NMC_test_prelim_phase_data/1721.bmp', 'C-NMC_Leukemia/validation_data/C-NMC_test_prelim_phase_data/1722.bmp', 'C-NMC_Leukemia/validation_data/C-NMC_test_prelim_phase_data/1727.bmp', 'C-NMC_Leukemia/validation_data/C-NMC_test_prelim_phase_data/1728.bmp', 'C-NMC_Leukemia/validation_data/C-NMC_test_prelim_phase_data/1733.bmp', 'C-NMC_Leukemia/validation_data/C-NMC_test_prelim_phase_data/1734.bmp', 'C-NMC_Leukemia/validation_data/C-NMC_test_prelim_phase_data/1735.bmp', 'C-NMC_Leukemia/validation_data/C-NMC_test_prelim_phase_data/1736.bmp', 'C-NMC_Leukemia/validation_data/C-NMC_test_prelim_phase_data/1737.bmp', 'C-NMC_Leukemia/validation_data/C-NMC_test_prelim_phase_data/1740.bmp', 'C-NMC_Leukemia/validation_data/C-NMC_test_prelim_phase_data/1742.bmp', 'C-NMC_Leukemia/validation_data/C-NMC_test_prelim_phase_data/1743.bmp', 'C-NMC_Leukemia/validation_data/C-NMC_test_prelim_phase_data/1744.bmp', 'C-NMC_Leukemia/validation_data/C-NMC_test_prelim_phase_data/1748.bmp', 'C-NMC_Leukemia/validation_data/C-NMC_test_prelim_phase_data/1750.bmp', 'C-NMC_Leukemia/validation_data/C-NMC_test_prelim_phase_data/1751.bmp', 'C-NMC_Leukemia/validation_data/C-NMC_test_prelim_phase_data/1752.bmp', 'C-NMC_Leukemia/validation_data/C-NMC_test_prelim_phase_data/1755.bmp', 'C-NMC_Leukemia/validation_data/C-NMC_test_prelim_phase_data/1757.bmp', 'C-NMC_Leukemia/validation_data/C-NMC_test_prelim_phase_data/1762.bmp', 'C-NMC_Leukemia/validation_data/C-NMC_test_prelim_phase_data/1764.bmp', 'C-NMC_Leukemia/validation_data/C-NMC_test_prelim_phase_data/1765.bmp', 'C-NMC_Leukemia/validation_data/C-NMC_test_prelim_phase_data/1767.bmp', 'C-NMC_Leukemia/validation_data/C-NMC_test_prelim_phase_data/1768.bmp', 'C-NMC_Leukemia/validation_data/C-NMC_test_prelim_phase_data/1769.bmp', 'C-NMC_Leukemia/validation_data/C-NMC_test_prelim_phase_data/1771.bmp', 'C-NMC_Leukemia/validation_data/C-NMC_test_prelim_phase_data/1772.bmp', 'C-NMC_Leukemia/validation_data/C-NMC_test_prelim_phase_data/1775.bmp', 'C-NMC_Leukemia/validation_data/C-NMC_test_prelim_phase_data/1776.bmp', 'C-NMC_Leukemia/validation_data/C-NMC_test_prelim_phase_data/1778.bmp', 'C-NMC_Leukemia/validation_data/C-NMC_test_prelim_phase_data/1780.bmp', 'C-NMC_Leukemia/validation_data/C-NMC_test_prelim_phase_data/1782.bmp', 'C-NMC_Leukemia/validation_data/C-NMC_test_prelim_phase_data/1784.bmp', 'C-NMC_Leukemia/validation_data/C-NMC_test_prelim_phase_data/1785.bmp', 'C-NMC_Leukemia/validation_data/C-NMC_test_prelim_phase_data/1788.bmp', 'C-NMC_Leukemia/validation_data/C-NMC_test_prelim_phase_data/1789.bmp', 'C-NMC_Leukemia/validation_data/C-NMC_test_prelim_phase_data/1790.bmp', 'C-NMC_Leukemia/validation_data/C-NMC_test_prelim_phase_data/1791.bmp', 'C-NMC_Leukemia/validation_data/C-NMC_test_prelim_phase_data/1793.bmp', 'C-NMC_Leukemia/validation_data/C-NMC_test_prelim_phase_data/1796.bmp', 'C-NMC_Leukemia/validation_data/C-NMC_test_prelim_phase_data/1797.bmp', 'C-NMC_Leukemia/validation_data/C-NMC_test_prelim_phase_data/1799.bmp', 'C-NMC_Leukemia/validation_data/C-NMC_test_prelim_phase_data/1800.bmp', 'C-NMC_Leukemia/validation_data/C-NMC_test_prelim_phase_data/1801.bmp', 'C-NMC_Leukemia/validation_data/C-NMC_test_prelim_phase_data/1804.bmp', 'C-NMC_Leukemia/validation_data/C-NMC_test_prelim_phase_data/1805.bmp', 'C-NMC_Leukemia/validation_data/C-NMC_test_prelim_phase_data/1809.bmp', 'C-NMC_Leukemia/validation_data/C-NMC_test_prelim_phase_data/1810.bmp', 'C-NMC_Leukemia/validation_data/C-NMC_test_prelim_phase_data/1811.bmp', 'C-NMC_Leukemia/validation_data/C-NMC_test_prelim_phase_data/1812.bmp', 'C-NMC_Leukemia/validation_data/C-NMC_test_prelim_phase_data/1813.bmp', 'C-NMC_Leukemia/validation_data/C-NMC_test_prelim_phase_data/1816.bmp', 'C-NMC_Leukemia/validation_data/C-NMC_test_prelim_phase_data/1817.bmp', 'C-NMC_Leukemia/validation_data/C-NMC_test_prelim_phase_data/1818.bmp', 'C-NMC_Leukemia/validation_data/C-NMC_test_prelim_phase_data/1821.bmp', 'C-NMC_Leukemia/validation_data/C-NMC_test_prelim_phase_data/1822.bmp', 'C-NMC_Leukemia/validation_data/C-NMC_test_prelim_phase_data/1824.bmp', 'C-NMC_Leukemia/validation_data/C-NMC_test_prelim_phase_data/1825.bmp', 'C-NMC_Leukemia/validation_data/C-NMC_test_prelim_phase_data/1826.bmp', 'C-NMC_Leukemia/validation_data/C-NMC_test_prelim_phase_data/1828.bmp', 'C-NMC_Leukemia/validation_data/C-NMC_test_prelim_phase_data/1829.bmp', 'C-NMC_Leukemia/validation_data/C-NMC_test_prelim_phase_data/1830.bmp', 'C-NMC_Leukemia/validation_data/C-NMC_test_prelim_phase_data/1831.bmp', 'C-NMC_Leukemia/validation_data/C-NMC_test_prelim_phase_data/1832.bmp', 'C-NMC_Leukemia/validation_data/C-NMC_test_prelim_phase_data/1834.bmp', 'C-NMC_Leukemia/validation_data/C-NMC_test_prelim_phase_data/1835.bmp', 'C-NMC_Leukemia/validation_data/C-NMC_test_prelim_phase_data/1837.bmp', 'C-NMC_Leukemia/validation_data/C-NMC_test_prelim_phase_data/1843.bmp', 'C-NMC_Leukemia/validation_data/C-NMC_test_prelim_phase_data/1844.bmp', 'C-NMC_Leukemia/validation_data/C-NMC_test_prelim_phase_data/1846.bmp', 'C-NMC_Leukemia/validation_data/C-NMC_test_prelim_phase_data/1847.bmp', 'C-NMC_Leukemia/validation_data/C-NMC_test_prelim_phase_data/1848.bmp', 'C-NMC_Leukemia/validation_data/C-NMC_test_prelim_phase_data/1849.bmp', 'C-NMC_Leukemia/validation_data/C-NMC_test_prelim_phase_data/1851.bmp', 'C-NMC_Leukemia/validation_data/C-NMC_test_prelim_phase_data/1852.bmp', 'C-NMC_Leukemia/validation_data/C-NMC_test_prelim_phase_data/1853.bmp', 'C-NMC_Leukemia/validation_data/C-NMC_test_prelim_phase_data/1854.bmp', 'C-NMC_Leukemia/validation_data/C-NMC_test_prelim_phase_data/1855.bmp', 'C-NMC_Leukemia/validation_data/C-NMC_test_prelim_phase_data/1856.bmp', 'C-NMC_Leukemia/validation_data/C-NMC_test_prelim_phase_data/1857.bmp', 'C-NMC_Leukemia/validation_data/C-NMC_test_prelim_phase_data/1859.bmp', 'C-NMC_Leukemia/validation_data/C-NMC_test_prelim_phase_data/1860.bmp', 'C-NMC_Leukemia/validation_data/C-NMC_test_prelim_phase_data/1861.bmp', 'C-NMC_Leukemia/validation_data/C-NMC_test_prelim_phase_data/1862.bmp', 'C-NMC_Leukemia/validation_data/C-NMC_test_prelim_phase_data/1863.bmp', 'C-NMC_Leukemia/validation_data/C-NMC_test_prelim_phase_data/1864.bmp', 'C-NMC_Leukemia/validation_data/C-NMC_test_prelim_phase_data/1866.bmp', 'C-NMC_Leukemia/validation_data/C-NMC_test_prelim_phase_data/1867.bmp']\n"
          ]
        }
      ],
      "source": [
        "print(all_v_list)"
      ]
    },
    {
      "cell_type": "code",
      "execution_count": null,
      "id": "d7612794",
      "metadata": {
        "id": "d7612794",
        "outputId": "befe4109-929f-42ab-bfee-6521280b36f1"
      },
      "outputs": [
        {
          "name": "stdout",
          "output_type": "stream",
          "text": [
            "All List: 8491\n",
            "Hem List: 4037\n"
          ]
        }
      ],
      "source": [
        "# Merge all data into one data path list\n",
        "all_list.extend(all_v_list)\n",
        "hem_list.extend(hem_v_list)\n",
        "print(\"All List:\", len(all_list))\n",
        "print(\"Hem List:\",len( hem_list))"
      ]
    },
    {
      "cell_type": "code",
      "execution_count": null,
      "id": "88c8a349",
      "metadata": {
        "id": "88c8a349",
        "outputId": "ad6c90e8-885e-4bb0-b632-2cbc8c29c196"
      },
      "outputs": [
        {
          "data": {
            "text/html": [
              "<div>\n",
              "<style scoped>\n",
              "    .dataframe tbody tr th:only-of-type {\n",
              "        vertical-align: middle;\n",
              "    }\n",
              "\n",
              "    .dataframe tbody tr th {\n",
              "        vertical-align: top;\n",
              "    }\n",
              "\n",
              "    .dataframe thead th {\n",
              "        text-align: right;\n",
              "    }\n",
              "</style>\n",
              "<table border=\"1\" class=\"dataframe\">\n",
              "  <thead>\n",
              "    <tr style=\"text-align: right;\">\n",
              "      <th></th>\n",
              "      <th>path</th>\n",
              "      <th>label</th>\n",
              "    </tr>\n",
              "  </thead>\n",
              "  <tbody>\n",
              "    <tr>\n",
              "      <th>0</th>\n",
              "      <td>C-NMC_Leukemia/training_data/fold_0/hem\\UID_H1...</td>\n",
              "      <td>0</td>\n",
              "    </tr>\n",
              "    <tr>\n",
              "      <th>1</th>\n",
              "      <td>C-NMC_Leukemia/training_data/fold_0/hem\\UID_H1...</td>\n",
              "      <td>0</td>\n",
              "    </tr>\n",
              "    <tr>\n",
              "      <th>2</th>\n",
              "      <td>C-NMC_Leukemia/training_data/fold_0/hem\\UID_H1...</td>\n",
              "      <td>0</td>\n",
              "    </tr>\n",
              "    <tr>\n",
              "      <th>3</th>\n",
              "      <td>C-NMC_Leukemia/training_data/fold_0/hem\\UID_H1...</td>\n",
              "      <td>0</td>\n",
              "    </tr>\n",
              "    <tr>\n",
              "      <th>4</th>\n",
              "      <td>C-NMC_Leukemia/training_data/fold_0/hem\\UID_H1...</td>\n",
              "      <td>0</td>\n",
              "    </tr>\n",
              "  </tbody>\n",
              "</table>\n",
              "</div>"
            ],
            "text/plain": [
              "                                                path  label\n",
              "0  C-NMC_Leukemia/training_data/fold_0/hem\\UID_H1...      0\n",
              "1  C-NMC_Leukemia/training_data/fold_0/hem\\UID_H1...      0\n",
              "2  C-NMC_Leukemia/training_data/fold_0/hem\\UID_H1...      0\n",
              "3  C-NMC_Leukemia/training_data/fold_0/hem\\UID_H1...      0\n",
              "4  C-NMC_Leukemia/training_data/fold_0/hem\\UID_H1...      0"
            ]
          },
          "execution_count": 7,
          "metadata": {},
          "output_type": "execute_result"
        }
      ],
      "source": [
        "df_all = pd.DataFrame({'path' : all_list, 'label':1})\n",
        "df_hem = pd.DataFrame({'path': hem_list, 'label' : 0})\n",
        "df_hem.head()\n",
        "# merge to set of data into one pandas dataframe\n"
      ]
    },
    {
      "cell_type": "code",
      "execution_count": null,
      "id": "9b59119d",
      "metadata": {
        "id": "9b59119d",
        "outputId": "1431c28b-83c1-40f4-eb3a-ab9ef2229ab5"
      },
      "outputs": [
        {
          "name": "stdout",
          "output_type": "stream",
          "text": [
            "                                                    path  label\n",
            "0      C-NMC_Leukemia/training_data/fold_0/all\\UID_11...      1\n",
            "1      C-NMC_Leukemia/training_data/fold_0/all\\UID_11...      1\n",
            "2      C-NMC_Leukemia/training_data/fold_0/all\\UID_11...      1\n",
            "3      C-NMC_Leukemia/training_data/fold_0/all\\UID_11...      1\n",
            "4      C-NMC_Leukemia/training_data/fold_0/all\\UID_11...      1\n",
            "...                                                  ...    ...\n",
            "12523  C-NMC_Leukemia/validation_data/C-NMC_test_prel...      0\n",
            "12524  C-NMC_Leukemia/validation_data/C-NMC_test_prel...      0\n",
            "12525  C-NMC_Leukemia/validation_data/C-NMC_test_prel...      0\n",
            "12526  C-NMC_Leukemia/validation_data/C-NMC_test_prel...      0\n",
            "12527  C-NMC_Leukemia/validation_data/C-NMC_test_prel...      0\n",
            "\n",
            "[12528 rows x 2 columns]\n"
          ]
        }
      ],
      "source": [
        "# Concatenate dataframes along rows (axis=0)\n",
        "df = pd.concat([df_all, df_hem], ignore_index=True)\n",
        "\n",
        "# Display the concatenated dataframe\n",
        "print(df)"
      ]
    },
    {
      "cell_type": "code",
      "execution_count": null,
      "id": "1f9b4a68",
      "metadata": {
        "id": "1f9b4a68",
        "outputId": "256a87a5-ecf0-4e9f-b7b4-4d17e61adcd2"
      },
      "outputs": [
        {
          "name": "stdout",
          "output_type": "stream",
          "text": [
            "                                                    path  label\n",
            "0      C-NMC_Leukemia/training_data/fold_0/all/UID_11...      1\n",
            "1      C-NMC_Leukemia/training_data/fold_0/all/UID_11...      1\n",
            "2      C-NMC_Leukemia/training_data/fold_0/all/UID_11...      1\n",
            "3      C-NMC_Leukemia/training_data/fold_0/all/UID_11...      1\n",
            "4      C-NMC_Leukemia/training_data/fold_0/all/UID_11...      1\n",
            "...                                                  ...    ...\n",
            "12523  C-NMC_Leukemia/validation_data/C-NMC_test_prel...      0\n",
            "12524  C-NMC_Leukemia/validation_data/C-NMC_test_prel...      0\n",
            "12525  C-NMC_Leukemia/validation_data/C-NMC_test_prel...      0\n",
            "12526  C-NMC_Leukemia/validation_data/C-NMC_test_prel...      0\n",
            "12527  C-NMC_Leukemia/validation_data/C-NMC_test_prel...      0\n",
            "\n",
            "[12528 rows x 2 columns]\n"
          ]
        }
      ],
      "source": [
        "df['path'] = df['path'].str.replace('\\\\', '/', regex=False)\n",
        "print(df)"
      ]
    },
    {
      "cell_type": "code",
      "execution_count": null,
      "id": "9b7aa288",
      "metadata": {
        "id": "9b7aa288",
        "outputId": "91909f7a-1f05-45e8-cc8f-30dab66d12f5"
      },
      "outputs": [
        {
          "data": {
            "image/png": "[encoded data removed]",
            "text/plain": [
              "<PIL.BmpImagePlugin.BmpImageFile image mode=RGB size=450x450>"
            ]
          },
          "execution_count": 10,
          "metadata": {},
          "output_type": "execute_result"
        }
      ],
      "source": [
        "from PIL import Image\n",
        "\n",
        "# Example image file path\n",
        "image_path = df.path[0]\n",
        "\n",
        "# Open the image\n",
        "Image.open(image_path)\n",
        "\n",
        "# Display the image (optional)\n",
        "# image.show()\n"
      ]
    },
    {
      "cell_type": "code",
      "execution_count": null,
      "id": "7daf8925",
      "metadata": {
        "id": "7daf8925",
        "outputId": "58e855fa-4dcf-415b-85d3-7a2376dab754"
      },
      "outputs": [
        {
          "name": "stdout",
          "output_type": "stream",
          "text": [
            "                                                    path  label\n",
            "0      C-NMC_Leukemia/validation_data/C-NMC_test_prel...      1\n",
            "1      C-NMC_Leukemia/training_data/fold_1/all/UID_44...      1\n",
            "2      C-NMC_Leukemia/training_data/fold_2/all/UID_49...      1\n",
            "3      C-NMC_Leukemia/training_data/fold_2/all/UID_47...      1\n",
            "4      C-NMC_Leukemia/training_data/fold_1/all/UID_51...      1\n",
            "...                                                  ...    ...\n",
            "12523  C-NMC_Leukemia/validation_data/C-NMC_test_prel...      0\n",
            "12524  C-NMC_Leukemia/training_data/fold_2/all/UID_24...      1\n",
            "12525  C-NMC_Leukemia/training_data/fold_2/all/UID_25...      1\n",
            "12526  C-NMC_Leukemia/training_data/fold_0/all/UID_35...      1\n",
            "12527  C-NMC_Leukemia/training_data/fold_2/all/UID_78...      1\n",
            "\n",
            "[12528 rows x 2 columns]\n"
          ]
        }
      ],
      "source": [
        "\n",
        "# Set a seed for reproducibility\n",
        "seed = 42\n",
        "\n",
        "# Shuffle the DataFrame with the specified seed\n",
        "shuffled_df = df.sample(frac=1, random_state=seed).reset_index(drop=True)\n",
        "\n",
        "# Display the shuffled DataFrame\n",
        "print(shuffled_df)"
      ]
    },
    {
      "cell_type": "code",
      "execution_count": null,
      "id": "23a137da",
      "metadata": {
        "id": "23a137da",
        "outputId": "6f1536b3-9f97-4fd8-e10c-7a921b2cf7eb"
      },
      "outputs": [
        {
          "name": "stdout",
          "output_type": "stream",
          "text": [
            "path are C-NMC_Leukemia/training_data/fold_0/all/UID_11_10_1_all.bmp\n"
          ]
        },
        {
          "data": {
            "text/html": [
              "<div>\n",
              "<style scoped>\n",
              "    .dataframe tbody tr th:only-of-type {\n",
              "        vertical-align: middle;\n",
              "    }\n",
              "\n",
              "    .dataframe tbody tr th {\n",
              "        vertical-align: top;\n",
              "    }\n",
              "\n",
              "    .dataframe thead th {\n",
              "        text-align: right;\n",
              "    }\n",
              "</style>\n",
              "<table border=\"1\" class=\"dataframe\">\n",
              "  <thead>\n",
              "    <tr style=\"text-align: right;\">\n",
              "      <th></th>\n",
              "      <th>path</th>\n",
              "      <th>label</th>\n",
              "      <th>id</th>\n",
              "    </tr>\n",
              "  </thead>\n",
              "  <tbody>\n",
              "    <tr>\n",
              "      <th>0</th>\n",
              "      <td>C-NMC_Leukemia/validation_data/C-NMC_test_prel...</td>\n",
              "      <td>1</td>\n",
              "      <td>338</td>\n",
              "    </tr>\n",
              "    <tr>\n",
              "      <th>1</th>\n",
              "      <td>C-NMC_Leukemia/training_data/fold_1/all/UID_44...</td>\n",
              "      <td>1</td>\n",
              "      <td>UID_44_22_4_all</td>\n",
              "    </tr>\n",
              "    <tr>\n",
              "      <th>2</th>\n",
              "      <td>C-NMC_Leukemia/training_data/fold_2/all/UID_49...</td>\n",
              "      <td>1</td>\n",
              "      <td>UID_49_19_5_all</td>\n",
              "    </tr>\n",
              "    <tr>\n",
              "      <th>3</th>\n",
              "      <td>C-NMC_Leukemia/training_data/fold_2/all/UID_47...</td>\n",
              "      <td>1</td>\n",
              "      <td>UID_47_33_1_all</td>\n",
              "    </tr>\n",
              "    <tr>\n",
              "      <th>4</th>\n",
              "      <td>C-NMC_Leukemia/training_data/fold_1/all/UID_51...</td>\n",
              "      <td>1</td>\n",
              "      <td>UID_51_82_2_all</td>\n",
              "    </tr>\n",
              "    <tr>\n",
              "      <th>...</th>\n",
              "      <td>...</td>\n",
              "      <td>...</td>\n",
              "      <td>...</td>\n",
              "    </tr>\n",
              "    <tr>\n",
              "      <th>12523</th>\n",
              "      <td>C-NMC_Leukemia/validation_data/C-NMC_test_prel...</td>\n",
              "      <td>0</td>\n",
              "      <td>233</td>\n",
              "    </tr>\n",
              "    <tr>\n",
              "      <th>12524</th>\n",
              "      <td>C-NMC_Leukemia/training_data/fold_2/all/UID_24...</td>\n",
              "      <td>1</td>\n",
              "      <td>UID_24_5_3_all</td>\n",
              "    </tr>\n",
              "    <tr>\n",
              "      <th>12525</th>\n",
              "      <td>C-NMC_Leukemia/training_data/fold_2/all/UID_25...</td>\n",
              "      <td>1</td>\n",
              "      <td>UID_25_9_1_all</td>\n",
              "    </tr>\n",
              "    <tr>\n",
              "      <th>12526</th>\n",
              "      <td>C-NMC_Leukemia/training_data/fold_0/all/UID_35...</td>\n",
              "      <td>1</td>\n",
              "      <td>UID_35_3_4_all</td>\n",
              "    </tr>\n",
              "    <tr>\n",
              "      <th>12527</th>\n",
              "      <td>C-NMC_Leukemia/training_data/fold_2/all/UID_78...</td>\n",
              "      <td>1</td>\n",
              "      <td>UID_78_9_6_all</td>\n",
              "    </tr>\n",
              "  </tbody>\n",
              "</table>\n",
              "<p>12528 rows × 3 columns</p>\n",
              "</div>"
            ],
            "text/plain": [
              "                                                    path  label  \\\n",
              "0      C-NMC_Leukemia/validation_data/C-NMC_test_prel...      1   \n",
              "1      C-NMC_Leukemia/training_data/fold_1/all/UID_44...      1   \n",
              "2      C-NMC_Leukemia/training_data/fold_2/all/UID_49...      1   \n",
              "3      C-NMC_Leukemia/training_data/fold_2/all/UID_47...      1   \n",
              "4      C-NMC_Leukemia/training_data/fold_1/all/UID_51...      1   \n",
              "...                                                  ...    ...   \n",
              "12523  C-NMC_Leukemia/validation_data/C-NMC_test_prel...      0   \n",
              "12524  C-NMC_Leukemia/training_data/fold_2/all/UID_24...      1   \n",
              "12525  C-NMC_Leukemia/training_data/fold_2/all/UID_25...      1   \n",
              "12526  C-NMC_Leukemia/training_data/fold_0/all/UID_35...      1   \n",
              "12527  C-NMC_Leukemia/training_data/fold_2/all/UID_78...      1   \n",
              "\n",
              "                    id  \n",
              "0                  338  \n",
              "1      UID_44_22_4_all  \n",
              "2      UID_49_19_5_all  \n",
              "3      UID_47_33_1_all  \n",
              "4      UID_51_82_2_all  \n",
              "...                ...  \n",
              "12523              233  \n",
              "12524   UID_24_5_3_all  \n",
              "12525   UID_25_9_1_all  \n",
              "12526   UID_35_3_4_all  \n",
              "12527   UID_78_9_6_all  \n",
              "\n",
              "[12528 rows x 3 columns]"
            ]
          },
          "execution_count": 12,
          "metadata": {},
          "output_type": "execute_result"
        }
      ],
      "source": [
        "print(\"path are \" + df['path'][0])\n",
        "shuffled_df['id'] = shuffled_df['path'].apply(lambda x: x.split('/')[-1].split('.')[0])\n",
        "shuffled_df"
      ]
    },
    {
      "cell_type": "code",
      "execution_count": null,
      "id": "3e4c37c7",
      "metadata": {
        "scrolled": false,
        "id": "3e4c37c7",
        "outputId": "06310223-28e3-44e7-f1c1-59ef1ddae84f"
      },
      "outputs": [
        {
          "data": {
            "image/png": "[encoded data removed]",
            "text/plain": [
              "<PIL.BmpImagePlugin.BmpImageFile image mode=RGB size=450x450>"
            ]
          },
          "execution_count": 13,
          "metadata": {},
          "output_type": "execute_result"
        }
      ],
      "source": [
        "image_path = shuffled_df.path[3]\n",
        "\n",
        "# Open the image\n",
        "Image.open(image_path)"
      ]
    },
    {
      "cell_type": "code",
      "execution_count": null,
      "id": "9762a48b",
      "metadata": {
        "id": "9762a48b"
      },
      "outputs": [],
      "source": [
        "train_df, test_df = train_test_split(shuffled_df, test_size=0.2, random_state=42)\n"
      ]
    },
    {
      "cell_type": "code",
      "execution_count": null,
      "id": "a6951e8b",
      "metadata": {
        "id": "a6951e8b"
      },
      "outputs": [],
      "source": [
        "train_df, validation_df = train_test_split(train_df, test_size=0.2, random_state=42)\n"
      ]
    },
    {
      "cell_type": "code",
      "execution_count": null,
      "id": "a2cef0b3",
      "metadata": {
        "scrolled": true,
        "id": "a2cef0b3",
        "outputId": "b7f0f420-9ff9-4990-ad80-6cf77aeff815"
      },
      "outputs": [
        {
          "name": "stdout",
          "output_type": "stream",
          "text": [
            "Length of training set = 8017, validation set = 2005 and testing set = 2506\n"
          ]
        }
      ],
      "source": [
        "print(\"Length of training set = {}, validation set = {} and testing set = {}\".format(len(train_df), len(validation_df),len(test_df)))"
      ]
    },
    {
      "cell_type": "code",
      "execution_count": null,
      "id": "1bb593fb",
      "metadata": {
        "id": "1bb593fb",
        "outputId": "4e0c18a7-1294-4a83-ef52-4e6300c92b6f"
      },
      "outputs": [
        {
          "data": {
            "text/html": [
              "<div>\n",
              "<style scoped>\n",
              "    .dataframe tbody tr th:only-of-type {\n",
              "        vertical-align: middle;\n",
              "    }\n",
              "\n",
              "    .dataframe tbody tr th {\n",
              "        vertical-align: top;\n",
              "    }\n",
              "\n",
              "    .dataframe thead th {\n",
              "        text-align: right;\n",
              "    }\n",
              "</style>\n",
              "<table border=\"1\" class=\"dataframe\">\n",
              "  <thead>\n",
              "    <tr style=\"text-align: right;\">\n",
              "      <th></th>\n",
              "      <th>path</th>\n",
              "      <th>label</th>\n",
              "      <th>id</th>\n",
              "    </tr>\n",
              "  </thead>\n",
              "  <tbody>\n",
              "    <tr>\n",
              "      <th>1071</th>\n",
              "      <td>C-NMC_Leukemia/training_data/fold_2/all/UID_67...</td>\n",
              "      <td>1</td>\n",
              "      <td>UID_67_14_11_all</td>\n",
              "    </tr>\n",
              "    <tr>\n",
              "      <th>9014</th>\n",
              "      <td>C-NMC_Leukemia/training_data/fold_0/all/UID_52...</td>\n",
              "      <td>1</td>\n",
              "      <td>UID_52_24_9_all</td>\n",
              "    </tr>\n",
              "    <tr>\n",
              "      <th>12</th>\n",
              "      <td>C-NMC_Leukemia/training_data/fold_2/all/UID_67...</td>\n",
              "      <td>1</td>\n",
              "      <td>UID_67_3_4_all</td>\n",
              "    </tr>\n",
              "    <tr>\n",
              "      <th>10159</th>\n",
              "      <td>C-NMC_Leukemia/training_data/fold_0/all/UID_45...</td>\n",
              "      <td>1</td>\n",
              "      <td>UID_45_18_3_all</td>\n",
              "    </tr>\n",
              "    <tr>\n",
              "      <th>1765</th>\n",
              "      <td>C-NMC_Leukemia/training_data/fold_0/all/UID_48...</td>\n",
              "      <td>1</td>\n",
              "      <td>UID_48_27_5_all</td>\n",
              "    </tr>\n",
              "    <tr>\n",
              "      <th>...</th>\n",
              "      <td>...</td>\n",
              "      <td>...</td>\n",
              "      <td>...</td>\n",
              "    </tr>\n",
              "    <tr>\n",
              "      <th>5660</th>\n",
              "      <td>C-NMC_Leukemia/training_data/fold_0/all/UID_4_...</td>\n",
              "      <td>1</td>\n",
              "      <td>UID_4_15_2_all</td>\n",
              "    </tr>\n",
              "    <tr>\n",
              "      <th>183</th>\n",
              "      <td>C-NMC_Leukemia/training_data/fold_0/all/UID_50...</td>\n",
              "      <td>1</td>\n",
              "      <td>UID_50_7_6_all</td>\n",
              "    </tr>\n",
              "    <tr>\n",
              "      <th>5715</th>\n",
              "      <td>C-NMC_Leukemia/training_data/fold_0/all/UID_45...</td>\n",
              "      <td>1</td>\n",
              "      <td>UID_45_34_7_all</td>\n",
              "    </tr>\n",
              "    <tr>\n",
              "      <th>12173</th>\n",
              "      <td>C-NMC_Leukemia/training_data/fold_1/hem/UID_H2...</td>\n",
              "      <td>0</td>\n",
              "      <td>UID_H22_35_1_hem</td>\n",
              "    </tr>\n",
              "    <tr>\n",
              "      <th>10083</th>\n",
              "      <td>C-NMC_Leukemia/training_data/fold_2/hem/UID_H4...</td>\n",
              "      <td>0</td>\n",
              "      <td>UID_H40_19_6_hem</td>\n",
              "    </tr>\n",
              "  </tbody>\n",
              "</table>\n",
              "<p>8017 rows × 3 columns</p>\n",
              "</div>"
            ],
            "text/plain": [
              "                                                    path  label  \\\n",
              "1071   C-NMC_Leukemia/training_data/fold_2/all/UID_67...      1   \n",
              "9014   C-NMC_Leukemia/training_data/fold_0/all/UID_52...      1   \n",
              "12     C-NMC_Leukemia/training_data/fold_2/all/UID_67...      1   \n",
              "10159  C-NMC_Leukemia/training_data/fold_0/all/UID_45...      1   \n",
              "1765   C-NMC_Leukemia/training_data/fold_0/all/UID_48...      1   \n",
              "...                                                  ...    ...   \n",
              "5660   C-NMC_Leukemia/training_data/fold_0/all/UID_4_...      1   \n",
              "183    C-NMC_Leukemia/training_data/fold_0/all/UID_50...      1   \n",
              "5715   C-NMC_Leukemia/training_data/fold_0/all/UID_45...      1   \n",
              "12173  C-NMC_Leukemia/training_data/fold_1/hem/UID_H2...      0   \n",
              "10083  C-NMC_Leukemia/training_data/fold_2/hem/UID_H4...      0   \n",
              "\n",
              "                     id  \n",
              "1071   UID_67_14_11_all  \n",
              "9014    UID_52_24_9_all  \n",
              "12       UID_67_3_4_all  \n",
              "10159   UID_45_18_3_all  \n",
              "1765    UID_48_27_5_all  \n",
              "...                 ...  \n",
              "5660     UID_4_15_2_all  \n",
              "183      UID_50_7_6_all  \n",
              "5715    UID_45_34_7_all  \n",
              "12173  UID_H22_35_1_hem  \n",
              "10083  UID_H40_19_6_hem  \n",
              "\n",
              "[8017 rows x 3 columns]"
            ]
          },
          "execution_count": 17,
          "metadata": {},
          "output_type": "execute_result"
        }
      ],
      "source": [
        "train_df"
      ]
    },
    {
      "cell_type": "code",
      "execution_count": null,
      "id": "84645970",
      "metadata": {
        "id": "84645970"
      },
      "outputs": [],
      "source": [
        "# # Split the DataFrame into features and labels\n",
        "# features = shuffled_df['path']\n",
        "# labels = shuffled_df['label']\n",
        "# # Split the data into training, validation, and test sets\n",
        "# train_features, test_features, train_labels, test_labels = train_test_split(\n",
        "#     features, labels, test_size=0.2, random_state=42\n",
        "# )\n",
        "\n",
        "# # Further split the training data into training and validation sets\n",
        "# train_features, val_features, train_labels, val_labels = train_test_split(\n",
        "#     train_features, train_labels, test_size=0.2, random_state=42\n",
        "# )"
      ]
    },
    {
      "cell_type": "code",
      "execution_count": null,
      "id": "e792afeb",
      "metadata": {
        "id": "e792afeb"
      },
      "outputs": [],
      "source": [
        "# Assuming you have three DataFrames: train_df, validation_df, and test_df\n",
        "\n",
        "root_dir = \"data/bloodcell/\"\n",
        "\n",
        "# Iterate over each DataFrame and its corresponding folder name\n",
        "for df, folder_name in zip([train_df, validation_df, test_df], [\"train\", \"validation\", \"test\"]):\n",
        "    for _, r in df.iterrows():\n",
        "        # Determine the subfolder based on the label value\n",
        "        subfolder = \"hem\" if r.label == 0 else \"all\"\n",
        "\n",
        "        # Create subfolder if it doesn't exist\n",
        "        d = op.join(root_dir, folder_name, subfolder)\n",
        "        if not op.exists(d):\n",
        "            os.makedirs(d)\n",
        "\n",
        "        # Check if the file already exists in the destination\n",
        "        destination_path = op.join(d, f\"{r.id}.jpg\")\n",
        "        if not op.exists(destination_path):\n",
        "            # Copy the image to the appropriate subfolder with a new filename\n",
        "            shutil.copy(r.path, destination_path)"
      ]
    },
    {
      "cell_type": "raw",
      "id": "e3f27ff0",
      "metadata": {
        "id": "e3f27ff0"
      },
      "source": [
        "# file structure of data/bloodcell should look like this\n",
        "│─ root_dir\n",
        "│   │─ train\n",
        "│   │   │─ all\n",
        "│   │   │─ hem\n",
        "│   │\n",
        "│   │─ validation\n",
        "│   │   │─ all\n",
        "│   │   │─ hem\n",
        "│   │\n",
        "│   │─ test\n",
        "│       │─ all\n",
        "│       │─ hem"
      ]
    },
    {
      "cell_type": "code",
      "execution_count": null,
      "id": "46d00296",
      "metadata": {
        "id": "46d00296",
        "outputId": "167fceb4-723e-44cf-fd86-cde2434f7f57"
      },
      "outputs": [
        {
          "name": "stdout",
          "output_type": "stream",
          "text": [
            "For train dataset:\n",
            "Number of files in 'hem' folder: 2573\n",
            "Number of files in 'all' folder: 5444\n",
            "==============================\n",
            "For validation dataset:\n",
            "Number of files in 'hem' folder: 665\n",
            "Number of files in 'all' folder: 1340\n",
            "==============================\n",
            "For test dataset:\n",
            "Number of files in 'hem' folder: 799\n",
            "Number of files in 'all' folder: 1707\n",
            "==============================\n"
          ]
        }
      ],
      "source": [
        "# Assuming you have three DataFrames: train_df, validation_df, and test_df\n",
        "\n",
        "root_dir = \"data/bloodcell/\"\n",
        "\n",
        "# Iterate over each DataFrame and its corresponding folder name\n",
        "for df, folder_name in zip([train_df, validation_df, test_df], [\"train\", \"validation\", \"test\"]):\n",
        "    for _, r in df.iterrows():\n",
        "        # Determine the subfolder based on the label value\n",
        "        subfolder = \"hem\" if r.label == 0 else \"all\"\n",
        "\n",
        "        # Create subfolder if it doesn't exist\n",
        "        d = op.join(root_dir, folder_name, subfolder)\n",
        "        if not op.exists(d):\n",
        "            os.makedirs(d)\n",
        "\n",
        "        # Check if the file already exists in the destination\n",
        "        destination_path = op.join(d, f\"{r.id}.jpg\")\n",
        "        if not op.exists(destination_path):\n",
        "            # Copy the image to the appropriate subfolder with a new filename\n",
        "            shutil.copy(r.path, destination_path)\n",
        "\n",
        "# Print the number of files in 'hem' and 'all' subfolders for each dataset\n",
        "def print_folder_counts(root_dir, dataset_names=[\"train\", \"validation\", \"test\"]):\n",
        "    for folder_name in dataset_names:\n",
        "        hem_folder = op.join(root_dir, folder_name, \"hem\")\n",
        "        all_folder = op.join(root_dir, folder_name, \"all\")\n",
        "\n",
        "        hem_count = len(os.listdir(hem_folder))\n",
        "        all_count = len(os.listdir(all_folder))\n",
        "\n",
        "        print(f\"For {folder_name} dataset:\")\n",
        "        print(f\"Number of files in 'hem' folder: {hem_count}\")\n",
        "        print(f\"Number of files in 'all' folder: {all_count}\")\n",
        "        print(\"=\" * 30)\n",
        "\n",
        "root_directory = \"data/bloodcell/\"\n",
        "print_folder_counts(root_directory)"
      ]
    },
    {
      "cell_type": "code",
      "execution_count": null,
      "id": "473c36fa",
      "metadata": {
        "id": "473c36fa"
      },
      "outputs": [],
      "source": []
    },
    {
      "cell_type": "markdown",
      "id": "ffbc0194",
      "metadata": {
        "id": "ffbc0194"
      },
      "source": [
        "# Image classfification with Pytorch"
      ]
    },
    {
      "cell_type": "code",
      "execution_count": null,
      "id": "2a29a4fc",
      "metadata": {
        "id": "2a29a4fc",
        "outputId": "6bc40b27-c8d5-4ad6-b726-47ec855925d9"
      },
      "outputs": [
        {
          "data": {
            "text/html": [
              "<div>\n",
              "<style scoped>\n",
              "    .dataframe tbody tr th:only-of-type {\n",
              "        vertical-align: middle;\n",
              "    }\n",
              "\n",
              "    .dataframe tbody tr th {\n",
              "        vertical-align: top;\n",
              "    }\n",
              "\n",
              "    .dataframe thead th {\n",
              "        text-align: right;\n",
              "    }\n",
              "</style>\n",
              "<table border=\"1\" class=\"dataframe\">\n",
              "  <thead>\n",
              "    <tr style=\"text-align: right;\">\n",
              "      <th></th>\n",
              "      <th>path</th>\n",
              "      <th>label</th>\n",
              "      <th>id</th>\n",
              "    </tr>\n",
              "  </thead>\n",
              "  <tbody>\n",
              "    <tr>\n",
              "      <th>1071</th>\n",
              "      <td>C-NMC_Leukemia/training_data/fold_2/all/UID_67...</td>\n",
              "      <td>1</td>\n",
              "      <td>UID_67_14_11_all</td>\n",
              "    </tr>\n",
              "    <tr>\n",
              "      <th>9014</th>\n",
              "      <td>C-NMC_Leukemia/training_data/fold_0/all/UID_52...</td>\n",
              "      <td>1</td>\n",
              "      <td>UID_52_24_9_all</td>\n",
              "    </tr>\n",
              "    <tr>\n",
              "      <th>12</th>\n",
              "      <td>C-NMC_Leukemia/training_data/fold_2/all/UID_67...</td>\n",
              "      <td>1</td>\n",
              "      <td>UID_67_3_4_all</td>\n",
              "    </tr>\n",
              "    <tr>\n",
              "      <th>10159</th>\n",
              "      <td>C-NMC_Leukemia/training_data/fold_0/all/UID_45...</td>\n",
              "      <td>1</td>\n",
              "      <td>UID_45_18_3_all</td>\n",
              "    </tr>\n",
              "    <tr>\n",
              "      <th>1765</th>\n",
              "      <td>C-NMC_Leukemia/training_data/fold_0/all/UID_48...</td>\n",
              "      <td>1</td>\n",
              "      <td>UID_48_27_5_all</td>\n",
              "    </tr>\n",
              "    <tr>\n",
              "      <th>...</th>\n",
              "      <td>...</td>\n",
              "      <td>...</td>\n",
              "      <td>...</td>\n",
              "    </tr>\n",
              "    <tr>\n",
              "      <th>5660</th>\n",
              "      <td>C-NMC_Leukemia/training_data/fold_0/all/UID_4_...</td>\n",
              "      <td>1</td>\n",
              "      <td>UID_4_15_2_all</td>\n",
              "    </tr>\n",
              "    <tr>\n",
              "      <th>183</th>\n",
              "      <td>C-NMC_Leukemia/training_data/fold_0/all/UID_50...</td>\n",
              "      <td>1</td>\n",
              "      <td>UID_50_7_6_all</td>\n",
              "    </tr>\n",
              "    <tr>\n",
              "      <th>5715</th>\n",
              "      <td>C-NMC_Leukemia/training_data/fold_0/all/UID_45...</td>\n",
              "      <td>1</td>\n",
              "      <td>UID_45_34_7_all</td>\n",
              "    </tr>\n",
              "    <tr>\n",
              "      <th>12173</th>\n",
              "      <td>C-NMC_Leukemia/training_data/fold_1/hem/UID_H2...</td>\n",
              "      <td>0</td>\n",
              "      <td>UID_H22_35_1_hem</td>\n",
              "    </tr>\n",
              "    <tr>\n",
              "      <th>10083</th>\n",
              "      <td>C-NMC_Leukemia/training_data/fold_2/hem/UID_H4...</td>\n",
              "      <td>0</td>\n",
              "      <td>UID_H40_19_6_hem</td>\n",
              "    </tr>\n",
              "  </tbody>\n",
              "</table>\n",
              "<p>8017 rows × 3 columns</p>\n",
              "</div>"
            ],
            "text/plain": [
              "                                                    path  label  \\\n",
              "1071   C-NMC_Leukemia/training_data/fold_2/all/UID_67...      1   \n",
              "9014   C-NMC_Leukemia/training_data/fold_0/all/UID_52...      1   \n",
              "12     C-NMC_Leukemia/training_data/fold_2/all/UID_67...      1   \n",
              "10159  C-NMC_Leukemia/training_data/fold_0/all/UID_45...      1   \n",
              "1765   C-NMC_Leukemia/training_data/fold_0/all/UID_48...      1   \n",
              "...                                                  ...    ...   \n",
              "5660   C-NMC_Leukemia/training_data/fold_0/all/UID_4_...      1   \n",
              "183    C-NMC_Leukemia/training_data/fold_0/all/UID_50...      1   \n",
              "5715   C-NMC_Leukemia/training_data/fold_0/all/UID_45...      1   \n",
              "12173  C-NMC_Leukemia/training_data/fold_1/hem/UID_H2...      0   \n",
              "10083  C-NMC_Leukemia/training_data/fold_2/hem/UID_H4...      0   \n",
              "\n",
              "                     id  \n",
              "1071   UID_67_14_11_all  \n",
              "9014    UID_52_24_9_all  \n",
              "12       UID_67_3_4_all  \n",
              "10159   UID_45_18_3_all  \n",
              "1765    UID_48_27_5_all  \n",
              "...                 ...  \n",
              "5660     UID_4_15_2_all  \n",
              "183      UID_50_7_6_all  \n",
              "5715    UID_45_34_7_all  \n",
              "12173  UID_H22_35_1_hem  \n",
              "10083  UID_H40_19_6_hem  \n",
              "\n",
              "[8017 rows x 3 columns]"
            ]
          },
          "execution_count": 19,
          "metadata": {},
          "output_type": "execute_result"
        }
      ],
      "source": [
        "train_df"
      ]
    },
    {
      "cell_type": "code",
      "execution_count": null,
      "id": "3a6a75cd",
      "metadata": {
        "id": "3a6a75cd"
      },
      "outputs": [],
      "source": [
        "\n",
        "train_transform = transforms.Compose([\n",
        "    transforms.RandomRotation(10),\n",
        "    transforms.RandomHorizontalFlip(),\n",
        "    transforms.ToTensor()\n",
        "])\n",
        "\n"
      ]
    },
    {
      "cell_type": "code",
      "execution_count": null,
      "id": "61bea036",
      "metadata": {
        "id": "61bea036"
      },
      "outputs": [],
      "source": [
        "train_data = datasets.ImageFolder(\"data/bloodcell/train\",transform=train_transform)\n",
        "val_data = datasets.ImageFolder(\"data/bloodcell/validation\")"
      ]
    },
    {
      "cell_type": "code",
      "execution_count": null,
      "id": "da0eef6f",
      "metadata": {
        "id": "da0eef6f"
      },
      "outputs": [],
      "source": [
        "train_loader = DataLoader(train_data, batch_size=32, shuffle=True)\n",
        "val_loader = DataLoader(val_data, batch_size=32,shuffle=False)"
      ]
    },
    {
      "cell_type": "code",
      "execution_count": null,
      "id": "ddc43f89",
      "metadata": {
        "id": "ddc43f89"
      },
      "outputs": [],
      "source": [
        "n_train = len(train_loader.dataset)\n",
        "n_val = len(val_loader.dataset)"
      ]
    },
    {
      "cell_type": "code",
      "execution_count": null,
      "id": "d2ad0fb7",
      "metadata": {
        "id": "d2ad0fb7",
        "outputId": "55c2d6f1-c93b-4e17-d0f7-07546c7e0f97"
      },
      "outputs": [
        {
          "data": {
            "text/plain": [
              "(8017, 2005)"
            ]
          },
          "execution_count": 24,
          "metadata": {},
          "output_type": "execute_result"
        }
      ],
      "source": [
        "n_train, n_val"
      ]
    },
    {
      "cell_type": "code",
      "execution_count": null,
      "id": "d01fba85",
      "metadata": {
        "scrolled": true,
        "id": "d01fba85",
        "outputId": "a3edec2f-71cb-4fb4-a905-b97a7a03ce6e"
      },
      "outputs": [
        {
          "name": "stdout",
          "output_type": "stream",
          "text": [
            "For train dataset:\n",
            "Number of files in 'hem' folder: 2573\n",
            "Number of files in 'all' folder: 5444\n",
            "==============================\n",
            "For validation dataset:\n",
            "Number of files in 'hem' folder: 665\n",
            "Number of files in 'all' folder: 1340\n",
            "==============================\n",
            "For test dataset:\n",
            "Number of files in 'hem' folder: 799\n",
            "Number of files in 'all' folder: 1707\n",
            "==============================\n"
          ]
        }
      ],
      "source": [
        "\n",
        "root_directory = \"data/bloodcell/\"\n",
        "print_folder_counts(root_directory)"
      ]
    },
    {
      "cell_type": "code",
      "execution_count": null,
      "id": "1952f87e",
      "metadata": {
        "id": "1952f87e"
      },
      "outputs": [],
      "source": [
        "# example of 1 batch\n",
        "images, labels = next(iter(train_loader))"
      ]
    },
    {
      "cell_type": "code",
      "execution_count": null,
      "id": "0909c91a",
      "metadata": {
        "id": "0909c91a",
        "outputId": "c73377a3-53d0-44b3-d049-4f53e4f43452"
      },
      "outputs": [
        {
          "data": {
            "text/plain": [
              "(torch.Size([32, 3, 450, 450]), torch.Size([32]))"
            ]
          },
          "execution_count": 29,
          "metadata": {},
          "output_type": "execute_result"
        }
      ],
      "source": [
        "images.shape, labels.shape"
      ]
    },
    {
      "cell_type": "code",
      "execution_count": null,
      "id": "03fb01ef",
      "metadata": {
        "scrolled": true,
        "id": "03fb01ef",
        "outputId": "3a388c09-eff0-4aa7-eb4b-462b858e4c26"
      },
      "outputs": [
        {
          "data": {
            "image/png": "[encoded data removed]",
            "text/plain": [
              "<Figure size 2500x400 with 10 Axes>"
            ]
          },
          "metadata": {},
          "output_type": "display_data"
        }
      ],
      "source": [
        "idx2_class = {v: k for k, v in train_data.class_to_idx.items()}\n",
        "fig = plt.figure(figsize=(25, 4))  # Fix the typo in 'figzise'\n",
        "for i in range(10):\n",
        "    image = np.transpose(images.cpu()[i].numpy(), (1, 2, 0))  # Fix the transpose and add .numpy()\n",
        "    label = idx2_class[labels.cpu().tolist()[i]]\n",
        "    ax = fig.add_subplot(2, 8, i + 1, xticks=[], yticks=[])  # Fix the subplot dimensions\n",
        "    plt.imshow(image)\n",
        "    ax.set_title(label)\n"
      ]
    },
    {
      "cell_type": "code",
      "execution_count": null,
      "id": "72b901ad",
      "metadata": {
        "id": "72b901ad",
        "outputId": "bb5a9f8e-ba61-4a12-cc05-4419cb203b69"
      },
      "outputs": [
        {
          "name": "stderr",
          "output_type": "stream",
          "text": [
            "C:\\Users\\USER\\anaconda3\\lib\\site-packages\\torchvision\\models\\_utils.py:208: UserWarning: The parameter 'pretrained' is deprecated since 0.13 and may be removed in the future, please use 'weights' instead.\n",
            "  warnings.warn(\n",
            "C:\\Users\\USER\\anaconda3\\lib\\site-packages\\torchvision\\models\\_utils.py:223: UserWarning: Arguments other than a weight enum or `None` for 'weights' are deprecated since 0.13 and may be removed in the future. The current behavior is equivalent to passing `weights=ResNet34_Weights.IMAGENET1K_V1`. You can also use `weights=ResNet34_Weights.DEFAULT` to get the most up-to-date weights.\n",
            "  warnings.warn(msg)\n"
          ]
        }
      ],
      "source": [
        "# create pretained model\n",
        "model =  models.resnet34(pretrained=True)\n",
        "for param in model.parameters():\n",
        "        param.requires_grad=False"
      ]
    },
    {
      "cell_type": "code",
      "execution_count": null,
      "id": "b69802ba",
      "metadata": {
        "id": "b69802ba"
      },
      "outputs": [],
      "source": [
        "model"
      ]
    },
    {
      "cell_type": "code",
      "execution_count": null,
      "id": "c605f9d5",
      "metadata": {
        "id": "c605f9d5"
      },
      "outputs": [],
      "source": [
        "import torch.nn as nn\n",
        "model.fc = nn.Linear(in_features=512, out_features=len(train_data.classes))"
      ]
    },
    {
      "cell_type": "code",
      "execution_count": null,
      "id": "d91d708a",
      "metadata": {
        "id": "d91d708a"
      },
      "outputs": [],
      "source": [
        "cross_entropy = nn.CrossEntropyLoss()\n",
        "optimizer = torch.optim.SGD(model.parameters(), lr=2e-3)"
      ]
    },
    {
      "cell_type": "code",
      "execution_count": null,
      "id": "55cdc358",
      "metadata": {
        "id": "55cdc358",
        "outputId": "7db7fbce-7479-4d14-e46b-8c1e1ec0755c"
      },
      "outputs": [
        {
          "name": "stdout",
          "output_type": "stream",
          "text": [
            "GPU available: False\n"
          ]
        }
      ],
      "source": [
        "gpu = torch.cuda.is_available()\n",
        "print(\"GPU available:\", gpu)\n",
        "\n",
        "if gpu:\n",
        "    device = torch.device(\"cuda\")\n",
        "    model.to(device)\n",
        "    print(\"Model moved to GPU:\", torch.cuda.get_device_name(torch.cuda.current_device()))\n"
      ]
    },
    {
      "cell_type": "code",
      "execution_count": null,
      "id": "b8717cc7",
      "metadata": {
        "id": "b8717cc7"
      },
      "outputs": [],
      "source": [
        "n_epochs = 30\n",
        "for epoch in range(n_epochs):\n",
        "    # ช่วง train\n",
        "    model.train()\n",
        "    train_loss, val_loss = 0, 0\n",
        "    for images, labels in tqdm(train_loader):\n",
        "        if gpu:\n",
        "            images, labels = images.cuda(), labels.cuda()\n",
        "        optimizer.zero_grad()\n",
        "        pred = model(images) # คำนวณหา output (pred) จาก โมเดลที่มีอยู่\n",
        "        loss = cross_entropy(pred, labels)\n",
        "        loss.backward() # คำนวณ gradient จาก loss ที่ได้\n",
        "        optimizer.step() # อัพเดทพารามิเตอร์ของโมเดล\n",
        "        train_loss += loss.item() * images.size(0)\n",
        "\n",
        "    # ช่วง validate\n",
        "    model.eval() # เซ็ตเป็น evaluation mode\n",
        "    for images, labels in tqdm(val_loader):\n",
        "        if gpu:\n",
        "            images, labels = images.cuda(), labels.cuda()\n",
        "        pred = model(images)\n",
        "        loss = cross_entropy(pred, labels)\n",
        "        val_loss += loss.item() * images.size(0)\n",
        "    print(\"Training loss = {}, Validation loss = {}\".format(train_loss / n_train, val_loss / n_val))"
      ]
    },
    {
      "cell_type": "code",
      "execution_count": null,
      "id": "57b69941",
      "metadata": {
        "id": "57b69941"
      },
      "outputs": [],
      "source": [
        "gpu_available = torch.cuda.is_available()\n",
        "print(\"GPU available:\", gpu_available)"
      ]
    },
    {
      "cell_type": "code",
      "execution_count": null,
      "id": "076e138d",
      "metadata": {
        "id": "076e138d"
      },
      "outputs": [],
      "source": [
        "torch.cuda.is_available()"
      ]
    },
    {
      "cell_type": "markdown",
      "id": "a1acefc2",
      "metadata": {
        "id": "a1acefc2"
      },
      "source": [
        "use GPU to train for better performence\n",
        "https://www.youtube.com/watch?v=StH5YNrY0mE&t=39s / https://www.youtube.com/watch?v=K8qs9GlE4UQ"
      ]
    },
    {
      "cell_type": "markdown",
      "id": "93ccb6d7",
      "metadata": {
        "id": "93ccb6d7"
      },
      "source": [
        "https://www.youtube.com/watch?v=h7hhfmFJj2c"
      ]
    },
    {
      "cell_type": "markdown",
      "id": "6e3581ff",
      "metadata": {
        "id": "6e3581ff"
      },
      "source": [
        "Pytorch lighling"
      ]
    },
    {
      "cell_type": "code",
      "execution_count": null,
      "id": "e2a326c2",
      "metadata": {
        "id": "e2a326c2"
      },
      "outputs": [],
      "source": [
        "# !pip install pytorch_lightning"
      ]
    },
    {
      "cell_type": "code",
      "execution_count": null,
      "id": "6797526e",
      "metadata": {
        "id": "6797526e"
      },
      "outputs": [],
      "source": [
        "import torch\n",
        "import torch.nn as nn\n",
        "import pytorch_lightning as pl\n",
        "from torchmetrics import Accuracy\n",
        "from pytorch_lightning.callbacks import ModelCheckpoint\n",
        "from torchmetrics.classification import Accuracy"
      ]
    },
    {
      "cell_type": "code",
      "execution_count": null,
      "id": "f1476b8f",
      "metadata": {
        "id": "f1476b8f"
      },
      "outputs": [],
      "source": [
        "\n",
        "train_transform = transforms.Compose([\n",
        "    transforms.RandomRotation(10),\n",
        "    transforms.RandomHorizontalFlip(),\n",
        "    transforms.ToTensor()\n",
        "])\n",
        "\n",
        "val_transform = transforms.Compose([\n",
        "    transforms.ToTensor()\n",
        "])\n"
      ]
    },
    {
      "cell_type": "code",
      "execution_count": null,
      "id": "f7166fdd",
      "metadata": {
        "id": "f7166fdd"
      },
      "outputs": [],
      "source": [
        "\n",
        "train_transform = transforms.Compose([\n",
        "    transforms.RandomRotation(10),\n",
        "    transforms.RandomHorizontalFlip(),\n",
        "    transforms.ToTensor()\n",
        "])\n",
        "\n",
        "val_transform = transforms.Compose([\n",
        "    transforms.ToTensor()\n",
        "])\n",
        "\n",
        "train_data = datasets.ImageFolder(\"data/bloodcell/train\",transform=train_transform)\n",
        "val_data = datasets.ImageFolder(\"data/bloodcell/validation\",transform=val_transform)\n",
        "train_loader = DataLoader(train_data, batch_size=32, shuffle=True)\n",
        "val_loader = DataLoader(val_data, batch_size=32, shuffle=False)"
      ]
    },
    {
      "cell_type": "code",
      "execution_count": null,
      "id": "0658a980",
      "metadata": {
        "vscode": {
          "languageId": "r"
        },
        "id": "0658a980",
        "outputId": "df7e9a7e-e61d-4aec-aae3-1225a28e4634"
      },
      "outputs": [
        {
          "name": "stdout",
          "output_type": "stream",
          "text": [
            "(tensor([[[0., 0., 0.,  ..., 0., 0., 0.],\n",
            "         [0., 0., 0.,  ..., 0., 0., 0.],\n",
            "         [0., 0., 0.,  ..., 0., 0., 0.],\n",
            "         ...,\n",
            "         [0., 0., 0.,  ..., 0., 0., 0.],\n",
            "         [0., 0., 0.,  ..., 0., 0., 0.],\n",
            "         [0., 0., 0.,  ..., 0., 0., 0.]],\n",
            "\n",
            "        [[0., 0., 0.,  ..., 0., 0., 0.],\n",
            "         [0., 0., 0.,  ..., 0., 0., 0.],\n",
            "         [0., 0., 0.,  ..., 0., 0., 0.],\n",
            "         ...,\n",
            "         [0., 0., 0.,  ..., 0., 0., 0.],\n",
            "         [0., 0., 0.,  ..., 0., 0., 0.],\n",
            "         [0., 0., 0.,  ..., 0., 0., 0.]],\n",
            "\n",
            "        [[0., 0., 0.,  ..., 0., 0., 0.],\n",
            "         [0., 0., 0.,  ..., 0., 0., 0.],\n",
            "         [0., 0., 0.,  ..., 0., 0., 0.],\n",
            "         ...,\n",
            "         [0., 0., 0.,  ..., 0., 0., 0.],\n",
            "         [0., 0., 0.,  ..., 0., 0., 0.],\n",
            "         [0., 0., 0.,  ..., 0., 0., 0.]]]), 0)\n",
            "(tensor([[[0., 0., 0.,  ..., 0., 0., 0.],\n",
            "         [0., 0., 0.,  ..., 0., 0., 0.],\n",
            "         [0., 0., 0.,  ..., 0., 0., 0.],\n",
            "         ...,\n",
            "         [0., 0., 0.,  ..., 0., 0., 0.],\n",
            "         [0., 0., 0.,  ..., 0., 0., 0.],\n",
            "         [0., 0., 0.,  ..., 0., 0., 0.]],\n",
            "\n",
            "        [[0., 0., 0.,  ..., 0., 0., 0.],\n",
            "         [0., 0., 0.,  ..., 0., 0., 0.],\n",
            "         [0., 0., 0.,  ..., 0., 0., 0.],\n",
            "         ...,\n",
            "         [0., 0., 0.,  ..., 0., 0., 0.],\n",
            "         [0., 0., 0.,  ..., 0., 0., 0.],\n",
            "         [0., 0., 0.,  ..., 0., 0., 0.]],\n",
            "\n",
            "        [[0., 0., 0.,  ..., 0., 0., 0.],\n",
            "         [0., 0., 0.,  ..., 0., 0., 0.],\n",
            "         [0., 0., 0.,  ..., 0., 0., 0.],\n",
            "         ...,\n",
            "         [0., 0., 0.,  ..., 0., 0., 0.],\n",
            "         [0., 0., 0.,  ..., 0., 0., 0.],\n",
            "         [0., 0., 0.,  ..., 0., 0., 0.]]]), 0)\n",
            "(tensor([[[0., 0., 0.,  ..., 0., 0., 0.],\n",
            "         [0., 0., 0.,  ..., 0., 0., 0.],\n",
            "         [0., 0., 0.,  ..., 0., 0., 0.],\n",
            "         ...,\n",
            "         [0., 0., 0.,  ..., 0., 0., 0.],\n",
            "         [0., 0., 0.,  ..., 0., 0., 0.],\n",
            "         [0., 0., 0.,  ..., 0., 0., 0.]],\n",
            "\n",
            "        [[0., 0., 0.,  ..., 0., 0., 0.],\n",
            "         [0., 0., 0.,  ..., 0., 0., 0.],\n",
            "         [0., 0., 0.,  ..., 0., 0., 0.],\n",
            "         ...,\n",
            "         [0., 0., 0.,  ..., 0., 0., 0.],\n",
            "         [0., 0., 0.,  ..., 0., 0., 0.],\n",
            "         [0., 0., 0.,  ..., 0., 0., 0.]],\n",
            "\n",
            "        [[0., 0., 0.,  ..., 0., 0., 0.],\n",
            "         [0., 0., 0.,  ..., 0., 0., 0.],\n",
            "         [0., 0., 0.,  ..., 0., 0., 0.],\n",
            "         ...,\n",
            "         [0., 0., 0.,  ..., 0., 0., 0.],\n",
            "         [0., 0., 0.,  ..., 0., 0., 0.],\n",
            "         [0., 0., 0.,  ..., 0., 0., 0.]]]), 0)\n",
            "(tensor([[[0., 0., 0.,  ..., 0., 0., 0.],\n",
            "         [0., 0., 0.,  ..., 0., 0., 0.],\n",
            "         [0., 0., 0.,  ..., 0., 0., 0.],\n",
            "         ...,\n",
            "         [0., 0., 0.,  ..., 0., 0., 0.],\n",
            "         [0., 0., 0.,  ..., 0., 0., 0.],\n",
            "         [0., 0., 0.,  ..., 0., 0., 0.]],\n",
            "\n",
            "        [[0., 0., 0.,  ..., 0., 0., 0.],\n",
            "         [0., 0., 0.,  ..., 0., 0., 0.],\n",
            "         [0., 0., 0.,  ..., 0., 0., 0.],\n",
            "         ...,\n",
            "         [0., 0., 0.,  ..., 0., 0., 0.],\n",
            "         [0., 0., 0.,  ..., 0., 0., 0.],\n",
            "         [0., 0., 0.,  ..., 0., 0., 0.]],\n",
            "\n",
            "        [[0., 0., 0.,  ..., 0., 0., 0.],\n",
            "         [0., 0., 0.,  ..., 0., 0., 0.],\n",
            "         [0., 0., 0.,  ..., 0., 0., 0.],\n",
            "         ...,\n",
            "         [0., 0., 0.,  ..., 0., 0., 0.],\n",
            "         [0., 0., 0.,  ..., 0., 0., 0.],\n",
            "         [0., 0., 0.,  ..., 0., 0., 0.]]]), 0)\n",
            "(tensor([[[0., 0., 0.,  ..., 0., 0., 0.],\n",
            "         [0., 0., 0.,  ..., 0., 0., 0.],\n",
            "         [0., 0., 0.,  ..., 0., 0., 0.],\n",
            "         ...,\n",
            "         [0., 0., 0.,  ..., 0., 0., 0.],\n",
            "         [0., 0., 0.,  ..., 0., 0., 0.],\n",
            "         [0., 0., 0.,  ..., 0., 0., 0.]],\n",
            "\n",
            "        [[0., 0., 0.,  ..., 0., 0., 0.],\n",
            "         [0., 0., 0.,  ..., 0., 0., 0.],\n",
            "         [0., 0., 0.,  ..., 0., 0., 0.],\n",
            "         ...,\n",
            "         [0., 0., 0.,  ..., 0., 0., 0.],\n",
            "         [0., 0., 0.,  ..., 0., 0., 0.],\n",
            "         [0., 0., 0.,  ..., 0., 0., 0.]],\n",
            "\n",
            "        [[0., 0., 0.,  ..., 0., 0., 0.],\n",
            "         [0., 0., 0.,  ..., 0., 0., 0.],\n",
            "         [0., 0., 0.,  ..., 0., 0., 0.],\n",
            "         ...,\n",
            "         [0., 0., 0.,  ..., 0., 0., 0.],\n",
            "         [0., 0., 0.,  ..., 0., 0., 0.],\n",
            "         [0., 0., 0.,  ..., 0., 0., 0.]]]), 0)\n",
            "(tensor([[[0., 0., 0.,  ..., 0., 0., 0.],\n",
            "         [0., 0., 0.,  ..., 0., 0., 0.],\n",
            "         [0., 0., 0.,  ..., 0., 0., 0.],\n",
            "         ...,\n",
            "         [0., 0., 0.,  ..., 0., 0., 0.],\n",
            "         [0., 0., 0.,  ..., 0., 0., 0.],\n",
            "         [0., 0., 0.,  ..., 0., 0., 0.]],\n",
            "\n",
            "        [[0., 0., 0.,  ..., 0., 0., 0.],\n",
            "         [0., 0., 0.,  ..., 0., 0., 0.],\n",
            "         [0., 0., 0.,  ..., 0., 0., 0.],\n",
            "         ...,\n",
            "         [0., 0., 0.,  ..., 0., 0., 0.],\n",
            "         [0., 0., 0.,  ..., 0., 0., 0.],\n",
            "         [0., 0., 0.,  ..., 0., 0., 0.]],\n",
            "\n",
            "        [[0., 0., 0.,  ..., 0., 0., 0.],\n",
            "         [0., 0., 0.,  ..., 0., 0., 0.],\n",
            "         [0., 0., 0.,  ..., 0., 0., 0.],\n",
            "         ...,\n",
            "         [0., 0., 0.,  ..., 0., 0., 0.],\n",
            "         [0., 0., 0.,  ..., 0., 0., 0.],\n",
            "         [0., 0., 0.,  ..., 0., 0., 0.]]]), 0)\n",
            "(tensor([[[0., 0., 0.,  ..., 0., 0., 0.],\n",
            "         [0., 0., 0.,  ..., 0., 0., 0.],\n",
            "         [0., 0., 0.,  ..., 0., 0., 0.],\n",
            "         ...,\n",
            "         [0., 0., 0.,  ..., 0., 0., 0.],\n",
            "         [0., 0., 0.,  ..., 0., 0., 0.],\n",
            "         [0., 0., 0.,  ..., 0., 0., 0.]],\n",
            "\n",
            "        [[0., 0., 0.,  ..., 0., 0., 0.],\n",
            "         [0., 0., 0.,  ..., 0., 0., 0.],\n",
            "         [0., 0., 0.,  ..., 0., 0., 0.],\n",
            "         ...,\n",
            "         [0., 0., 0.,  ..., 0., 0., 0.],\n",
            "         [0., 0., 0.,  ..., 0., 0., 0.],\n",
            "         [0., 0., 0.,  ..., 0., 0., 0.]],\n",
            "\n",
            "        [[0., 0., 0.,  ..., 0., 0., 0.],\n",
            "         [0., 0., 0.,  ..., 0., 0., 0.],\n",
            "         [0., 0., 0.,  ..., 0., 0., 0.],\n",
            "         ...,\n",
            "         [0., 0., 0.,  ..., 0., 0., 0.],\n",
            "         [0., 0., 0.,  ..., 0., 0., 0.],\n",
            "         [0., 0., 0.,  ..., 0., 0., 0.]]]), 0)\n",
            "(tensor([[[0., 0., 0.,  ..., 0., 0., 0.],\n",
            "         [0., 0., 0.,  ..., 0., 0., 0.],\n",
            "         [0., 0., 0.,  ..., 0., 0., 0.],\n",
            "         ...,\n",
            "         [0., 0., 0.,  ..., 0., 0., 0.],\n",
            "         [0., 0., 0.,  ..., 0., 0., 0.],\n",
            "         [0., 0., 0.,  ..., 0., 0., 0.]],\n",
            "\n",
            "        [[0., 0., 0.,  ..., 0., 0., 0.],\n",
            "         [0., 0., 0.,  ..., 0., 0., 0.],\n",
            "         [0., 0., 0.,  ..., 0., 0., 0.],\n",
            "         ...,\n",
            "         [0., 0., 0.,  ..., 0., 0., 0.],\n",
            "         [0., 0., 0.,  ..., 0., 0., 0.],\n",
            "         [0., 0., 0.,  ..., 0., 0., 0.]],\n",
            "\n",
            "        [[0., 0., 0.,  ..., 0., 0., 0.],\n",
            "         [0., 0., 0.,  ..., 0., 0., 0.],\n",
            "         [0., 0., 0.,  ..., 0., 0., 0.],\n",
            "         ...,\n",
            "         [0., 0., 0.,  ..., 0., 0., 0.],\n",
            "         [0., 0., 0.,  ..., 0., 0., 0.],\n",
            "         [0., 0., 0.,  ..., 0., 0., 0.]]]), 0)\n",
            "(tensor([[[0., 0., 0.,  ..., 0., 0., 0.],\n",
            "         [0., 0., 0.,  ..., 0., 0., 0.],\n",
            "         [0., 0., 0.,  ..., 0., 0., 0.],\n",
            "         ...,\n",
            "         [0., 0., 0.,  ..., 0., 0., 0.],\n",
            "         [0., 0., 0.,  ..., 0., 0., 0.],\n",
            "         [0., 0., 0.,  ..., 0., 0., 0.]],\n",
            "\n",
            "        [[0., 0., 0.,  ..., 0., 0., 0.],\n",
            "         [0., 0., 0.,  ..., 0., 0., 0.],\n",
            "         [0., 0., 0.,  ..., 0., 0., 0.],\n",
            "         ...,\n",
            "         [0., 0., 0.,  ..., 0., 0., 0.],\n",
            "         [0., 0., 0.,  ..., 0., 0., 0.],\n",
            "         [0., 0., 0.,  ..., 0., 0., 0.]],\n",
            "\n",
            "        [[0., 0., 0.,  ..., 0., 0., 0.],\n",
            "         [0., 0., 0.,  ..., 0., 0., 0.],\n",
            "         [0., 0., 0.,  ..., 0., 0., 0.],\n",
            "         ...,\n",
            "         [0., 0., 0.,  ..., 0., 0., 0.],\n",
            "         [0., 0., 0.,  ..., 0., 0., 0.],\n",
            "         [0., 0., 0.,  ..., 0., 0., 0.]]]), 0)\n",
            "(tensor([[[0., 0., 0.,  ..., 0., 0., 0.],\n",
            "         [0., 0., 0.,  ..., 0., 0., 0.],\n",
            "         [0., 0., 0.,  ..., 0., 0., 0.],\n",
            "         ...,\n",
            "         [0., 0., 0.,  ..., 0., 0., 0.],\n",
            "         [0., 0., 0.,  ..., 0., 0., 0.],\n",
            "         [0., 0., 0.,  ..., 0., 0., 0.]],\n",
            "\n",
            "        [[0., 0., 0.,  ..., 0., 0., 0.],\n",
            "         [0., 0., 0.,  ..., 0., 0., 0.],\n",
            "         [0., 0., 0.,  ..., 0., 0., 0.],\n",
            "         ...,\n",
            "         [0., 0., 0.,  ..., 0., 0., 0.],\n",
            "         [0., 0., 0.,  ..., 0., 0., 0.],\n",
            "         [0., 0., 0.,  ..., 0., 0., 0.]],\n",
            "\n",
            "        [[0., 0., 0.,  ..., 0., 0., 0.],\n",
            "         [0., 0., 0.,  ..., 0., 0., 0.],\n",
            "         [0., 0., 0.,  ..., 0., 0., 0.],\n",
            "         ...,\n",
            "         [0., 0., 0.,  ..., 0., 0., 0.],\n",
            "         [0., 0., 0.,  ..., 0., 0., 0.],\n",
            "         [0., 0., 0.,  ..., 0., 0., 0.]]]), 0)\n"
          ]
        }
      ],
      "source": [
        "# Check the first few items in your dataset\n",
        "for i in range(10):\n",
        "    item = train_data[i]\n",
        "    print(item)"
      ]
    },
    {
      "cell_type": "code",
      "execution_count": null,
      "id": "0a545dd3",
      "metadata": {
        "id": "0a545dd3"
      },
      "outputs": [],
      "source": [
        "classes = train_data.classes\n",
        "n_classes = len(classes)"
      ]
    },
    {
      "cell_type": "code",
      "execution_count": null,
      "id": "52e79ff3",
      "metadata": {
        "id": "52e79ff3"
      },
      "outputs": [],
      "source": [
        "class LeukemiaResNet(pl.LightningModule):\n",
        "    def __init__(self, n_classes=2):\n",
        "        super(LeukemiaResNet, self).__init__()\n",
        "\n",
        "        # จำนวนของพันธุ์น้องหมา (120)\n",
        "        self.n_classes = n_classes\n",
        "\n",
        "        # ใช้สถาปัตยกรรม resnet34; เปลี่ยน layer สุดท้าย\n",
        "        self.backbone = models.resnet34(pretrained=True)\n",
        "        for param in self.backbone.parameters():\n",
        "            param.requires_grad = False\n",
        "        # เปลี่ยน fc layer เป็น output ขนาด 120\n",
        "        self.backbone.fc = torch.nn.Linear(self.backbone.fc.in_features, n_classes)\n",
        "\n",
        "        self.entropy_loss = nn.CrossEntropyLoss()\n",
        "        self.accuracy = Accuracy(task='binary')\n",
        "\n",
        "    def forward(self, x):\n",
        "        preds = self.backbone(x)\n",
        "        return pred\n",
        "\n",
        "    def training_step(self, batch, batch_idx):\n",
        "        x, y = batch\n",
        "        logits = self.backbone(x)\n",
        "        loss = self.entropy_loss(logits, y)\n",
        "        y_pred = torch.argmax(logits, dim=1)\n",
        "        self.log(\"train_loss\", loss)\n",
        "        self.log(\"train_acc\", self.accuracy(y_pred, y))\n",
        "        return loss\n",
        "\n",
        "    def validation_step(self, batch, batch_idx):\n",
        "        x, y = batch\n",
        "        logits = self.backbone(x)\n",
        "        loss = self.entropy_loss(logits, y)\n",
        "        y_pred = torch.argmax(logits, dim=1)\n",
        "        self.log(\"val_loss\", loss)\n",
        "        self.log(\"val_acc\", self.accuracy(y_pred, y))\n",
        "        return loss\n",
        "\n",
        "    def configure_optimizers(self):\n",
        "        self.optimizer = torch.optim.AdamW(self.parameters(), lr=1e-3)\n",
        "        return {\n",
        "            \"optimizer\": self.optimizer,\n",
        "            \"monitor\": \"val_loss\",\n",
        "        }"
      ]
    },
    {
      "cell_type": "code",
      "execution_count": null,
      "id": "c2b37de1",
      "metadata": {
        "id": "c2b37de1"
      },
      "outputs": [],
      "source": [
        "model =LeukemiaResNet(n_classes=n_classes)"
      ]
    },
    {
      "cell_type": "code",
      "execution_count": null,
      "id": "72f06a2d",
      "metadata": {
        "id": "72f06a2d",
        "outputId": "dd4a8035-e3c3-4234-9dfa-fbc06c6ef4c0"
      },
      "outputs": [
        {
          "name": "stdout",
          "output_type": "stream",
          "text": [
            "<torch.utils.data.dataloader.DataLoader object at 0x0000020AEE36F2B0>\n"
          ]
        }
      ],
      "source": [
        "print(train_loader)"
      ]
    },
    {
      "cell_type": "code",
      "execution_count": null,
      "id": "bd1b15f4",
      "metadata": {
        "id": "bd1b15f4"
      },
      "outputs": [],
      "source": [
        "checkpoint_callback = ModelCheckpoint(\n",
        "   dirpath=\"./checkpoints/dogbreed/\",\n",
        "   filename=\"resnet18--{epoch:02d}-{val_acc:.2f}-{val_loss:.2f}\",\n",
        "   save_top_k=1,\n",
        "   verbose=True,\n",
        "   monitor=\"val_loss\",\n",
        "   mode=\"min\",\n",
        ")"
      ]
    },
    {
      "cell_type": "code",
      "execution_count": null,
      "id": "6fd1a59f",
      "metadata": {
        "id": "6fd1a59f",
        "outputId": "d4395ae7-9507-4201-9ec4-ee3f611aac26",
        "colab": {
          "referenced_widgets": [
            "",
            "f3c884f7041a41b0837ddabbe7bad11d"
          ]
        }
      },
      "outputs": [
        {
          "name": "stderr",
          "output_type": "stream",
          "text": [
            "GPU available: False, used: False\n",
            "TPU available: False, using: 0 TPU cores\n",
            "IPU available: False, using: 0 IPUs\n",
            "HPU available: False, using: 0 HPUs\n",
            "\n",
            "  | Name         | Type             | Params\n",
            "--------------------------------------------------\n",
            "0 | backbone     | ResNet           | 21.3 M\n",
            "1 | entropy_loss | CrossEntropyLoss | 0     \n",
            "2 | accuracy     | BinaryAccuracy   | 0     \n",
            "--------------------------------------------------\n",
            "1.0 K     Trainable params\n",
            "21.3 M    Non-trainable params\n",
            "21.3 M    Total params\n",
            "85.143    Total estimated model params size (MB)\n"
          ]
        },
        {
          "data": {
            "application/vnd.jupyter.widget-view+json": {
              "model_id": "",
              "version_major": 2,
              "version_minor": 0
            },
            "text/plain": [
              "Sanity Checking: |          | 0/? [00:00<?, ?it/s]"
            ]
          },
          "metadata": {},
          "output_type": "display_data"
        },
        {
          "name": "stderr",
          "output_type": "stream",
          "text": [
            "C:\\Users\\USER\\anaconda3\\lib\\site-packages\\pytorch_lightning\\trainer\\connectors\\data_connector.py:441: The 'train_dataloader' does not have many workers which may be a bottleneck. Consider increasing the value of the `num_workers` argument` to `num_workers=15` in the `DataLoader` to improve performance.\n"
          ]
        },
        {
          "data": {
            "application/vnd.jupyter.widget-view+json": {
              "model_id": "f3c884f7041a41b0837ddabbe7bad11d",
              "version_major": 2,
              "version_minor": 0
            },
            "text/plain": [
              "Training: |          | 0/? [00:00<?, ?it/s]"
            ]
          },
          "metadata": {},
          "output_type": "display_data"
        },
        {
          "data": {
            "application/vnd.jupyter.widget-view+json": {
              "model_id": "",
              "version_major": 2,
              "version_minor": 0
            },
            "text/plain": [
              "Validation: |          | 0/? [00:00<?, ?it/s]"
            ]
          },
          "metadata": {},
          "output_type": "display_data"
        },
        {
          "name": "stderr",
          "output_type": "stream",
          "text": [
            "Epoch 0, global step 251: 'val_loss' reached 0.59492 (best 0.59492), saving model to 'C:\\\\Users\\\\USER\\\\BU Deeplearning\\\\checkpoints\\\\dogbreed\\\\resnet18--epoch=00-val_acc=0.71-val_loss=0.59.ckpt' as top 1\n"
          ]
        },
        {
          "data": {
            "application/vnd.jupyter.widget-view+json": {
              "model_id": "",
              "version_major": 2,
              "version_minor": 0
            },
            "text/plain": [
              "Validation: |          | 0/? [00:00<?, ?it/s]"
            ]
          },
          "metadata": {},
          "output_type": "display_data"
        },
        {
          "name": "stderr",
          "output_type": "stream",
          "text": [
            "Epoch 1, global step 502: 'val_loss' was not in top 1\n",
            "`Trainer.fit` stopped: `max_epochs=2` reached.\n"
          ]
        }
      ],
      "source": [
        "trainer = pl.Trainer(max_epochs=2,  callbacks=[checkpoint_callback])\n",
        "trainer.fit(model, train_dataloaders=train_loader, val_dataloaders=val_loader)"
      ]
    },
    {
      "cell_type": "code",
      "execution_count": null,
      "id": "5b093a6f",
      "metadata": {
        "id": "5b093a6f"
      },
      "outputs": [],
      "source": []
    }
  ],
  "metadata": {
    "kernelspec": {
      "display_name": "Python 3",
      "name": "python3"
    },
    "language_info": {
      "codemirror_mode": {
        "name": "ipython",
        "version": 3
      },
      "file_extension": ".py",
      "mimetype": "text/x-python",
      "name": "python",
      "nbconvert_exporter": "python",
      "pygments_lexer": "ipython3",
      "version": "3.10.9"
    },
    "colab": {
      "provenance": []
    },
    "accelerator": "TPU"
  },
  "nbformat": 4,
  "nbformat_minor": 5
}